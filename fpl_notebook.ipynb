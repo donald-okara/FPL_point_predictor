{
  "cells": [
    {
      "cell_type": "markdown",
      "metadata": {
        "id": "UBt92HKSmBoE"
      },
      "source": [
        "# 1. Teams Filtering"
      ]
    },
    {
      "cell_type": "markdown",
      "metadata": {
        "id": "4kgC6MQLmBoI"
      },
      "source": [
        "The link to all these APIs is: https://www.game-change.co.uk/2023/02/10/a-complete-guide-to-the-fantasy-premier-league-fpl-api/\n",
        "\n",
        "Descriptions of each dataframe are in the notes."
      ]
    },
    {
      "cell_type": "code",
      "execution_count": null,
      "metadata": {
        "id": "SOEwBIACmBoJ"
      },
      "outputs": [],
      "source": [
        "#Importing libraries\n",
        "\n",
        "import pandas as pd\n",
        "import numpy as np\n",
        "import seaborn as sns\n",
        "import matplotlib.pyplot as plt\n",
        "import requests\n",
        "\n",
        "print(\"Libraries imported successfully......\")"
      ]
    },
    {
      "cell_type": "markdown",
      "metadata": {
        "id": "yf0JydcxmBoL"
      },
      "source": [
        "### i. Add fixture data to the teams data"
      ]
    },
    {
      "cell_type": "markdown",
      "metadata": {
        "id": "TjejaYfxmBoM"
      },
      "source": [
        "a) Teams DF"
      ]
    },
    {
      "cell_type": "code",
      "execution_count": null,
      "metadata": {
        "id": "ljg21HQpmBoM"
      },
      "outputs": [],
      "source": [
        "# Imported full data from last seasons\n",
        "\n",
        "url = 'https://fantasy.premierleague.com/api/bootstrap-static/'\n",
        "r = requests.get(url)\n",
        "json = r.json()\n",
        "\n",
        "\n",
        "#Convert to df\n",
        "\n",
        "elements_df = pd.DataFrame(json['elements'])\n",
        "elements_types_df = pd.DataFrame(json['element_types'])\n",
        "teams_df = pd.DataFrame(json['teams'])"
      ]
    },
    {
      "cell_type": "code",
      "source": [
        "elements_df = elements_df.rename(columns={'element_type': 'Position'})\n"
      ],
      "metadata": {
        "id": "MqEiFEKfVJzC"
      },
      "execution_count": null,
      "outputs": []
    },
    {
      "cell_type": "code",
      "source": [
        "def get_position(Position):\n",
        "    for idx, row in elements_types_df.iterrows():\n",
        "        if Position == row['id']:\n",
        "          return row['plural_name_short']\n",
        "    return None  # Return None if no matching fixture is found\n",
        "\n",
        "elements_df['Position'] = elements_df['Position'].apply(get_position)\n"
      ],
      "metadata": {
        "id": "Yugff_ppWX-X"
      },
      "execution_count": null,
      "outputs": []
    },
    {
      "cell_type": "code",
      "execution_count": null,
      "metadata": {
        "id": "44FHtKa0mBoN"
      },
      "outputs": [],
      "source": [
        "def append_event_id(teams_df):\n",
        "    # Create an empty DataFrame to store the expanded data\n",
        "    expanded_df = pd.DataFrame()\n",
        "\n",
        "    # Iterate through events from 1 to 38\n",
        "    for event_id in range(1, 39):\n",
        "        # Create a temporary DataFrame for the current event\n",
        "        temp_df = teams_df.copy()\n",
        "\n",
        "        # Set the 'event_id' column to the current event ID\n",
        "        temp_df['event_id'] = event_id\n",
        "\n",
        "        # Append the temporary DataFrame to the expanded DataFrame\n",
        "        expanded_df = pd.concat([expanded_df, temp_df], ignore_index=True)\n",
        "\n",
        "    return expanded_df\n",
        "\n",
        "# Call the function to create an expanded DataFrame with 'event_id'\n",
        "expanded_teams_df = append_event_id(teams_df)\n"
      ]
    },
    {
      "cell_type": "markdown",
      "metadata": {
        "id": "0mxXL_ETmBoO"
      },
      "source": [
        "b) Fixture DF"
      ]
    },
    {
      "cell_type": "code",
      "execution_count": null,
      "metadata": {
        "id": "-MzSzvLNmBoO"
      },
      "outputs": [],
      "source": [
        "import requests\n",
        "import pandas as pd\n",
        "\n",
        "def fetch_fixture_data(event_id):\n",
        "    # Define the base URL with the event_id\n",
        "    base_url = f'https://fantasy.premierleague.com/api/fixtures/?event={event_id}'\n",
        "\n",
        "    # Replace the placeholder '{}' with the actual event_id\n",
        "    formatted_url = base_url.format(event_id)\n",
        "\n",
        "    # Send an HTTP GET request to the API endpoint\n",
        "    response = requests.get(formatted_url)\n",
        "\n",
        "    # Check if the request was successful (status code 200)\n",
        "    if response.status_code == 200:\n",
        "        # Parse the JSON response to get fixture data\n",
        "        fixture_json = response.json()\n",
        "\n",
        "        # Create a DataFrame from the fixture data\n",
        "        fixture_data = pd.DataFrame(fixture_json)\n",
        "\n",
        "        return fixture_data\n",
        "    else:\n",
        "        print(f\"Request failed for event {event_id} with status code {response.status_code}\")\n",
        "        return None  # Return None in case of a failed request\n"
      ]
    },
    {
      "cell_type": "code",
      "execution_count": null,
      "metadata": {
        "id": "-Zcv_Ec3mBoP"
      },
      "outputs": [],
      "source": [
        "# Create an empty DataFrame to store the expanded fixture data\n",
        "expanded_fixture_df = pd.DataFrame()\n",
        "\n",
        "# Iterate through events from 1 to 38\n",
        "for event_id in range(1, 39):\n",
        "# Get fixture data for the current event\n",
        "    fixture_data = fetch_fixture_data(event_id)\n",
        "\n",
        "    # Create a temporary DataFrame for the fixture data\n",
        "    temp_df = fixture_data.copy()\n",
        "\n",
        "    # Set the 'event_id' column to the current event ID\n",
        "    temp_df['event_id'] = event_id\n",
        "\n",
        "    # Append the temporary DataFrame to the expanded fixture DataFrame\n",
        "    expanded_fixture_df = pd.concat([expanded_fixture_df, temp_df], ignore_index=True)\n",
        "\n",
        ""
      ]
    },
    {
      "cell_type": "code",
      "execution_count": null,
      "metadata": {
        "id": "bIyUbKp3mBoQ"
      },
      "outputs": [],
      "source": [
        "# Renaming columns\n",
        "expanded_teams_df = expanded_teams_df.rename(columns={'name' : 'team_name', 'id':'team_id', 'short_name' : 'team_short_name'})\n",
        "expanded_fixture_df = expanded_fixture_df.rename(columns={'id':'fixture_id'})"
      ]
    },
    {
      "cell_type": "markdown",
      "metadata": {
        "id": "QQgQK5O8mBoQ"
      },
      "source": [
        "#### i.i) Get fixture id"
      ]
    },
    {
      "cell_type": "code",
      "execution_count": null,
      "metadata": {
        "id": "kPnxS_lnmBoR"
      },
      "outputs": [],
      "source": [
        "def get_fixture_id(event_id,team_id):\n",
        "    for idx, row in expanded_fixture_df.iterrows():\n",
        "        if event_id == row['event_id']:\n",
        "            if team_id == row['team_a'] or team_id == row['team_h']:\n",
        "                return row['fixture_id']\n",
        "    return None  # Return None if no matching fixture is found\n",
        "\n",
        "# Assuming you want to calculate and assign fixture IDs for all teams in teams_df\n",
        "expanded_teams_df['fixture_id'] = expanded_teams_df.apply(lambda row: get_fixture_id(row['event_id'], row['team_id']), axis=1)\n"
      ]
    },
    {
      "cell_type": "markdown",
      "metadata": {
        "id": "hDuKZxFUmBoR"
      },
      "source": [
        "#### i.ii) Get fixture difficulty\n",
        "\n"
      ]
    },
    {
      "cell_type": "code",
      "execution_count": null,
      "metadata": {
        "id": "6kaHlDGwmBoR"
      },
      "outputs": [],
      "source": [
        "def get_fixture_difficulty(team_id, fixture_id):\n",
        "    for idx, row in expanded_fixture_df.iterrows():\n",
        "        if fixture_id == row['fixture_id']:\n",
        "            if team_id == row['team_a']:\n",
        "                return row['team_a_difficulty']\n",
        "\n",
        "            elif team_id == row['team_h']:\n",
        "                return row['team_h_difficulty']\n",
        "    return None  # Return None if no matching fixture is found\n",
        "\n",
        "# Assuming you want to calculate and assign fixture difficulties for all teams in teams_df\n",
        "expanded_teams_df['fixture_difficulty'] = expanded_teams_df.apply(lambda row: get_fixture_difficulty(row['team_id'], row['fixture_id']), axis=1)\n"
      ]
    },
    {
      "cell_type": "markdown",
      "metadata": {
        "id": "cBV4uDo8mBoS"
      },
      "source": [
        "#### i.iii) Team and opponent score"
      ]
    },
    {
      "cell_type": "code",
      "execution_count": null,
      "metadata": {
        "id": "36vgA70PmBoS"
      },
      "outputs": [],
      "source": [
        "def get_opponent_team(team_id, fixture_id):\n",
        "    for idx, row in expanded_fixture_df.iterrows():\n",
        "        if fixture_id == row['fixture_id']:\n",
        "            if team_id == row['team_a']:\n",
        "                return row['team_h']\n",
        "\n",
        "            elif team_id == row['team_h']:\n",
        "                return row['team_a']\n",
        "    return None  # Return None if no matching fixture is found\n",
        "\n",
        "# Assuming you want to calculate and assign fixture difficulties for all teams in teams_df\n",
        "expanded_teams_df['opponent_team'] = expanded_teams_df.apply(lambda row: get_opponent_team(row['team_id'], row['fixture_id']), axis=1)\n"
      ]
    },
    {
      "cell_type": "code",
      "execution_count": null,
      "metadata": {
        "id": "C3IFM8c1mBoS"
      },
      "outputs": [],
      "source": [
        "def get_opponent_score(team_id, fixture_id):\n",
        "    for idx, row in expanded_fixture_df.iterrows():\n",
        "        if fixture_id == row['fixture_id']:\n",
        "            if team_id == row['team_a']:\n",
        "                return row['team_h_score']\n",
        "\n",
        "            elif team_id == row['team_h']:\n",
        "                return row['team_a_score']\n",
        "    return None  # Return None if no matching fixture is found\n",
        "\n",
        "# Assuming you want to calculate and assign fixture difficulties for all teams in teams_df\n",
        "expanded_teams_df['opponent_score'] = expanded_teams_df.apply(lambda row: get_opponent_score(row['team_id'], row['fixture_id']), axis=1)\n"
      ]
    },
    {
      "cell_type": "code",
      "execution_count": null,
      "metadata": {
        "id": "uioMuULJmBoS"
      },
      "outputs": [],
      "source": [
        "def get_team_score(team_id, fixture_id):\n",
        "    for idx, row in expanded_fixture_df.iterrows():\n",
        "        if fixture_id == row['fixture_id']:\n",
        "            if team_id == row['team_a']:\n",
        "                return row['team_a_score']\n",
        "\n",
        "            elif team_id == row['team_h']:\n",
        "                return row['team_h_score']\n",
        "    return None  # Return None if no matching fixture is found\n",
        "\n",
        "# Assuming you want to calculate and assign fixture difficulties for all teams in teams_df\n",
        "expanded_teams_df['team_score'] = expanded_teams_df.apply(lambda row: get_team_score(row['team_id'], row['fixture_id']), axis=1)\n"
      ]
    },
    {
      "cell_type": "code",
      "execution_count": null,
      "metadata": {
        "id": "Z1DA5ugXmBoS"
      },
      "outputs": [],
      "source": [
        "def get_finished_status(team_id, fixture_id):\n",
        "    for idx, row in expanded_fixture_df.iterrows():\n",
        "        if fixture_id == row['fixture_id']:\n",
        "            return row['finished']\n",
        "\n",
        "\n",
        "\n",
        "# Assuming you want to calculate and assign fixture difficulties for all teams in teams_df\n",
        "expanded_teams_df['Game_played'] = expanded_teams_df.apply(lambda row: get_finished_status(row['team_id'], row['fixture_id']), axis=1)"
      ]
    },
    {
      "cell_type": "markdown",
      "metadata": {
        "id": "Hnk1BQIJmBoT"
      },
      "source": [
        "#### i.iv) If fixture is home"
      ]
    },
    {
      "cell_type": "code",
      "execution_count": null,
      "metadata": {
        "id": "slLa9Y8NmBoT"
      },
      "outputs": [],
      "source": [
        "def get_home_status(team_id, fixture_id):\n",
        "    for idx, row in expanded_fixture_df.iterrows():\n",
        "        if fixture_id == row['fixture_id']:\n",
        "            if team_id == row['team_a']:\n",
        "                return False\n",
        "\n",
        "            elif team_id == row['team_h']:\n",
        "                return True\n",
        "    return None  # Return None if no matching fixture is found\n",
        "\n",
        "# Assuming you want to calculate and assign fixture difficulties for all teams in teams_df\n",
        "expanded_teams_df['is_home'] = expanded_teams_df.apply(lambda row: get_home_status(row['team_id'], row['fixture_id']), axis=1)\n"
      ]
    },
    {
      "cell_type": "markdown",
      "metadata": {
        "id": "86wNmnl2mBoT"
      },
      "source": [
        "#### i.v) If deadline passed"
      ]
    },
    {
      "cell_type": "code",
      "execution_count": null,
      "metadata": {
        "id": "C_MOM7TFmBoT"
      },
      "outputs": [],
      "source": [
        "def get_kickoff_time(team_id, fixture_id):\n",
        "    for idx, row in expanded_fixture_df.iterrows():\n",
        "        if fixture_id == row['fixture_id']:\n",
        "            return row['kickoff_time']\n",
        "\n",
        "\n",
        "\n",
        "# Assuming you want to calculate and assign fixture difficulties for all teams in teams_df\n",
        "expanded_teams_df['kickoff_time'] = expanded_teams_df.apply(lambda row: get_kickoff_time(row['team_id'], row['fixture_id']), axis=1)"
      ]
    },
    {
      "cell_type": "code",
      "execution_count": null,
      "metadata": {
        "id": "sU2IXMyqmBoT"
      },
      "outputs": [],
      "source": [
        "def started(team_id, fixture_id):\n",
        "    for idx, row in expanded_fixture_df.iterrows():\n",
        "        if fixture_id == row['fixture_id']:\n",
        "            return row['started']\n",
        "\n",
        "\n",
        "\n",
        "# Assuming you want to calculate and assign fixture difficulties for all teams in teams_df\n",
        "expanded_teams_df['started'] = expanded_teams_df.apply(lambda row: started(row['team_id'], row['fixture_id']), axis=1)"
      ]
    },
    {
      "cell_type": "markdown",
      "metadata": {
        "id": "9SPeXyz6mBoU"
      },
      "source": [
        "Gameweek Deadline variable"
      ]
    },
    {
      "cell_type": "code",
      "execution_count": null,
      "metadata": {
        "id": "mI1zM1_rmBoU"
      },
      "outputs": [],
      "source": [
        "expanded_teams_df['kickoff_time'] = pd.to_datetime(expanded_teams_df['kickoff_time'])\n"
      ]
    },
    {
      "cell_type": "code",
      "execution_count": null,
      "metadata": {
        "id": "IiswjX5dmBoU"
      },
      "outputs": [],
      "source": [
        "from datetime import timedelta\n",
        "\n",
        "\n",
        "# Filter the DataFrame to get events where 'started' is False\n",
        "filtered_events = expanded_teams_df[expanded_teams_df['started'] == False]\n",
        "\n",
        "# Sort the filtered events by 'kickoff_time' in ascending order\n",
        "filtered_events = filtered_events.sort_values(by='kickoff_time')\n",
        "\n",
        "# Get the first event in the sorted list\n",
        "first_event = filtered_events.iloc[0]\n",
        "\n",
        "# Calculate an hour before the 'kickoff_time' of the first event\n",
        "Gameweek_Deadline = first_event['kickoff_time'] - timedelta(hours=1)\n",
        "\n",
        "# You can now use Gameweek_Deadline as your constant\n",
        "print(\"Gameweek_Deadline:\", Gameweek_Deadline)"
      ]
    },
    {
      "cell_type": "markdown",
      "metadata": {
        "id": "reEZI_PNmBoU"
      },
      "source": [
        "### ii. Feature Engineering for team data"
      ]
    },
    {
      "cell_type": "code",
      "execution_count": null,
      "metadata": {
        "id": "5KWJLkFOmBoU"
      },
      "outputs": [],
      "source": [
        "# List of columns to drop\n",
        "columns_to_drop = ['played', 'points', 'position','strength_overall_home', 'strength_overall_away',\n",
        "       'strength_attack_home', 'strength_attack_away', 'strength_defence_home',\n",
        "       'strength_defence_away','draw', 'form','strength','win','loss','team_division']\n",
        "\n",
        "# Use the drop method to remove the specified columns\n",
        "expanded_teams_df.drop(columns=columns_to_drop, inplace=True)\n"
      ]
    },
    {
      "cell_type": "code",
      "execution_count": null,
      "metadata": {
        "id": "IDOov6y-mBoV"
      },
      "outputs": [],
      "source": [
        "expanded_teams_df = expanded_teams_df.sort_values(by='kickoff_time')\n"
      ]
    },
    {
      "cell_type": "code",
      "execution_count": null,
      "metadata": {
        "id": "0_dHg5MjmBoV"
      },
      "outputs": [],
      "source": [
        "teams = expanded_teams_df\n"
      ]
    },
    {
      "cell_type": "markdown",
      "metadata": {
        "id": "I0-LPMNLmBoV"
      },
      "source": [
        "### General Stats"
      ]
    },
    {
      "cell_type": "markdown",
      "metadata": {
        "id": "E_dZ1FdSmBoW"
      },
      "source": [
        "Games played\n"
      ]
    },
    {
      "cell_type": "code",
      "execution_count": null,
      "metadata": {
        "id": "htqqLN_RmBoW"
      },
      "outputs": [],
      "source": [
        "# Convert 'Game_played' column to integers (1 for True, 0 for False)\n",
        "teams['Game_played'].fillna(False, inplace=True)\n",
        "teams['Game_played'] = teams['Game_played'].astype(int)\n",
        "\n",
        "# Calculate cumulative 'Games_Count' for each row\n",
        "teams['Games_Count'] = teams.groupby(['team_id', 'team_name'])['Game_played'].cumsum()\n",
        "\n"
      ]
    },
    {
      "cell_type": "markdown",
      "metadata": {
        "id": "DkT3dfsqmBoW"
      },
      "source": [
        "Total goals"
      ]
    },
    {
      "cell_type": "code",
      "execution_count": null,
      "metadata": {
        "id": "q1w17AZAmBoW"
      },
      "outputs": [],
      "source": [
        "teams['Total_Goals'] = teams.groupby(['team_id', 'team_name'])['team_score'].cumsum()\n"
      ]
    },
    {
      "cell_type": "markdown",
      "metadata": {
        "id": "FLSZtHyXmBoX"
      },
      "source": [
        "Goals per game"
      ]
    },
    {
      "cell_type": "code",
      "execution_count": null,
      "metadata": {
        "id": "Tcwlmm7UmBoX"
      },
      "outputs": [],
      "source": [
        "teams['Goals_per_game'] = teams['Total_Goals'] / teams['Games_Count']"
      ]
    },
    {
      "cell_type": "markdown",
      "metadata": {
        "id": "BZdjsJx-mBoj"
      },
      "source": [
        "Goals conceded"
      ]
    },
    {
      "cell_type": "code",
      "execution_count": null,
      "metadata": {
        "id": "oR3b1-IgmBok"
      },
      "outputs": [],
      "source": [
        "teams['Total_Conceded'] = teams.groupby(['team_id', 'team_name'])['opponent_score'].cumsum()\n"
      ]
    },
    {
      "cell_type": "code",
      "execution_count": null,
      "metadata": {
        "id": "17Bbttz7mBok"
      },
      "outputs": [],
      "source": [
        "teams['Conceded_per_game'] = teams['Total_Conceded'] / teams['Games_Count']"
      ]
    },
    {
      "cell_type": "markdown",
      "metadata": {
        "id": "dxnKl19OmBok"
      },
      "source": [
        "Win"
      ]
    },
    {
      "cell_type": "code",
      "execution_count": null,
      "metadata": {
        "id": "H_-RahRbmBok"
      },
      "outputs": [],
      "source": [
        "teams['Win'] = teams['team_score'] > teams['opponent_score']\n",
        "teams['Win'] = teams['Win'].astype(int)\n"
      ]
    },
    {
      "cell_type": "markdown",
      "metadata": {
        "id": "rdo_pCQhmBol"
      },
      "source": [
        "Draw"
      ]
    },
    {
      "cell_type": "code",
      "execution_count": null,
      "metadata": {
        "id": "LCmIrf80mBol"
      },
      "outputs": [],
      "source": [
        "teams['Draw'] = teams['team_score'] == teams['opponent_score']\n",
        "teams['Draw'] = teams['Draw'].astype(int)"
      ]
    },
    {
      "cell_type": "markdown",
      "metadata": {
        "id": "ETy9QqshmBol"
      },
      "source": [
        "Loss"
      ]
    },
    {
      "cell_type": "code",
      "execution_count": null,
      "metadata": {
        "id": "m8RVVoFRmBol"
      },
      "outputs": [],
      "source": [
        "teams['Loss'] = teams['team_score'] < teams['opponent_score']\n",
        "teams['Loss'] = teams['Loss'].astype(int)"
      ]
    },
    {
      "cell_type": "markdown",
      "metadata": {
        "id": "Awkj2PY0mBol"
      },
      "source": [
        "Total wins"
      ]
    },
    {
      "cell_type": "code",
      "execution_count": null,
      "metadata": {
        "id": "9FHE8C0vmBom"
      },
      "outputs": [],
      "source": [
        "teams['Total_wins'] = teams.groupby(['team_id', 'team_name'])['Win'].cumsum()\n"
      ]
    },
    {
      "cell_type": "markdown",
      "metadata": {
        "id": "5PpL_yVUmBom"
      },
      "source": [
        "Win percentage"
      ]
    },
    {
      "cell_type": "code",
      "execution_count": null,
      "metadata": {
        "id": "OCp8YZLKmBom"
      },
      "outputs": [],
      "source": [
        "teams['Win_percentage'] = (teams['Total_wins'] / teams['Games_Count']) * 100"
      ]
    },
    {
      "cell_type": "markdown",
      "metadata": {
        "id": "xE5F8IRymBom"
      },
      "source": [
        "Game Results"
      ]
    },
    {
      "cell_type": "code",
      "execution_count": null,
      "metadata": {
        "id": "xu4M2s2WmBom"
      },
      "outputs": [],
      "source": [
        "teams['result'] = teams.apply(lambda row: 1 if row['Win'] else (-1 if row['Loss'] else 0), axis=1)\n"
      ]
    },
    {
      "cell_type": "markdown",
      "metadata": {
        "id": "A9tWMd-PmBon"
      },
      "source": [
        "Form"
      ]
    },
    {
      "cell_type": "code",
      "execution_count": null,
      "metadata": {
        "id": "4dxo82qJmBon"
      },
      "outputs": [],
      "source": [
        "def calculate_form(group, num_games):\n",
        "    forms = []\n",
        "    current_form = \"\"\n",
        "\n",
        "    for i, row in group.iterrows():\n",
        "        result = row['result']\n",
        "        if row['Game_played'] == True:\n",
        "            if result == 1:\n",
        "                current_form += 'W'\n",
        "            elif result == -1:\n",
        "                current_form += 'L'\n",
        "            else:\n",
        "                current_form += 'D'\n",
        "\n",
        "            if len(current_form) > num_games:\n",
        "                current_form = current_form[1:]\n",
        "\n",
        "            forms.append(current_form)\n",
        "\n",
        "        else:\n",
        "            forms.append(None)\n",
        "    return forms\n",
        "\n",
        "# Calculate the form for each specific 'team_id' and assign it to the 'Form' column for that team\n",
        "unique_team_ids = teams['team_id'].unique()\n",
        "for team_id in unique_team_ids:\n",
        "    team_subset = teams[teams['team_id'] == team_id]\n",
        "    team_forms = calculate_form(team_subset, 5)\n",
        "    teams.loc[teams['team_id'] == team_id, 'Form'] = team_forms\n",
        "\n",
        "\n"
      ]
    },
    {
      "cell_type": "markdown",
      "metadata": {
        "id": "Z70JlJMdmBon"
      },
      "source": [
        "Numeric Form"
      ]
    },
    {
      "cell_type": "code",
      "execution_count": null,
      "metadata": {
        "id": "De8Y7GzXmBoo"
      },
      "outputs": [],
      "source": [
        "def calculate_numerical_form(group, num_games):\n",
        "    numerical_forms = []\n",
        "    current_form = []\n",
        "\n",
        "    for i, row in group.iterrows():\n",
        "        result = row['result']\n",
        "        game_played = row['Game_played']\n",
        "\n",
        "        if game_played:\n",
        "            # Assign weights based on the position in the form\n",
        "            weight = 1 + i / num_games\n",
        "\n",
        "            if result == 1:\n",
        "                value = 1\n",
        "            elif result == -1:\n",
        "                value = -1\n",
        "            else:\n",
        "                value = 0\n",
        "\n",
        "            current_form.append(value * weight)\n",
        "\n",
        "            if len(current_form) > num_games:\n",
        "                current_form.pop(0)\n",
        "\n",
        "            numerical_form = sum(current_form) / len(current_form)\n",
        "            numerical_forms.append(numerical_form)\n",
        "\n",
        "        else:\n",
        "            numerical_forms.append(None)  # Append None for games that haven't been played\n",
        "\n",
        "    return numerical_forms\n",
        "\n",
        "# Calculate the numerical form for each specific 'team_id' and assign it to the 'Numerical_Form' column for that team\n",
        "unique_team_ids = teams['team_id'].unique()\n",
        "for team_id in unique_team_ids:\n",
        "    team_subset = teams[teams['team_id'] == team_id]\n",
        "    team_numerical_forms = calculate_numerical_form(team_subset, 5)\n",
        "    teams.loc[teams['team_id'] == team_id, 'Numerical_Form'] = team_numerical_forms\n",
        "\n"
      ]
    },
    {
      "cell_type": "markdown",
      "metadata": {
        "id": "xFpbjV9mmBoo"
      },
      "source": [
        "Team strength"
      ]
    },
    {
      "cell_type": "code",
      "execution_count": null,
      "metadata": {
        "id": "5PSzZ-eBmBoo"
      },
      "outputs": [],
      "source": [
        "teams['Strength'] = teams['Numerical_Form']*2.5 + teams['fixture_difficulty']*2.0 + teams['Win_percentage']*2.0 + teams['Goals_per_game'] + teams['Conceded_per_game']*-1.0"
      ]
    },
    {
      "cell_type": "code",
      "execution_count": null,
      "metadata": {
        "id": "5sNTwXDOmBoo"
      },
      "outputs": [],
      "source": [
        "Liverpool = teams[teams['team_id'] == 11]\n",
        "Liverpool"
      ]
    },
    {
      "cell_type": "markdown",
      "metadata": {
        "id": "H3OMXcXqmBoo"
      },
      "source": [
        "### Home Stats"
      ]
    },
    {
      "cell_type": "markdown",
      "metadata": {
        "id": "aQ-eGFK6mBop"
      },
      "source": [
        "Games played home"
      ]
    },
    {
      "cell_type": "code",
      "execution_count": null,
      "metadata": {
        "id": "4FpDBreDmBop"
      },
      "outputs": [],
      "source": [
        "# Calculate cumulative 'Games_Count' for each row\n",
        "teams['Home_Count'] = teams[teams['is_home'] == True].groupby(['team_id', 'team_name'])['Game_played'].cumsum()\n",
        "\n"
      ]
    },
    {
      "cell_type": "markdown",
      "metadata": {
        "id": "bztaGypNmBop"
      },
      "source": [
        "Goals at home"
      ]
    },
    {
      "cell_type": "code",
      "execution_count": null,
      "metadata": {
        "id": "QAlOsLDemBop"
      },
      "outputs": [],
      "source": [
        "teams['Home_Goals'] = teams[teams['is_home'] == True].groupby(['team_id', 'team_name'])['team_score'].cumsum()\n"
      ]
    },
    {
      "cell_type": "markdown",
      "metadata": {
        "id": "AVLrYPAKmBoq"
      },
      "source": [
        "Goals per home game"
      ]
    },
    {
      "cell_type": "code",
      "execution_count": null,
      "metadata": {
        "id": "jdIQcOwUmBoq"
      },
      "outputs": [],
      "source": [
        "teams['Goals_per_home'] = teams.apply(lambda row: row['Total_Goals'] / row['Home_Count'] if row['is_home'] else None, axis=1)\n"
      ]
    },
    {
      "cell_type": "markdown",
      "metadata": {
        "id": "HLxq_cyymBoq"
      },
      "source": [
        "Goals conceded at home"
      ]
    },
    {
      "cell_type": "code",
      "execution_count": null,
      "metadata": {
        "id": "VyowDESgmBoq"
      },
      "outputs": [],
      "source": [
        "teams['Home_Conceded'] = teams[teams['is_home'] == True].groupby(['team_id', 'team_name'])['opponent_score'].cumsum()\n"
      ]
    },
    {
      "cell_type": "markdown",
      "metadata": {
        "id": "1ugAYvqSmBor"
      },
      "source": [
        "Conceded per home game"
      ]
    },
    {
      "cell_type": "code",
      "execution_count": null,
      "metadata": {
        "id": "jKJAIVSEmBor"
      },
      "outputs": [],
      "source": [
        "teams['Conceded_per_home'] = teams.apply(lambda row: row['Home_Conceded'] / row['Home_Count'] if row['is_home'] else None, axis=1)\n"
      ]
    },
    {
      "cell_type": "markdown",
      "metadata": {
        "id": "99Kz8eNjmBor"
      },
      "source": [
        "Total home wins"
      ]
    },
    {
      "cell_type": "code",
      "execution_count": null,
      "metadata": {
        "id": "qwcd0glXmBor"
      },
      "outputs": [],
      "source": [
        "teams['Total_Home_wins'] = teams[teams['is_home'] == True].groupby(['team_id', 'team_name'])['Win'].cumsum()\n"
      ]
    },
    {
      "cell_type": "markdown",
      "metadata": {
        "id": "oVezGdpNmBor"
      },
      "source": [
        "Home Win percentage"
      ]
    },
    {
      "cell_type": "code",
      "execution_count": null,
      "metadata": {
        "id": "qtIxB9jomBos"
      },
      "outputs": [],
      "source": [
        "teams['Home_Win_percentage'] = (teams['Total_Home_wins'] / teams['Home_Count']) * 100"
      ]
    },
    {
      "cell_type": "markdown",
      "metadata": {
        "id": "gMNAlbjOmBos"
      },
      "source": [
        "Home Form"
      ]
    },
    {
      "cell_type": "code",
      "execution_count": null,
      "metadata": {
        "id": "hDLLcY9FmBos"
      },
      "outputs": [],
      "source": [
        "def calculate_form_home(group, num_games):\n",
        "    forms = []\n",
        "    current_form = \"\"\n",
        "\n",
        "    for i, row in group.iterrows():\n",
        "        result = row['result']\n",
        "        if row['Game_played'] == True and row['is_home'] == True:\n",
        "            if result == 1:\n",
        "                current_form += 'W'\n",
        "            elif result == -1:\n",
        "                current_form += 'L'\n",
        "            else:\n",
        "                current_form += 'D'\n",
        "\n",
        "            if len(current_form) > num_games:\n",
        "                current_form = current_form[1:]\n",
        "\n",
        "            forms.append(current_form)\n",
        "\n",
        "        else:\n",
        "            forms.append(None)\n",
        "    return forms\n",
        "\n",
        "# Calculate the form for each specific 'team_id' and assign it to the 'Form' column for that team\n",
        "unique_team_ids = teams['team_id'].unique()\n",
        "for team_id in unique_team_ids:\n",
        "    team_subset = teams[teams['team_id'] == team_id]\n",
        "    team_forms = calculate_form_home(team_subset, 5)\n",
        "    teams.loc[teams['team_id'] == team_id, 'Home_Form'] = team_forms\n",
        "\n",
        "\n"
      ]
    },
    {
      "cell_type": "markdown",
      "metadata": {
        "id": "tB6R1E34mBos"
      },
      "source": [
        "Home Numeric Form"
      ]
    },
    {
      "cell_type": "code",
      "execution_count": null,
      "metadata": {
        "id": "UcCHn8g5mBot"
      },
      "outputs": [],
      "source": [
        "def calculate_numerical_form_home(group, num_games):\n",
        "    numerical_forms = []\n",
        "    current_form = []\n",
        "\n",
        "    for i, row in group.iterrows():\n",
        "        result = row['result']\n",
        "        game_played = row['Game_played']\n",
        "\n",
        "        if game_played and row['is_home'] == True:\n",
        "            # Assign weights based on the position in the form\n",
        "            weight = 1 + i / num_games\n",
        "\n",
        "            if result == 1:\n",
        "                value = 1\n",
        "            elif result == -1:\n",
        "                value = -1\n",
        "            else:\n",
        "                value = 0\n",
        "\n",
        "            current_form.append(value * weight)\n",
        "\n",
        "            if len(current_form) > num_games:\n",
        "                current_form.pop(0)\n",
        "\n",
        "            numerical_form = sum(current_form) / len(current_form)\n",
        "            numerical_forms.append(numerical_form)\n",
        "\n",
        "        else:\n",
        "            numerical_forms.append(None)  # Append None for games that haven't been played\n",
        "\n",
        "    return numerical_forms\n",
        "\n",
        "# Calculate the numerical form for each specific 'team_id' and assign it to the 'Numerical_Form' column for that team\n",
        "unique_team_ids = teams['team_id'].unique()\n",
        "for team_id in unique_team_ids:\n",
        "    team_subset = teams[teams['team_id'] == team_id]\n",
        "    team_numerical_forms = calculate_numerical_form_home(team_subset, 5)\n",
        "    teams.loc[teams['team_id'] == team_id, 'Home_Numerical_Form'] = team_numerical_forms\n",
        "\n"
      ]
    },
    {
      "cell_type": "code",
      "execution_count": null,
      "metadata": {
        "id": "v_18zbFDmBot"
      },
      "outputs": [],
      "source": [
        "teams['Home_Strength'] = teams['Home_Numerical_Form']*2.5 + teams['fixture_difficulty']*2.0 + teams['Home_Win_percentage']*2.0 + teams['Goals_per_home'] + teams['Conceded_per_home']*-1.0"
      ]
    },
    {
      "cell_type": "markdown",
      "metadata": {
        "id": "rBvN6gmmmBot"
      },
      "source": [
        "### Away Stats"
      ]
    },
    {
      "cell_type": "markdown",
      "metadata": {
        "id": "SaZS0ZMPmBot"
      },
      "source": [
        "Games played away"
      ]
    },
    {
      "cell_type": "code",
      "execution_count": null,
      "metadata": {
        "id": "7gEFrMy8mBou"
      },
      "outputs": [],
      "source": [
        "# Calculate cumulative 'Games_Count' for each row\n",
        "teams['Away_Count'] = teams[teams['is_home'] == False].groupby(['team_id', 'team_name'])['Game_played'].cumsum()\n",
        "\n"
      ]
    },
    {
      "cell_type": "markdown",
      "metadata": {
        "id": "ruuMuJ35mBou"
      },
      "source": [
        "Goals away"
      ]
    },
    {
      "cell_type": "code",
      "execution_count": null,
      "metadata": {
        "id": "UcdHzZi6mBou"
      },
      "outputs": [],
      "source": [
        "teams['Away_Goals'] = teams[teams['is_home'] == False].groupby(['team_id', 'team_name'])['team_score'].cumsum()\n"
      ]
    },
    {
      "cell_type": "markdown",
      "metadata": {
        "id": "75nZV1xJmBou"
      },
      "source": [
        "Goals per away game"
      ]
    },
    {
      "cell_type": "code",
      "execution_count": null,
      "metadata": {
        "id": "LNCmLJfTmBou"
      },
      "outputs": [],
      "source": [
        "teams['Goals_per_away'] = teams.apply(lambda row: row['Total_Goals'] / row['Away_Count'] if row['is_home']==False else None, axis=1)\n"
      ]
    },
    {
      "cell_type": "markdown",
      "metadata": {
        "id": "I3H2rVYVmBov"
      },
      "source": [
        "Goals conceded away"
      ]
    },
    {
      "cell_type": "code",
      "execution_count": null,
      "metadata": {
        "id": "ZRXN7AwvmBov"
      },
      "outputs": [],
      "source": [
        "teams['Away_Conceded'] = teams[teams['is_home'] == False].groupby(['team_id', 'team_name'])['opponent_score'].cumsum()\n"
      ]
    },
    {
      "cell_type": "markdown",
      "metadata": {
        "id": "SfVc3SEmmBov"
      },
      "source": [
        "Conceded per away game"
      ]
    },
    {
      "cell_type": "code",
      "execution_count": null,
      "metadata": {
        "id": "WU9Bs2SvmBov"
      },
      "outputs": [],
      "source": [
        "teams['Conceded_per_away'] = teams.apply(lambda row: row['Away_Conceded'] / row['Away_Count'] if row['is_home'] ==False else None, axis=1)\n"
      ]
    },
    {
      "cell_type": "markdown",
      "metadata": {
        "id": "8SgFmebGmBow"
      },
      "source": [
        "Total Away wins"
      ]
    },
    {
      "cell_type": "code",
      "execution_count": null,
      "metadata": {
        "id": "suIsUm3MmBow"
      },
      "outputs": [],
      "source": [
        "teams['Total_Away_wins'] = teams[teams['is_home'] == False].groupby(['team_id', 'team_name'])['Win'].cumsum()\n"
      ]
    },
    {
      "cell_type": "markdown",
      "metadata": {
        "id": "mHdZ33EDmBow"
      },
      "source": [
        "Away Win percentage"
      ]
    },
    {
      "cell_type": "code",
      "execution_count": null,
      "metadata": {
        "id": "O0hE9jBxmBow"
      },
      "outputs": [],
      "source": [
        "teams['Away_Win_percentage'] = (teams['Total_Away_wins'] / teams['Away_Count']) * 100"
      ]
    },
    {
      "cell_type": "markdown",
      "metadata": {
        "id": "_89KRZHxmBow"
      },
      "source": [
        "Away Form"
      ]
    },
    {
      "cell_type": "code",
      "execution_count": null,
      "metadata": {
        "id": "MpaipOc9mBox"
      },
      "outputs": [],
      "source": [
        "def calculate_form_away(group, num_games):\n",
        "    forms = []\n",
        "    current_form = \"\"\n",
        "\n",
        "    for i, row in group.iterrows():\n",
        "        result = row['result']\n",
        "        if row['Game_played'] == True and row['is_home'] == False:\n",
        "            if result == 1:\n",
        "                current_form += 'W'\n",
        "            elif result == -1:\n",
        "                current_form += 'L'\n",
        "            else:\n",
        "                current_form += 'D'\n",
        "\n",
        "            if len(current_form) > num_games:\n",
        "                current_form = current_form[1:]\n",
        "\n",
        "            forms.append(current_form)\n",
        "\n",
        "        else:\n",
        "            forms.append(None)\n",
        "    return forms\n",
        "\n",
        "# Calculate the form for each specific 'team_id' and assign it to the 'Form' column for that team\n",
        "unique_team_ids = teams['team_id'].unique()\n",
        "for team_id in unique_team_ids:\n",
        "    team_subset = teams[teams['team_id'] == team_id]\n",
        "    team_forms = calculate_form_away(team_subset, 5)\n",
        "    teams.loc[teams['team_id'] == team_id, 'Away_Form'] = team_forms\n",
        "\n",
        "\n"
      ]
    },
    {
      "cell_type": "markdown",
      "metadata": {
        "id": "sc-z4-BFmBox"
      },
      "source": [
        "Away Numeric Form"
      ]
    },
    {
      "cell_type": "code",
      "execution_count": null,
      "metadata": {
        "id": "t4IQN_3KmBox"
      },
      "outputs": [],
      "source": [
        "def calculate_numerical_form_away(group, num_games):\n",
        "    numerical_forms = []\n",
        "    current_form = []\n",
        "\n",
        "    for i, row in group.iterrows():\n",
        "        result = row['result']\n",
        "        game_played = row['Game_played']\n",
        "\n",
        "        if game_played and row['is_home'] == False:\n",
        "            # Assign weights based on the position in the form\n",
        "            weight = 1 + i / num_games\n",
        "\n",
        "            if result == 1:\n",
        "                value = 1\n",
        "            elif result == -1:\n",
        "                value = -1\n",
        "            else:\n",
        "                value = 0\n",
        "\n",
        "            current_form.append(value * weight)\n",
        "\n",
        "            if len(current_form) > num_games:\n",
        "                current_form.pop(0)\n",
        "\n",
        "            numerical_form = sum(current_form) / len(current_form)\n",
        "            numerical_forms.append(numerical_form)\n",
        "\n",
        "        else:\n",
        "            numerical_forms.append(None)  # Append None for games that haven't been played\n",
        "\n",
        "    return numerical_forms\n",
        "\n",
        "# Calculate the numerical form for each specific 'team_id' and assign it to the 'Numerical_Form' column for that team\n",
        "unique_team_ids = teams['team_id'].unique()\n",
        "for team_id in unique_team_ids:\n",
        "    team_subset = teams[teams['team_id'] == team_id]\n",
        "    team_numerical_forms = calculate_numerical_form_away(team_subset, 5)\n",
        "    teams.loc[teams['team_id'] == team_id, 'Away_Numerical_Form'] = team_numerical_forms\n",
        "\n"
      ]
    },
    {
      "cell_type": "code",
      "execution_count": null,
      "metadata": {
        "id": "X-yz95mOmBox"
      },
      "outputs": [],
      "source": [
        "teams['Away_Strength'] = teams['Away_Numerical_Form']*2.5 + teams['fixture_difficulty']*2.0 + teams['Away_Win_percentage']*2.0 + teams['Goals_per_away'] + teams['Conceded_per_away']*-1.0"
      ]
    },
    {
      "cell_type": "markdown",
      "metadata": {
        "id": "JUJyFyqGmBoy"
      },
      "source": [
        "## Defense Strength stats"
      ]
    },
    {
      "cell_type": "markdown",
      "metadata": {
        "id": "f61MjzWGmBoy"
      },
      "source": [
        "### Overall"
      ]
    },
    {
      "cell_type": "code",
      "execution_count": null,
      "metadata": {
        "id": "8Ij5H5NDmBoy"
      },
      "outputs": [],
      "source": [
        "teams['Defence_Strength'] = teams['Numerical_Form']*2.0 + teams['fixture_difficulty']*1.5 + teams['Conceded_per_game']*-1.5 + teams['Win_percentage']*1.5"
      ]
    },
    {
      "cell_type": "markdown",
      "metadata": {
        "id": "C88c_LaemBoy"
      },
      "source": [
        "Home"
      ]
    },
    {
      "cell_type": "code",
      "execution_count": null,
      "metadata": {
        "id": "ixegwiWEmBoy"
      },
      "outputs": [],
      "source": [
        "teams['Home_Defence_Strength'] = teams['Home_Numerical_Form']*2.0 + teams['fixture_difficulty']*1.5 + teams['Conceded_per_home']*-1.5 + teams['Home_Win_percentage']*1.5"
      ]
    },
    {
      "cell_type": "markdown",
      "metadata": {
        "id": "0WGj4sGymBoz"
      },
      "source": [
        "Away"
      ]
    },
    {
      "cell_type": "code",
      "execution_count": null,
      "metadata": {
        "id": "DpApaGnLmBoz"
      },
      "outputs": [],
      "source": [
        "teams['Away_Defence_Strength'] = teams['Away_Numerical_Form']*2.0 + teams['fixture_difficulty']*1.5 + teams['Conceded_per_away']*-1.5 + teams['Away_Win_percentage']*1.5"
      ]
    },
    {
      "cell_type": "markdown",
      "metadata": {
        "id": "8ZrkRMG-mBoz"
      },
      "source": [
        "## Attack Strength stats"
      ]
    },
    {
      "cell_type": "markdown",
      "metadata": {
        "id": "SkISw_BXmBoz"
      },
      "source": [
        "### Overall"
      ]
    },
    {
      "cell_type": "code",
      "execution_count": null,
      "metadata": {
        "id": "g5pRaWCvmBo0"
      },
      "outputs": [],
      "source": [
        "teams['Attack_Strength'] = teams['Numerical_Form']*2.5 + teams['fixture_difficulty']*2.0 + teams['Win_percentage']*0.8 + teams['Goals_per_game']*2.0"
      ]
    },
    {
      "cell_type": "markdown",
      "metadata": {
        "id": "bwBukmA6mBo0"
      },
      "source": [
        "Home"
      ]
    },
    {
      "cell_type": "code",
      "execution_count": null,
      "metadata": {
        "id": "4ZQlOMY1mBo0"
      },
      "outputs": [],
      "source": [
        "teams['Home_Attack_Strength'] = teams['Home_Numerical_Form']*2.5 + teams['fixture_difficulty']*2.0 + teams['Home_Win_percentage']*0.8 + teams['Goals_per_home']*2.0"
      ]
    },
    {
      "cell_type": "markdown",
      "metadata": {
        "id": "KUrLFTD6mBo0"
      },
      "source": [
        "Away"
      ]
    },
    {
      "cell_type": "code",
      "execution_count": null,
      "metadata": {
        "id": "MCTK3Cm-mBo1"
      },
      "outputs": [],
      "source": [
        "teams['Away_Attack_Strength'] = teams['Away_Numerical_Form']*2.5 + teams['fixture_difficulty']*2.0 + teams['Away_Win_percentage']*0.8 + teams['Goals_per_away']*2.0"
      ]
    },
    {
      "cell_type": "markdown",
      "metadata": {
        "id": "RSptsnCamBo1"
      },
      "source": [
        "## Preprocessing"
      ]
    },
    {
      "cell_type": "code",
      "execution_count": null,
      "metadata": {
        "id": "TDt48-StmBo1"
      },
      "outputs": [],
      "source": [
        "teams.columns"
      ]
    },
    {
      "cell_type": "code",
      "execution_count": null,
      "metadata": {
        "id": "zfZ17KNEmBo1"
      },
      "outputs": [],
      "source": [
        "num_cols_normalize = ['Numerical_Form', 'Home_Numerical_Form','Away_Numerical_Form', 'Strength', 'Home_Strength', 'Away_Strength', 'Defence_Strength', 'Home_Defence_Strength', 'Away_Defence_Strength', 'Away_Attack_Strength', 'Home_Attack_Strength', 'Attack_Strength']"
      ]
    },
    {
      "cell_type": "code",
      "execution_count": null,
      "metadata": {
        "id": "dOtZFpAbmBo1"
      },
      "outputs": [],
      "source": [
        "from sklearn.preprocessing import MinMaxScaler\n",
        "\n",
        "\n",
        "# Fill null values with previous values\n",
        "teams[num_cols_normalize] = teams[num_cols_normalize]\n",
        "# Initialize the Min-Max Scaler\n",
        "scaler = MinMaxScaler()\n",
        "\n",
        "# Fit and transform the selected columns to scale them between 0 and 1\n",
        "teams[num_cols_normalize] = scaler.fit_transform(teams[num_cols_normalize])\n",
        "\n"
      ]
    },
    {
      "cell_type": "code",
      "execution_count": null,
      "metadata": {
        "id": "1_1uy97PmBo1"
      },
      "outputs": [],
      "source": [
        "teams.columns"
      ]
    },
    {
      "cell_type": "code",
      "execution_count": null,
      "metadata": {
        "id": "AV2XpmlKmBo2"
      },
      "outputs": [],
      "source": [
        "filtered_teams = teams.loc[:, ['team_id', 'team_name', 'team_short_name',\n",
        "    'unavailable','event_id', 'fixture_id', 'fixture_difficulty','is_home','kickoff_time', 'started',\n",
        "    'Attack_Strength','team_score',\n",
        "    'Form', 'Numerical_Form','Win_percentage', 'Strength', 'Defence_Strength',\n",
        "    'Home_Form','Home_Numerical_Form','Home_Win_percentage','Home_Strength', 'Home_Defence_Strength', 'Home_Attack_Strength',\n",
        "    'Away_Form', 'Away_Numerical_Form', 'Away_Win_percentage','Away_Strength', 'Away_Defence_Strength', 'Away_Attack_Strength'\n",
        "    ]]"
      ]
    },
    {
      "cell_type": "markdown",
      "metadata": {
        "id": "RYnFPWRAmBo2"
      },
      "source": [
        "# 2. Manager data"
      ]
    },
    {
      "cell_type": "code",
      "execution_count": null,
      "metadata": {
        "id": "H8xv2SM_mBo2"
      },
      "outputs": [],
      "source": [
        "import pandas as pd\n",
        "import requests\n",
        "\n",
        "# Manager ID and Gameweek\n",
        "manager_id = 1873280\n",
        "GW = 8\n",
        "# API URL to get the manager's team for a specific Gameweek\n",
        "url = f\"https://fantasy.premierleague.com/api/entry/{manager_id}/event/{GW}/picks/\"\n",
        "\n",
        "# Make the API request to get the manager's team\n",
        "r = requests.get(url)\n",
        "data = r.json()\n",
        "\n",
        "# Create a list of dictionaries to store 'picks' along with metadata\n",
        "picks_data = data.get('picks', [])  # Ensure 'picks' data is available\n",
        "\n",
        "# Extract metadata\n",
        "active_chip = data.get('active_chip')\n",
        "automatic_subs = data.get('automatic_subs')\n",
        "entry_history = data.get('entry_history')\n",
        "\n",
        "# Create a list with metadata for each 'picks' element\n",
        "data_list = []\n",
        "for pick in picks_data:\n",
        "    data_list.append({\n",
        "        'active_chip': active_chip,\n",
        "        'automatic_subs': automatic_subs,\n",
        "        'entry_history': entry_history,\n",
        "        **pick,  # Include the 'picks' data\n",
        "    })\n",
        "\n",
        "# Convert the list of dictionaries to a DataFrame\n",
        "manager = pd.DataFrame(data_list)\n"
      ]
    },
    {
      "cell_type": "code",
      "execution_count": null,
      "metadata": {
        "id": "lbwc-idcmBo2"
      },
      "outputs": [],
      "source": [
        "manager"
      ]
    },
    {
      "cell_type": "code",
      "execution_count": null,
      "metadata": {
        "id": "GO4WRpgMmBo3"
      },
      "outputs": [],
      "source": [
        "manager.columns"
      ]
    },
    {
      "cell_type": "code",
      "execution_count": null,
      "metadata": {
        "id": "1Ew25viZmBo3"
      },
      "outputs": [],
      "source": [
        "FPL_team = manager.loc[:,['active_chip', 'automatic_subs', 'element', 'position',\n",
        "       'multiplier', 'is_captain', 'is_vice_captain']]"
      ]
    },
    {
      "cell_type": "code",
      "execution_count": null,
      "metadata": {
        "id": "VKCg1XChmBo3"
      },
      "outputs": [],
      "source": []
    },
    {
      "cell_type": "code",
      "execution_count": null,
      "metadata": {
        "id": "nh-PyztxmBo4"
      },
      "outputs": [],
      "source": []
    },
    {
      "cell_type": "markdown",
      "metadata": {
        "id": "SazVBqmlmBo4"
      },
      "source": [
        "# 3. Model Training"
      ]
    },
    {
      "cell_type": "markdown",
      "metadata": {
        "id": "4v5b9jvRG7so"
      },
      "source": [
        "## i. Player data Current Season\n"
      ]
    },
    {
      "cell_type": "code",
      "execution_count": null,
      "metadata": {
        "execution": {
          "iopub.execute_input": "2023-10-18T18:43:34.479567Z",
          "iopub.status.busy": "2023-10-18T18:43:34.478925Z",
          "iopub.status.idle": "2023-10-18T18:43:34.491940Z",
          "shell.execute_reply": "2023-10-18T18:43:34.491070Z",
          "shell.execute_reply.started": "2023-10-18T18:43:34.479526Z"
        },
        "id": "Bgu-QLi8G7s0",
        "trusted": true
      },
      "outputs": [],
      "source": [
        "### Function to return player url\n",
        "def format_player_url(player_id):\n",
        "    # Define the base URL without curly brackets\n",
        "    base_url = 'https://fantasy.premierleague.com/api/element-summary/{}/'\n",
        "\n",
        "    # Replace the placeholder '{}' with the actual player_id\n",
        "    formatted_url = base_url.format(player_id)\n",
        "\n",
        "    return formatted_url\n",
        "\n",
        "# Example usage:\n",
        "player_id = 447  # Replace this with the actual player ID\n",
        "formatted_url = format_player_url(player_id)\n",
        "print(formatted_url)\n"
      ]
    },
    {
      "cell_type": "code",
      "execution_count": null,
      "metadata": {
        "execution": {
          "iopub.execute_input": "2023-10-18T18:43:34.493717Z",
          "iopub.status.busy": "2023-10-18T18:43:34.493095Z",
          "iopub.status.idle": "2023-10-18T18:43:34.512255Z",
          "shell.execute_reply": "2023-10-18T18:43:34.511239Z",
          "shell.execute_reply.started": "2023-10-18T18:43:34.493667Z"
        },
        "id": "xM84zOv6G7s4",
        "trusted": true
      },
      "outputs": [],
      "source": [
        "# Imported full data from last seasons\n",
        "\n",
        "\n",
        "elements = elements_df.loc[:,['id','team','web_name','first_name','second_name','Position']]\n",
        "elements = elements.rename(columns = {'id': 'player_id', 'team':'team_id'})\n",
        "# List of columns to drop\n",
        "\n"
      ]
    },
    {
      "cell_type": "markdown",
      "metadata": {
        "id": "xdJ10ByzG7s_"
      },
      "source": [
        "## ii. Feature Engineering players"
      ]
    },
    {
      "cell_type": "markdown",
      "metadata": {
        "id": "LjyhxIk6G7tK"
      },
      "source": [
        "Features_engineered\n",
        ">['Minutes_per_game', 'Player_Strength', 'XA', 'XG', 'XS']\n",
        "\n",
        "intended_features\n",
        ">['fixture_difficulty','kickoff_time', 'started',\n",
        "       'is_home', 'Attack_Strength', 'team_score', 'Form', 'Numerical_Form',\n",
        "       'Win_percentage', 'Strength', 'Defence_Strength', 'Home_Form',\n",
        "       'Home_Numerical_Form', 'Home_Win_percentage', 'Home_Strength',\n",
        "       'Home_Defence_Strength', 'Home_Attack_Strength', 'Away_Form',\n",
        "       'Away_Numerical_Form', 'Away_Win_percentage', 'Away_Strength',\n",
        "       'Away_Defence_Strength', 'Away_Attack_Strength']\n",
        "\n",
        "intended_labels\n",
        ">['goals_scored', 'assists', 'clean_sheets', 'goals_conceded', 'saves']"
      ]
    },
    {
      "cell_type": "markdown",
      "metadata": {
        "id": "2OnaFBCkG7tN"
      },
      "source": [
        "## iii. Model Selection"
      ]
    },
    {
      "cell_type": "code",
      "execution_count": null,
      "metadata": {
        "execution": {
          "iopub.execute_input": "2023-10-18T18:43:34.604951Z",
          "iopub.status.busy": "2023-10-18T18:43:34.604549Z",
          "iopub.status.idle": "2023-10-18T18:43:34.623367Z",
          "shell.execute_reply": "2023-10-18T18:43:34.622532Z",
          "shell.execute_reply.started": "2023-10-18T18:43:34.604901Z"
        },
        "id": "uG9MyoLmG7tU",
        "trusted": true
      },
      "outputs": [],
      "source": [
        "# Importing libraries\n",
        "import pandas as pd\n",
        "import numpy as np\n",
        "import requests\n",
        "import tensorflow as tf\n",
        "from sklearn.model_selection import train_test_split\n",
        "from sklearn.preprocessing import StandardScaler\n",
        "from sklearn.pipeline import Pipeline\n",
        "from sklearn.feature_selection import SelectKBest, f_regression\n",
        "\n",
        "num_top_features = 8  # Set it to the total number of features\n",
        "\n",
        "def load_data_for_player(player_id):\n",
        "    # Define the URL for the player's data\n",
        "    player_url = format_player_url(player_id)  # You can use the provided function\n",
        "\n",
        "    # Send a GET request to the player's URL\n",
        "    response = requests.get(player_url)\n",
        "\n",
        "    if response.status_code == 200:\n",
        "        # Parse the JSON data\n",
        "        player_data = response.json()\n",
        "\n",
        "        # Extract the relevant data and preprocess it\n",
        "        player_history_df = pd.DataFrame(player_data['history'])\n",
        "\n",
        "        player_history_df = player_history_df.rename(columns={'element': 'player_id', 'round': 'event_id'})\n",
        "        columns_to_drop = ['was_home', 'bps', 'kickoff_time', 'influence', 'creativity', 'threat', 'ict_index', 'starts',\n",
        "                           'expected_goals', 'expected_assists', 'expected_goal_involvements', 'expected_goals_conceded',\n",
        "                           'value', 'transfers_balance', 'selected', 'transfers_in', 'transfers_out', 'fixture',\n",
        "                           'team_h_score', 'team_a_score', 'event_id']\n",
        "\n",
        "        # Use the drop method to remove the specified columns\n",
        "        player_history_df.drop(columns=columns_to_drop, inplace=True)\n",
        "        player_history_df = player_history_df.merge(elements, on='player_id')\n",
        "        player_history_df = player_history_df.merge(filtered_teams, on=['team_id'])\n",
        "        player_history_df['player_fixture_id'] = player_history_df['player_id'].astype(str) + '_' + player_history_df['event_id'].astype(str)\n",
        "\n",
        "        # Perform any necessary data cleaning and feature engineering here\n",
        "        player_history_df['kickoff_time'] = pd.to_datetime(player_history_df['kickoff_time'])\n",
        "        player_history_df.set_index('kickoff_time', inplace=True)\n",
        "        player_history_df = player_history_df.fillna(method='ffill')\n",
        "        player_history_df['is_home'] = player_history_df['is_home'].astype(int)\n",
        "        labels = ['goals_scored', 'assists', 'clean_sheets', 'goals_conceded', 'saves']\n",
        "\n",
        "        player_future_fxt = player_history_df[player_history_df['started'] == False].head(3)\n",
        "        player_future_fxt.drop(columns=labels, inplace=True)\n",
        "        player_history_df = player_history_df[player_history_df['started'] == True]\n",
        "\n",
        "        # Return the processed data for the player\n",
        "        return player_history_df, player_future_fxt\n",
        "    else:\n",
        "        # Handle the case when the request fails (e.g., return None or raise an exception)\n",
        "        return None, None\n",
        "\n",
        "num_top_features = 8  # Set it to the total number of features\n",
        "\n",
        "def train_model(X_train, y_train):\n",
        "    # Define a scikit-learn pipeline\n",
        "    pipeline = Pipeline([\n",
        "        ('feature_selector', SelectKBest(score_func=f_regression, k=num_top_features)),\n",
        "        ('scaler', StandardScaler(with_mean=False)),\n",
        "        ('model', tf.keras.Sequential([\n",
        "            tf.keras.layers.Input(shape=(num_top_features,)),\n",
        "            tf.keras.layers.Dense(64, activation='relu'),\n",
        "            tf.keras.layers.Dense(32, activation='relu'),\n",
        "            tf.keras.layers.Dense(1)  # Output layer with 1 neuron for regression\n",
        "        ]))\n",
        "    ])\n",
        "\n",
        "    # Compile the model within the pipeline with run_eagerly=True\n",
        "    pipeline.named_steps['model'].compile(optimizer='adam', loss='mean_squared_error', run_eagerly=True)\n",
        "\n",
        "    # Train the model within the pipeline on the provided training data\n",
        "    pipeline.named_steps['model'].fit(X_train, y_train, epochs=100, batch_size=32)\n",
        "\n",
        "    return pipeline\n",
        "\n",
        "# Define a function to process a player\n",
        "def process_player(player_id):\n",
        "    Don_Team = pd.DataFrame()\n",
        "    Don_Team_list = []    # Load data for the specified player using player_id\n",
        "    player_history_df, player_future_fxt = load_data_for_player(player_id)\n",
        "\n",
        "    if player_history_df is not None and player_future_fxt is not None:\n",
        "        # Define features based on the data for the player\n",
        "        features = ['fixture_difficulty', 'is_home', 'Attack_Strength', 'team_score', 'Numerical_Form', 'Win_percentage',\n",
        "                    'Strength', 'Defence_Strength']\n",
        "        labels = ['goals_scored', 'assists', 'clean_sheets', 'goals_conceded','bonus', 'penalties_saved','saves','penalties_missed']\n",
        "\n",
        "        # Split the data into training and testing sets\n",
        "        X_train, X_test, y_train, y_test = train_test_split(player_history_df[features], player_history_df[labels],\n",
        "                                            test_size=0.2, random_state=42)\n",
        "\n",
        "        # Create an empty dictionary to store model results for each label\n",
        "        model_results = {}\n",
        "\n",
        "        for label_to_predict in labels:\n",
        "            # Train a separate model for each label\n",
        "            model = train_model(X_train, y_train[label_to_predict])\n",
        "\n",
        "            # Make predictions for player_future_fxt for the current label\n",
        "            label_features = player_future_fxt[features]\n",
        "            label_predictions = model.named_steps['model'].predict(label_features)\n",
        "\n",
        "            # Create a DataFrame for the player's data\n",
        "            player_data = player_history_df.copy()\n",
        "\n",
        "            # Add predictions to player_future_fxt\n",
        "            player_future_fxt[label_to_predict] = label_predictions\n",
        "\n",
        "        # Append the combined data to the Don_Team DataFrame\n",
        "        Don_Team = pd.concat([Don_Team, player_future_fxt], ignore_index=True)\n",
        "        # Reset the index of Don_Team\n",
        "        Don_Team.reset_index(drop=True, inplace=True)\n",
        "\n",
        "        Don_Team = Don_Team.drop_duplicates(subset=['opponent_team','player_fixture_id'])\n",
        "        Don_Team = Don_Team.loc[:,['team_id', 'web_name','Position','fixture_difficulty','opponent_team','player_fixture_id','goals_scored', 'assists', 'clean_sheets', 'goals_conceded','bonus', 'penalties_saved','saves','penalties_missed']]\n",
        "        return Don_Team\n",
        "\n",
        "    else:\n",
        "        # Handle the case when data loading fails\n",
        "        print(f\"Data loading failed for player ID: {player_id}\")\n",
        "\n",
        "\n"
      ]
    },
    {
      "cell_type": "code",
      "execution_count": null,
      "metadata": {
        "execution": {
          "iopub.execute_input": "2023-10-18T18:43:34.626273Z",
          "iopub.status.busy": "2023-10-18T18:43:34.625487Z",
          "iopub.status.idle": "2023-10-18T18:43:34.645195Z",
          "shell.execute_reply": "2023-10-18T18:43:34.644351Z",
          "shell.execute_reply.started": "2023-10-18T18:43:34.626228Z"
        },
        "id": "ioAYu8iXG7tc",
        "trusted": true
      },
      "outputs": [],
      "source": [
        "# List of player IDs to process\n",
        "player_ids = FPL_team.element  # Add the IDs you want to process\n",
        "\n"
      ]
    },
    {
      "cell_type": "code",
      "execution_count": null,
      "metadata": {
        "id": "JzceHf2Ah-ah"
      },
      "outputs": [],
      "source": [
        "Salah = process_player(308)"
      ]
    },
    {
      "cell_type": "code",
      "execution_count": null,
      "metadata": {
        "execution": {
          "iopub.execute_input": "2023-10-18T18:43:34.647194Z",
          "iopub.status.busy": "2023-10-18T18:43:34.646419Z",
          "iopub.status.idle": "2023-10-18T18:43:58.954057Z",
          "shell.execute_reply": "2023-10-18T18:43:58.952384Z",
          "shell.execute_reply.started": "2023-10-18T18:43:34.647164Z"
        },
        "id": "4-9-NYuhG7tf",
        "trusted": true
      },
      "outputs": [],
      "source": [
        "Salah"
      ]
    },
    {
      "cell_type": "markdown",
      "metadata": {
        "id": "EPhg9cGUG7tm"
      },
      "source": [
        "## iv. Manager team predicted"
      ]
    },
    {
      "cell_type": "code",
      "execution_count": null,
      "metadata": {
        "id": "BZ4wl-B3LpPa"
      },
      "outputs": [],
      "source": [
        "Manager_team = pd.DataFrame()\n",
        "\n",
        "for i in player_ids:\n",
        "  print(\"Player id: \", i)\n",
        "  Manager_team = pd.concat([Manager_team, process_player(i)], ignore_index=True)\n"
      ]
    },
    {
      "cell_type": "code",
      "execution_count": null,
      "metadata": {
        "id": "bIJDgjLHmnCV"
      },
      "outputs": [],
      "source": [
        "Manager_team"
      ]
    },
    {
      "cell_type": "code",
      "source": [
        "Manager_team"
      ],
      "metadata": {
        "id": "rlmxJntt7JnD"
      },
      "execution_count": null,
      "outputs": []
    },
    {
      "cell_type": "markdown",
      "source": [
        "# 4. Points"
      ],
      "metadata": {
        "id": "9S0FsU5yEQDu"
      }
    },
    {
      "cell_type": "code",
      "source": [
        "#labels = ['goals_scored', 'assists', 'clean_sheets', 'goals_conceded','bonus', 'penalties_saved','saves','penalties_missed']\n",
        "\n",
        "#Function for goal scored points\n",
        "def goal_points(player_fixture_id):\n",
        "  for idx, row in Manager_team.iterrows():\n",
        "    if player_fixture_id == row['player_fixture_id']:\n",
        "      if row['Position'] == 'FWD':\n",
        "        return row['goals_scored'] * 4\n",
        "\n",
        "      if row['Position'] == 'MID':\n",
        "        return row['goals_scored'] * 5\n",
        "\n",
        "      else:\n",
        "        return row['goals_scored'] * 6\n",
        "\n"
      ],
      "metadata": {
        "id": "lDcvnoS9ERuK"
      },
      "execution_count": 116,
      "outputs": []
    },
    {
      "cell_type": "code",
      "source": [
        "#Function for assists points\n",
        "def assists_points(player_fixture_id):\n",
        "  for idx, row in Manager_team.iterrows():\n",
        "    if player_fixture_id == row['player_fixture_id']:\n",
        "      return row['assists'] *3"
      ],
      "metadata": {
        "id": "o1sV0B8PEXlX"
      },
      "execution_count": 117,
      "outputs": []
    },
    {
      "cell_type": "code",
      "source": [
        "#Function for clean_sheets scored points\n",
        "def clean_sheets_points(player_fixture_id):\n",
        "  for idx, row in Manager_team.iterrows():\n",
        "    if player_fixture_id == row['player_fixture_id']:\n",
        "      if row['Position'] == 'FWD':\n",
        "        return row['clean_sheets'] * 0\n",
        "\n",
        "      if row['Position'] == 'MID':\n",
        "        return row['clean_sheets'] * 1\n",
        "\n",
        "      else:\n",
        "        return row['clean_sheets'] * 5\n",
        "\n"
      ],
      "metadata": {
        "id": "1C-fXamIGizu"
      },
      "execution_count": 118,
      "outputs": []
    },
    {
      "cell_type": "code",
      "source": [
        "#Function for goals_conceded scored points\n",
        "def goals_conceded_points(player_fixture_id):\n",
        "  for idx, row in Manager_team.iterrows():\n",
        "    if player_fixture_id == row['player_fixture_id']:\n",
        "      if row['Position'] == 'FWD':\n",
        "        return row['goals_conceded'] * 0\n",
        "\n",
        "      if row['Position'] == 'MID':\n",
        "        return row['goals_conceded'] * 0\n",
        "\n",
        "      else:\n",
        "        return row['goals_conceded'] * -1\n",
        "\n"
      ],
      "metadata": {
        "id": "7R9GJcgkHWT_"
      },
      "execution_count": 119,
      "outputs": []
    },
    {
      "cell_type": "code",
      "source": [
        "#Function for bonus scored points\n",
        "def bonus_points(player_fixture_id):\n",
        "  for idx, row in Manager_team.iterrows():\n",
        "    if player_fixture_id == row['player_fixture_id']:\n",
        "      return row['bonus'] * 1"
      ],
      "metadata": {
        "id": "-WP5mpu1Hz62"
      },
      "execution_count": 120,
      "outputs": []
    },
    {
      "cell_type": "code",
      "source": [
        "#Function for penalties_saved scored points\n",
        "def penalties_saved_points(player_fixture_id):\n",
        "  for idx, row in Manager_team.iterrows():\n",
        "    if player_fixture_id == row['player_fixture_id']:\n",
        "      return row['penalties_saved'] * 5\n",
        "\n"
      ],
      "metadata": {
        "id": "FXana2zcHzUP"
      },
      "execution_count": 121,
      "outputs": []
    },
    {
      "cell_type": "code",
      "source": [
        "#Function for saves scored points\n",
        "def saves_points(player_fixture_id):\n",
        "  for idx, row in Manager_team.iterrows():\n",
        "    if player_fixture_id == row['player_fixture_id']:\n",
        "      if row['Position'] == 'DEF' or row['Position'] == 'GKP':\n",
        "        return row['saves'] * 1/3\n",
        "\n",
        "\n",
        "      else:\n",
        "        return row['saves'] * 0\n",
        "\n"
      ],
      "metadata": {
        "id": "VOuI1kBKHzL6"
      },
      "execution_count": 131,
      "outputs": []
    },
    {
      "cell_type": "code",
      "source": [
        "#Function for assists points\n",
        "def penalties_missed_points(player_fixture_id):\n",
        "  for idx, row in Manager_team.iterrows():\n",
        "    if player_fixture_id == row['player_fixture_id']:\n",
        "      return row['penalties_missed'] * -2"
      ],
      "metadata": {
        "id": "_hOjju6sJT-n"
      },
      "execution_count": 132,
      "outputs": []
    },
    {
      "cell_type": "code",
      "source": [
        "def total_points(player_fixture_id):\n",
        "  return goal_points(player_fixture_id) + assists_points(player_fixture_id) + clean_sheets_points(player_fixture_id) + goals_conceded_points(player_fixture_id) + bonus_points(player_fixture_id) + penalties_saved_points(player_fixture_id) +saves_points(player_fixture_id) + penalties_missed_points(player_fixture_id)"
      ],
      "metadata": {
        "id": "4B6WRLwMJT1F"
      },
      "execution_count": 133,
      "outputs": []
    },
    {
      "cell_type": "code",
      "source": [
        "Manager_team['Total_points'] = Manager_team['player_fixture_id'].apply(total_points)\n"
      ],
      "metadata": {
        "id": "skUtQMiyJTri"
      },
      "execution_count": 134,
      "outputs": []
    },
    {
      "cell_type": "code",
      "source": [
        "Manager_team"
      ],
      "metadata": {
        "colab": {
          "base_uri": "https://localhost:8080/",
          "height": 1122
        },
        "id": "JfWEvwheLZ5-",
        "outputId": "3b3b57e8-7e20-43e8-9730-7c8c58ece934"
      },
      "execution_count": 135,
      "outputs": [
        {
          "output_type": "execute_result",
          "data": {
            "text/plain": [
              "    team_id     web_name Position  fixture_difficulty  opponent_team  \\\n",
              "0         8    Johnstone      GKP                 3.0             17   \n",
              "1         8    Johnstone      GKP                 2.0             17   \n",
              "2         8    Johnstone      GKP                 2.0             17   \n",
              "3        18       Udogie      DEF                 2.0              4   \n",
              "4        18       Udogie      DEF                 3.0              4   \n",
              "5        18       Udogie      DEF                 2.0              4   \n",
              "6         2         Cash      DEF                 2.0             15   \n",
              "7         2         Cash      DEF                 2.0             15   \n",
              "8         2         Cash      DEF                 2.0             15   \n",
              "9         1       Saliba      DEF                 2.0             16   \n",
              "10        1       Saliba      DEF                 4.0             16   \n",
              "11        1       Saliba      DEF                 2.0             16   \n",
              "12        1         Saka      MID                 2.0             16   \n",
              "13        1         Saka      MID                 4.0             16   \n",
              "14        1         Saka      MID                 2.0             16   \n",
              "15       18     Maddison      MID                 2.0              4   \n",
              "16       18     Maddison      MID                 3.0              4   \n",
              "17       18     Maddison      MID                 2.0              4   \n",
              "18       14  B.Fernandes      MID                 5.0             20   \n",
              "19       14  B.Fernandes      MID                 2.0             20   \n",
              "20       14  B.Fernandes      MID                 2.0             20   \n",
              "21       18          Son      MID                 2.0              4   \n",
              "22       18          Son      MID                 3.0              4   \n",
              "23       18          Son      MID                 2.0              4   \n",
              "24        5        March      MID                 2.0             12   \n",
              "25        5        March      MID                 2.0             12   \n",
              "26        5        March      MID                 2.0             12   \n",
              "27       13      Haaland      FWD                 4.0              6   \n",
              "28       13      Haaland      FWD                 2.0              6   \n",
              "29       13      Haaland      FWD                 3.0              6   \n",
              "30       13    J.Alvarez      FWD                 4.0              6   \n",
              "31       13    J.Alvarez      FWD                 2.0              6   \n",
              "32       13    J.Alvarez      FWD                 3.0              6   \n",
              "33       14        Onana      GKP                 5.0             20   \n",
              "34       14        Onana      GKP                 2.0             20   \n",
              "35       14        Onana      GKP                 2.0             20   \n",
              "36        5    Estupiñan      DEF                 2.0             12   \n",
              "37        5    Estupiñan      DEF                 2.0             12   \n",
              "38        5    Estupiñan      DEF                 2.0             12   \n",
              "39        5      Lamptey      DEF                 2.0             12   \n",
              "40        5      Lamptey      DEF                 2.0             12   \n",
              "41        5      Lamptey      DEF                 2.0             12   \n",
              "42       16        Ui-jo      FWD                 4.0              1   \n",
              "43       16        Ui-jo      FWD                 3.0              1   \n",
              "44       16        Ui-jo      FWD                 3.0              1   \n",
              "\n",
              "   player_fixture_id  goals_scored   assists  clean_sheets  goals_conceded  \\\n",
              "0             230_10     -0.040898 -0.063630      0.437463        0.920295   \n",
              "1             230_11     -0.054806  0.037198      0.252506        0.830201   \n",
              "2             230_12     -0.059676 -0.029888      0.386570        0.964877   \n",
              "3             519_10      0.018809  0.184687      0.491942        0.838700   \n",
              "4             519_11     -0.009448  0.155294      0.339142        0.863417   \n",
              "5             519_12      0.018809  0.184687      0.491942        0.838700   \n",
              "6              36_10      0.145892  0.117559      0.309050        1.260648   \n",
              "7              36_11      0.227585  0.346248      0.157664        1.303036   \n",
              "8              36_12      0.145892  0.117559      0.309050        1.260648   \n",
              "9              20_10     -0.194500  0.079477      0.369141        0.744986   \n",
              "10             20_11      0.393603  0.232509      0.447335        0.730864   \n",
              "11             20_12     -0.194500  0.079477      0.369141        0.744986   \n",
              "12             19_10      0.408085  0.398058      0.252135        0.723889   \n",
              "13             19_11      0.554863  0.357107      0.576156        0.856814   \n",
              "14             19_12      0.408085  0.398058      0.252135        0.723889   \n",
              "15            504_10      0.409142  0.509094      0.453797        0.997526   \n",
              "16            504_11      0.358808  0.561548      0.408455        0.935698   \n",
              "17            504_12      0.409142  0.509094      0.453797        0.997526   \n",
              "18            373_10      0.694081  0.329310      0.346044        1.666699   \n",
              "19            373_11      0.070447  0.138650      0.237428        1.216746   \n",
              "20            373_12      0.275268  0.197798      0.251421        1.397882   \n",
              "21            516_10      0.846667  0.114439      0.400235        1.007147   \n",
              "22            516_11      0.676112  0.107244      0.454338        0.825086   \n",
              "23            516_12      0.846667  0.114439      0.400235        1.007147   \n",
              "24            140_10      0.331185  0.193626      0.077496        0.925246   \n",
              "25            140_11      0.317183  0.087197      0.217277        0.799232   \n",
              "26            140_12      0.331185  0.193626      0.077496        0.925246   \n",
              "27            355_10      0.518395  0.002973      0.039628        0.887634   \n",
              "28            355_11      0.812267  0.024789      0.472598        0.731810   \n",
              "29            355_12      0.653027  0.051779      0.101655        0.843857   \n",
              "30            343_10      0.673561  0.099510      0.404327        0.163420   \n",
              "31            343_11      0.304884  0.669771      0.214486        0.526775   \n",
              "32            343_12      0.601064  0.282896      0.337004        0.325389   \n",
              "33            597_10     -0.041446  0.008507      0.367738        1.235984   \n",
              "34            597_11      0.018301 -0.023751      0.288767        1.348568   \n",
              "35            597_12      0.091453 -0.024344      0.193142        1.259544   \n",
              "36            131_10     -0.003280  0.237898      0.072831        0.646170   \n",
              "37            131_11     -0.046501 -0.005416      0.031359        0.931141   \n",
              "38            131_12     -0.003280  0.237898      0.072831        0.646170   \n",
              "39            139_10      0.086904  0.192815     -0.051468        0.581319   \n",
              "40            139_11      0.129654  0.211814      0.030040        0.534967   \n",
              "41            139_12      0.086904  0.192815     -0.051468        0.581319   \n",
              "42            466_10     -0.025800 -0.013317      0.058080        0.234449   \n",
              "43            466_11      0.032645  0.005698      0.038063        0.073076   \n",
              "44            466_12     -0.056910 -0.030799      0.066903        0.259903   \n",
              "\n",
              "       bonus  penalties_saved     saves  penalties_missed  Total_points  \n",
              "0   0.595367        -0.004492  2.321247         -0.128403      2.434209  \n",
              "1   0.524529        -0.001146  1.741501         -0.044190      1.402766  \n",
              "2   0.545300        -0.005056  1.926669         -0.097230      1.876956  \n",
              "3   0.491338         0.041945  0.167631         -0.031886      3.108645  \n",
              "4   0.380130         0.001351 -0.144648          0.041666      1.496825  \n",
              "5   0.491338         0.041945  0.167631         -0.031886      3.108645  \n",
              "6   0.429348        -0.083639 -0.012598          0.012529      1.494524  \n",
              "7   0.474705         0.086835 -0.061070         -0.048264      2.874590  \n",
              "8   0.429348        -0.083639 -0.012598          0.012529      1.494524  \n",
              "9   0.540762         0.027400 -0.046241          0.075163      0.684172  \n",
              "10  0.204898        -0.002323  0.024687         -0.064980      4.896430  \n",
              "11  0.540762         0.027400 -0.046241          0.075163      0.684172  \n",
              "12  0.758785         0.071043 -0.058894         -0.121917      4.844572  \n",
              "13  1.025943        -0.005249 -0.134384          0.102636      5.216218  \n",
              "14  0.758785         0.071043 -0.058894         -0.121917      4.844572  \n",
              "15  0.815288        -0.009803 -0.153153          0.082178      4.628704  \n",
              "16  0.764719         0.004503  0.092162          0.057052      4.560268  \n",
              "17  0.815288        -0.009803 -0.153153          0.082178      4.628704  \n",
              "18  1.104408         0.057508 -0.260658         -0.059322      6.314972  \n",
              "19  0.902012         0.014192 -0.048896         -0.007180      1.992943  \n",
              "20  0.767434        -0.030414 -0.017606         -0.033469      2.903458  \n",
              "21  1.046413         0.007070  0.013395          0.138077      5.782491  \n",
              "22  0.865336        -0.000518 -0.052637         -0.139798      5.298970  \n",
              "23  1.046413         0.007070  0.013395          0.138077      5.782491  \n",
              "24  0.568847        -0.049324  0.059952          0.028024      2.580477  \n",
              "25  0.539790        -0.134703  0.139658          0.042913      1.845227  \n",
              "26  0.568847        -0.049324  0.059952          0.028024      2.580477  \n",
              "27  0.645852         0.026335  0.074542          0.097488      2.665048  \n",
              "28  0.490216        -0.003939 -0.008102          0.126072      3.541813  \n",
              "29  0.559448         0.020121  0.038569          0.095527      3.236441  \n",
              "30  1.059558        -0.120653  0.478878         -0.360759      4.170587  \n",
              "31  0.976142        -0.038190 -0.135800         -0.036110      4.086258  \n",
              "32  1.067493        -0.050476  0.273443         -0.209144      4.486345  \n",
              "33  0.199228        -0.007232  4.777213         -0.004239      2.143502  \n",
              "34  0.133626         0.059514  3.416199         -0.013232      1.730209  \n",
              "35  0.219685         0.109595  3.485735         -0.008304      2.128033  \n",
              "36  0.521444        -0.113266 -0.083143          0.115386      0.108624  \n",
              "37  0.530556        -0.167227  0.007113          0.153898     -1.680601  \n",
              "38  0.521444        -0.113266 -0.083143          0.115386      0.108624  \n",
              "39 -0.063733        -0.041587  0.107062          0.023246     -0.021258  \n",
              "40 -0.058169        -0.083250  0.092124         -0.043142      0.671171  \n",
              "41 -0.063733        -0.041587  0.107062          0.023246     -0.021258  \n",
              "42 -0.002650        -0.022250  0.009328          0.069237     -0.395521  \n",
              "43  0.000585        -0.021310  0.077477         -0.174209      0.390126  \n",
              "44 -0.005574         0.006125 -0.008166         -0.052188     -0.190606  "
            ],
            "text/html": [
              "\n",
              "  <div id=\"df-72e4675a-652f-4ac6-9cc5-83c04c9fd70a\" class=\"colab-df-container\">\n",
              "    <div>\n",
              "<style scoped>\n",
              "    .dataframe tbody tr th:only-of-type {\n",
              "        vertical-align: middle;\n",
              "    }\n",
              "\n",
              "    .dataframe tbody tr th {\n",
              "        vertical-align: top;\n",
              "    }\n",
              "\n",
              "    .dataframe thead th {\n",
              "        text-align: right;\n",
              "    }\n",
              "</style>\n",
              "<table border=\"1\" class=\"dataframe\">\n",
              "  <thead>\n",
              "    <tr style=\"text-align: right;\">\n",
              "      <th></th>\n",
              "      <th>team_id</th>\n",
              "      <th>web_name</th>\n",
              "      <th>Position</th>\n",
              "      <th>fixture_difficulty</th>\n",
              "      <th>opponent_team</th>\n",
              "      <th>player_fixture_id</th>\n",
              "      <th>goals_scored</th>\n",
              "      <th>assists</th>\n",
              "      <th>clean_sheets</th>\n",
              "      <th>goals_conceded</th>\n",
              "      <th>bonus</th>\n",
              "      <th>penalties_saved</th>\n",
              "      <th>saves</th>\n",
              "      <th>penalties_missed</th>\n",
              "      <th>Total_points</th>\n",
              "    </tr>\n",
              "  </thead>\n",
              "  <tbody>\n",
              "    <tr>\n",
              "      <th>0</th>\n",
              "      <td>8</td>\n",
              "      <td>Johnstone</td>\n",
              "      <td>GKP</td>\n",
              "      <td>3.0</td>\n",
              "      <td>17</td>\n",
              "      <td>230_10</td>\n",
              "      <td>-0.040898</td>\n",
              "      <td>-0.063630</td>\n",
              "      <td>0.437463</td>\n",
              "      <td>0.920295</td>\n",
              "      <td>0.595367</td>\n",
              "      <td>-0.004492</td>\n",
              "      <td>2.321247</td>\n",
              "      <td>-0.128403</td>\n",
              "      <td>2.434209</td>\n",
              "    </tr>\n",
              "    <tr>\n",
              "      <th>1</th>\n",
              "      <td>8</td>\n",
              "      <td>Johnstone</td>\n",
              "      <td>GKP</td>\n",
              "      <td>2.0</td>\n",
              "      <td>17</td>\n",
              "      <td>230_11</td>\n",
              "      <td>-0.054806</td>\n",
              "      <td>0.037198</td>\n",
              "      <td>0.252506</td>\n",
              "      <td>0.830201</td>\n",
              "      <td>0.524529</td>\n",
              "      <td>-0.001146</td>\n",
              "      <td>1.741501</td>\n",
              "      <td>-0.044190</td>\n",
              "      <td>1.402766</td>\n",
              "    </tr>\n",
              "    <tr>\n",
              "      <th>2</th>\n",
              "      <td>8</td>\n",
              "      <td>Johnstone</td>\n",
              "      <td>GKP</td>\n",
              "      <td>2.0</td>\n",
              "      <td>17</td>\n",
              "      <td>230_12</td>\n",
              "      <td>-0.059676</td>\n",
              "      <td>-0.029888</td>\n",
              "      <td>0.386570</td>\n",
              "      <td>0.964877</td>\n",
              "      <td>0.545300</td>\n",
              "      <td>-0.005056</td>\n",
              "      <td>1.926669</td>\n",
              "      <td>-0.097230</td>\n",
              "      <td>1.876956</td>\n",
              "    </tr>\n",
              "    <tr>\n",
              "      <th>3</th>\n",
              "      <td>18</td>\n",
              "      <td>Udogie</td>\n",
              "      <td>DEF</td>\n",
              "      <td>2.0</td>\n",
              "      <td>4</td>\n",
              "      <td>519_10</td>\n",
              "      <td>0.018809</td>\n",
              "      <td>0.184687</td>\n",
              "      <td>0.491942</td>\n",
              "      <td>0.838700</td>\n",
              "      <td>0.491338</td>\n",
              "      <td>0.041945</td>\n",
              "      <td>0.167631</td>\n",
              "      <td>-0.031886</td>\n",
              "      <td>3.108645</td>\n",
              "    </tr>\n",
              "    <tr>\n",
              "      <th>4</th>\n",
              "      <td>18</td>\n",
              "      <td>Udogie</td>\n",
              "      <td>DEF</td>\n",
              "      <td>3.0</td>\n",
              "      <td>4</td>\n",
              "      <td>519_11</td>\n",
              "      <td>-0.009448</td>\n",
              "      <td>0.155294</td>\n",
              "      <td>0.339142</td>\n",
              "      <td>0.863417</td>\n",
              "      <td>0.380130</td>\n",
              "      <td>0.001351</td>\n",
              "      <td>-0.144648</td>\n",
              "      <td>0.041666</td>\n",
              "      <td>1.496825</td>\n",
              "    </tr>\n",
              "    <tr>\n",
              "      <th>5</th>\n",
              "      <td>18</td>\n",
              "      <td>Udogie</td>\n",
              "      <td>DEF</td>\n",
              "      <td>2.0</td>\n",
              "      <td>4</td>\n",
              "      <td>519_12</td>\n",
              "      <td>0.018809</td>\n",
              "      <td>0.184687</td>\n",
              "      <td>0.491942</td>\n",
              "      <td>0.838700</td>\n",
              "      <td>0.491338</td>\n",
              "      <td>0.041945</td>\n",
              "      <td>0.167631</td>\n",
              "      <td>-0.031886</td>\n",
              "      <td>3.108645</td>\n",
              "    </tr>\n",
              "    <tr>\n",
              "      <th>6</th>\n",
              "      <td>2</td>\n",
              "      <td>Cash</td>\n",
              "      <td>DEF</td>\n",
              "      <td>2.0</td>\n",
              "      <td>15</td>\n",
              "      <td>36_10</td>\n",
              "      <td>0.145892</td>\n",
              "      <td>0.117559</td>\n",
              "      <td>0.309050</td>\n",
              "      <td>1.260648</td>\n",
              "      <td>0.429348</td>\n",
              "      <td>-0.083639</td>\n",
              "      <td>-0.012598</td>\n",
              "      <td>0.012529</td>\n",
              "      <td>1.494524</td>\n",
              "    </tr>\n",
              "    <tr>\n",
              "      <th>7</th>\n",
              "      <td>2</td>\n",
              "      <td>Cash</td>\n",
              "      <td>DEF</td>\n",
              "      <td>2.0</td>\n",
              "      <td>15</td>\n",
              "      <td>36_11</td>\n",
              "      <td>0.227585</td>\n",
              "      <td>0.346248</td>\n",
              "      <td>0.157664</td>\n",
              "      <td>1.303036</td>\n",
              "      <td>0.474705</td>\n",
              "      <td>0.086835</td>\n",
              "      <td>-0.061070</td>\n",
              "      <td>-0.048264</td>\n",
              "      <td>2.874590</td>\n",
              "    </tr>\n",
              "    <tr>\n",
              "      <th>8</th>\n",
              "      <td>2</td>\n",
              "      <td>Cash</td>\n",
              "      <td>DEF</td>\n",
              "      <td>2.0</td>\n",
              "      <td>15</td>\n",
              "      <td>36_12</td>\n",
              "      <td>0.145892</td>\n",
              "      <td>0.117559</td>\n",
              "      <td>0.309050</td>\n",
              "      <td>1.260648</td>\n",
              "      <td>0.429348</td>\n",
              "      <td>-0.083639</td>\n",
              "      <td>-0.012598</td>\n",
              "      <td>0.012529</td>\n",
              "      <td>1.494524</td>\n",
              "    </tr>\n",
              "    <tr>\n",
              "      <th>9</th>\n",
              "      <td>1</td>\n",
              "      <td>Saliba</td>\n",
              "      <td>DEF</td>\n",
              "      <td>2.0</td>\n",
              "      <td>16</td>\n",
              "      <td>20_10</td>\n",
              "      <td>-0.194500</td>\n",
              "      <td>0.079477</td>\n",
              "      <td>0.369141</td>\n",
              "      <td>0.744986</td>\n",
              "      <td>0.540762</td>\n",
              "      <td>0.027400</td>\n",
              "      <td>-0.046241</td>\n",
              "      <td>0.075163</td>\n",
              "      <td>0.684172</td>\n",
              "    </tr>\n",
              "    <tr>\n",
              "      <th>10</th>\n",
              "      <td>1</td>\n",
              "      <td>Saliba</td>\n",
              "      <td>DEF</td>\n",
              "      <td>4.0</td>\n",
              "      <td>16</td>\n",
              "      <td>20_11</td>\n",
              "      <td>0.393603</td>\n",
              "      <td>0.232509</td>\n",
              "      <td>0.447335</td>\n",
              "      <td>0.730864</td>\n",
              "      <td>0.204898</td>\n",
              "      <td>-0.002323</td>\n",
              "      <td>0.024687</td>\n",
              "      <td>-0.064980</td>\n",
              "      <td>4.896430</td>\n",
              "    </tr>\n",
              "    <tr>\n",
              "      <th>11</th>\n",
              "      <td>1</td>\n",
              "      <td>Saliba</td>\n",
              "      <td>DEF</td>\n",
              "      <td>2.0</td>\n",
              "      <td>16</td>\n",
              "      <td>20_12</td>\n",
              "      <td>-0.194500</td>\n",
              "      <td>0.079477</td>\n",
              "      <td>0.369141</td>\n",
              "      <td>0.744986</td>\n",
              "      <td>0.540762</td>\n",
              "      <td>0.027400</td>\n",
              "      <td>-0.046241</td>\n",
              "      <td>0.075163</td>\n",
              "      <td>0.684172</td>\n",
              "    </tr>\n",
              "    <tr>\n",
              "      <th>12</th>\n",
              "      <td>1</td>\n",
              "      <td>Saka</td>\n",
              "      <td>MID</td>\n",
              "      <td>2.0</td>\n",
              "      <td>16</td>\n",
              "      <td>19_10</td>\n",
              "      <td>0.408085</td>\n",
              "      <td>0.398058</td>\n",
              "      <td>0.252135</td>\n",
              "      <td>0.723889</td>\n",
              "      <td>0.758785</td>\n",
              "      <td>0.071043</td>\n",
              "      <td>-0.058894</td>\n",
              "      <td>-0.121917</td>\n",
              "      <td>4.844572</td>\n",
              "    </tr>\n",
              "    <tr>\n",
              "      <th>13</th>\n",
              "      <td>1</td>\n",
              "      <td>Saka</td>\n",
              "      <td>MID</td>\n",
              "      <td>4.0</td>\n",
              "      <td>16</td>\n",
              "      <td>19_11</td>\n",
              "      <td>0.554863</td>\n",
              "      <td>0.357107</td>\n",
              "      <td>0.576156</td>\n",
              "      <td>0.856814</td>\n",
              "      <td>1.025943</td>\n",
              "      <td>-0.005249</td>\n",
              "      <td>-0.134384</td>\n",
              "      <td>0.102636</td>\n",
              "      <td>5.216218</td>\n",
              "    </tr>\n",
              "    <tr>\n",
              "      <th>14</th>\n",
              "      <td>1</td>\n",
              "      <td>Saka</td>\n",
              "      <td>MID</td>\n",
              "      <td>2.0</td>\n",
              "      <td>16</td>\n",
              "      <td>19_12</td>\n",
              "      <td>0.408085</td>\n",
              "      <td>0.398058</td>\n",
              "      <td>0.252135</td>\n",
              "      <td>0.723889</td>\n",
              "      <td>0.758785</td>\n",
              "      <td>0.071043</td>\n",
              "      <td>-0.058894</td>\n",
              "      <td>-0.121917</td>\n",
              "      <td>4.844572</td>\n",
              "    </tr>\n",
              "    <tr>\n",
              "      <th>15</th>\n",
              "      <td>18</td>\n",
              "      <td>Maddison</td>\n",
              "      <td>MID</td>\n",
              "      <td>2.0</td>\n",
              "      <td>4</td>\n",
              "      <td>504_10</td>\n",
              "      <td>0.409142</td>\n",
              "      <td>0.509094</td>\n",
              "      <td>0.453797</td>\n",
              "      <td>0.997526</td>\n",
              "      <td>0.815288</td>\n",
              "      <td>-0.009803</td>\n",
              "      <td>-0.153153</td>\n",
              "      <td>0.082178</td>\n",
              "      <td>4.628704</td>\n",
              "    </tr>\n",
              "    <tr>\n",
              "      <th>16</th>\n",
              "      <td>18</td>\n",
              "      <td>Maddison</td>\n",
              "      <td>MID</td>\n",
              "      <td>3.0</td>\n",
              "      <td>4</td>\n",
              "      <td>504_11</td>\n",
              "      <td>0.358808</td>\n",
              "      <td>0.561548</td>\n",
              "      <td>0.408455</td>\n",
              "      <td>0.935698</td>\n",
              "      <td>0.764719</td>\n",
              "      <td>0.004503</td>\n",
              "      <td>0.092162</td>\n",
              "      <td>0.057052</td>\n",
              "      <td>4.560268</td>\n",
              "    </tr>\n",
              "    <tr>\n",
              "      <th>17</th>\n",
              "      <td>18</td>\n",
              "      <td>Maddison</td>\n",
              "      <td>MID</td>\n",
              "      <td>2.0</td>\n",
              "      <td>4</td>\n",
              "      <td>504_12</td>\n",
              "      <td>0.409142</td>\n",
              "      <td>0.509094</td>\n",
              "      <td>0.453797</td>\n",
              "      <td>0.997526</td>\n",
              "      <td>0.815288</td>\n",
              "      <td>-0.009803</td>\n",
              "      <td>-0.153153</td>\n",
              "      <td>0.082178</td>\n",
              "      <td>4.628704</td>\n",
              "    </tr>\n",
              "    <tr>\n",
              "      <th>18</th>\n",
              "      <td>14</td>\n",
              "      <td>B.Fernandes</td>\n",
              "      <td>MID</td>\n",
              "      <td>5.0</td>\n",
              "      <td>20</td>\n",
              "      <td>373_10</td>\n",
              "      <td>0.694081</td>\n",
              "      <td>0.329310</td>\n",
              "      <td>0.346044</td>\n",
              "      <td>1.666699</td>\n",
              "      <td>1.104408</td>\n",
              "      <td>0.057508</td>\n",
              "      <td>-0.260658</td>\n",
              "      <td>-0.059322</td>\n",
              "      <td>6.314972</td>\n",
              "    </tr>\n",
              "    <tr>\n",
              "      <th>19</th>\n",
              "      <td>14</td>\n",
              "      <td>B.Fernandes</td>\n",
              "      <td>MID</td>\n",
              "      <td>2.0</td>\n",
              "      <td>20</td>\n",
              "      <td>373_11</td>\n",
              "      <td>0.070447</td>\n",
              "      <td>0.138650</td>\n",
              "      <td>0.237428</td>\n",
              "      <td>1.216746</td>\n",
              "      <td>0.902012</td>\n",
              "      <td>0.014192</td>\n",
              "      <td>-0.048896</td>\n",
              "      <td>-0.007180</td>\n",
              "      <td>1.992943</td>\n",
              "    </tr>\n",
              "    <tr>\n",
              "      <th>20</th>\n",
              "      <td>14</td>\n",
              "      <td>B.Fernandes</td>\n",
              "      <td>MID</td>\n",
              "      <td>2.0</td>\n",
              "      <td>20</td>\n",
              "      <td>373_12</td>\n",
              "      <td>0.275268</td>\n",
              "      <td>0.197798</td>\n",
              "      <td>0.251421</td>\n",
              "      <td>1.397882</td>\n",
              "      <td>0.767434</td>\n",
              "      <td>-0.030414</td>\n",
              "      <td>-0.017606</td>\n",
              "      <td>-0.033469</td>\n",
              "      <td>2.903458</td>\n",
              "    </tr>\n",
              "    <tr>\n",
              "      <th>21</th>\n",
              "      <td>18</td>\n",
              "      <td>Son</td>\n",
              "      <td>MID</td>\n",
              "      <td>2.0</td>\n",
              "      <td>4</td>\n",
              "      <td>516_10</td>\n",
              "      <td>0.846667</td>\n",
              "      <td>0.114439</td>\n",
              "      <td>0.400235</td>\n",
              "      <td>1.007147</td>\n",
              "      <td>1.046413</td>\n",
              "      <td>0.007070</td>\n",
              "      <td>0.013395</td>\n",
              "      <td>0.138077</td>\n",
              "      <td>5.782491</td>\n",
              "    </tr>\n",
              "    <tr>\n",
              "      <th>22</th>\n",
              "      <td>18</td>\n",
              "      <td>Son</td>\n",
              "      <td>MID</td>\n",
              "      <td>3.0</td>\n",
              "      <td>4</td>\n",
              "      <td>516_11</td>\n",
              "      <td>0.676112</td>\n",
              "      <td>0.107244</td>\n",
              "      <td>0.454338</td>\n",
              "      <td>0.825086</td>\n",
              "      <td>0.865336</td>\n",
              "      <td>-0.000518</td>\n",
              "      <td>-0.052637</td>\n",
              "      <td>-0.139798</td>\n",
              "      <td>5.298970</td>\n",
              "    </tr>\n",
              "    <tr>\n",
              "      <th>23</th>\n",
              "      <td>18</td>\n",
              "      <td>Son</td>\n",
              "      <td>MID</td>\n",
              "      <td>2.0</td>\n",
              "      <td>4</td>\n",
              "      <td>516_12</td>\n",
              "      <td>0.846667</td>\n",
              "      <td>0.114439</td>\n",
              "      <td>0.400235</td>\n",
              "      <td>1.007147</td>\n",
              "      <td>1.046413</td>\n",
              "      <td>0.007070</td>\n",
              "      <td>0.013395</td>\n",
              "      <td>0.138077</td>\n",
              "      <td>5.782491</td>\n",
              "    </tr>\n",
              "    <tr>\n",
              "      <th>24</th>\n",
              "      <td>5</td>\n",
              "      <td>March</td>\n",
              "      <td>MID</td>\n",
              "      <td>2.0</td>\n",
              "      <td>12</td>\n",
              "      <td>140_10</td>\n",
              "      <td>0.331185</td>\n",
              "      <td>0.193626</td>\n",
              "      <td>0.077496</td>\n",
              "      <td>0.925246</td>\n",
              "      <td>0.568847</td>\n",
              "      <td>-0.049324</td>\n",
              "      <td>0.059952</td>\n",
              "      <td>0.028024</td>\n",
              "      <td>2.580477</td>\n",
              "    </tr>\n",
              "    <tr>\n",
              "      <th>25</th>\n",
              "      <td>5</td>\n",
              "      <td>March</td>\n",
              "      <td>MID</td>\n",
              "      <td>2.0</td>\n",
              "      <td>12</td>\n",
              "      <td>140_11</td>\n",
              "      <td>0.317183</td>\n",
              "      <td>0.087197</td>\n",
              "      <td>0.217277</td>\n",
              "      <td>0.799232</td>\n",
              "      <td>0.539790</td>\n",
              "      <td>-0.134703</td>\n",
              "      <td>0.139658</td>\n",
              "      <td>0.042913</td>\n",
              "      <td>1.845227</td>\n",
              "    </tr>\n",
              "    <tr>\n",
              "      <th>26</th>\n",
              "      <td>5</td>\n",
              "      <td>March</td>\n",
              "      <td>MID</td>\n",
              "      <td>2.0</td>\n",
              "      <td>12</td>\n",
              "      <td>140_12</td>\n",
              "      <td>0.331185</td>\n",
              "      <td>0.193626</td>\n",
              "      <td>0.077496</td>\n",
              "      <td>0.925246</td>\n",
              "      <td>0.568847</td>\n",
              "      <td>-0.049324</td>\n",
              "      <td>0.059952</td>\n",
              "      <td>0.028024</td>\n",
              "      <td>2.580477</td>\n",
              "    </tr>\n",
              "    <tr>\n",
              "      <th>27</th>\n",
              "      <td>13</td>\n",
              "      <td>Haaland</td>\n",
              "      <td>FWD</td>\n",
              "      <td>4.0</td>\n",
              "      <td>6</td>\n",
              "      <td>355_10</td>\n",
              "      <td>0.518395</td>\n",
              "      <td>0.002973</td>\n",
              "      <td>0.039628</td>\n",
              "      <td>0.887634</td>\n",
              "      <td>0.645852</td>\n",
              "      <td>0.026335</td>\n",
              "      <td>0.074542</td>\n",
              "      <td>0.097488</td>\n",
              "      <td>2.665048</td>\n",
              "    </tr>\n",
              "    <tr>\n",
              "      <th>28</th>\n",
              "      <td>13</td>\n",
              "      <td>Haaland</td>\n",
              "      <td>FWD</td>\n",
              "      <td>2.0</td>\n",
              "      <td>6</td>\n",
              "      <td>355_11</td>\n",
              "      <td>0.812267</td>\n",
              "      <td>0.024789</td>\n",
              "      <td>0.472598</td>\n",
              "      <td>0.731810</td>\n",
              "      <td>0.490216</td>\n",
              "      <td>-0.003939</td>\n",
              "      <td>-0.008102</td>\n",
              "      <td>0.126072</td>\n",
              "      <td>3.541813</td>\n",
              "    </tr>\n",
              "    <tr>\n",
              "      <th>29</th>\n",
              "      <td>13</td>\n",
              "      <td>Haaland</td>\n",
              "      <td>FWD</td>\n",
              "      <td>3.0</td>\n",
              "      <td>6</td>\n",
              "      <td>355_12</td>\n",
              "      <td>0.653027</td>\n",
              "      <td>0.051779</td>\n",
              "      <td>0.101655</td>\n",
              "      <td>0.843857</td>\n",
              "      <td>0.559448</td>\n",
              "      <td>0.020121</td>\n",
              "      <td>0.038569</td>\n",
              "      <td>0.095527</td>\n",
              "      <td>3.236441</td>\n",
              "    </tr>\n",
              "    <tr>\n",
              "      <th>30</th>\n",
              "      <td>13</td>\n",
              "      <td>J.Alvarez</td>\n",
              "      <td>FWD</td>\n",
              "      <td>4.0</td>\n",
              "      <td>6</td>\n",
              "      <td>343_10</td>\n",
              "      <td>0.673561</td>\n",
              "      <td>0.099510</td>\n",
              "      <td>0.404327</td>\n",
              "      <td>0.163420</td>\n",
              "      <td>1.059558</td>\n",
              "      <td>-0.120653</td>\n",
              "      <td>0.478878</td>\n",
              "      <td>-0.360759</td>\n",
              "      <td>4.170587</td>\n",
              "    </tr>\n",
              "    <tr>\n",
              "      <th>31</th>\n",
              "      <td>13</td>\n",
              "      <td>J.Alvarez</td>\n",
              "      <td>FWD</td>\n",
              "      <td>2.0</td>\n",
              "      <td>6</td>\n",
              "      <td>343_11</td>\n",
              "      <td>0.304884</td>\n",
              "      <td>0.669771</td>\n",
              "      <td>0.214486</td>\n",
              "      <td>0.526775</td>\n",
              "      <td>0.976142</td>\n",
              "      <td>-0.038190</td>\n",
              "      <td>-0.135800</td>\n",
              "      <td>-0.036110</td>\n",
              "      <td>4.086258</td>\n",
              "    </tr>\n",
              "    <tr>\n",
              "      <th>32</th>\n",
              "      <td>13</td>\n",
              "      <td>J.Alvarez</td>\n",
              "      <td>FWD</td>\n",
              "      <td>3.0</td>\n",
              "      <td>6</td>\n",
              "      <td>343_12</td>\n",
              "      <td>0.601064</td>\n",
              "      <td>0.282896</td>\n",
              "      <td>0.337004</td>\n",
              "      <td>0.325389</td>\n",
              "      <td>1.067493</td>\n",
              "      <td>-0.050476</td>\n",
              "      <td>0.273443</td>\n",
              "      <td>-0.209144</td>\n",
              "      <td>4.486345</td>\n",
              "    </tr>\n",
              "    <tr>\n",
              "      <th>33</th>\n",
              "      <td>14</td>\n",
              "      <td>Onana</td>\n",
              "      <td>GKP</td>\n",
              "      <td>5.0</td>\n",
              "      <td>20</td>\n",
              "      <td>597_10</td>\n",
              "      <td>-0.041446</td>\n",
              "      <td>0.008507</td>\n",
              "      <td>0.367738</td>\n",
              "      <td>1.235984</td>\n",
              "      <td>0.199228</td>\n",
              "      <td>-0.007232</td>\n",
              "      <td>4.777213</td>\n",
              "      <td>-0.004239</td>\n",
              "      <td>2.143502</td>\n",
              "    </tr>\n",
              "    <tr>\n",
              "      <th>34</th>\n",
              "      <td>14</td>\n",
              "      <td>Onana</td>\n",
              "      <td>GKP</td>\n",
              "      <td>2.0</td>\n",
              "      <td>20</td>\n",
              "      <td>597_11</td>\n",
              "      <td>0.018301</td>\n",
              "      <td>-0.023751</td>\n",
              "      <td>0.288767</td>\n",
              "      <td>1.348568</td>\n",
              "      <td>0.133626</td>\n",
              "      <td>0.059514</td>\n",
              "      <td>3.416199</td>\n",
              "      <td>-0.013232</td>\n",
              "      <td>1.730209</td>\n",
              "    </tr>\n",
              "    <tr>\n",
              "      <th>35</th>\n",
              "      <td>14</td>\n",
              "      <td>Onana</td>\n",
              "      <td>GKP</td>\n",
              "      <td>2.0</td>\n",
              "      <td>20</td>\n",
              "      <td>597_12</td>\n",
              "      <td>0.091453</td>\n",
              "      <td>-0.024344</td>\n",
              "      <td>0.193142</td>\n",
              "      <td>1.259544</td>\n",
              "      <td>0.219685</td>\n",
              "      <td>0.109595</td>\n",
              "      <td>3.485735</td>\n",
              "      <td>-0.008304</td>\n",
              "      <td>2.128033</td>\n",
              "    </tr>\n",
              "    <tr>\n",
              "      <th>36</th>\n",
              "      <td>5</td>\n",
              "      <td>Estupiñan</td>\n",
              "      <td>DEF</td>\n",
              "      <td>2.0</td>\n",
              "      <td>12</td>\n",
              "      <td>131_10</td>\n",
              "      <td>-0.003280</td>\n",
              "      <td>0.237898</td>\n",
              "      <td>0.072831</td>\n",
              "      <td>0.646170</td>\n",
              "      <td>0.521444</td>\n",
              "      <td>-0.113266</td>\n",
              "      <td>-0.083143</td>\n",
              "      <td>0.115386</td>\n",
              "      <td>0.108624</td>\n",
              "    </tr>\n",
              "    <tr>\n",
              "      <th>37</th>\n",
              "      <td>5</td>\n",
              "      <td>Estupiñan</td>\n",
              "      <td>DEF</td>\n",
              "      <td>2.0</td>\n",
              "      <td>12</td>\n",
              "      <td>131_11</td>\n",
              "      <td>-0.046501</td>\n",
              "      <td>-0.005416</td>\n",
              "      <td>0.031359</td>\n",
              "      <td>0.931141</td>\n",
              "      <td>0.530556</td>\n",
              "      <td>-0.167227</td>\n",
              "      <td>0.007113</td>\n",
              "      <td>0.153898</td>\n",
              "      <td>-1.680601</td>\n",
              "    </tr>\n",
              "    <tr>\n",
              "      <th>38</th>\n",
              "      <td>5</td>\n",
              "      <td>Estupiñan</td>\n",
              "      <td>DEF</td>\n",
              "      <td>2.0</td>\n",
              "      <td>12</td>\n",
              "      <td>131_12</td>\n",
              "      <td>-0.003280</td>\n",
              "      <td>0.237898</td>\n",
              "      <td>0.072831</td>\n",
              "      <td>0.646170</td>\n",
              "      <td>0.521444</td>\n",
              "      <td>-0.113266</td>\n",
              "      <td>-0.083143</td>\n",
              "      <td>0.115386</td>\n",
              "      <td>0.108624</td>\n",
              "    </tr>\n",
              "    <tr>\n",
              "      <th>39</th>\n",
              "      <td>5</td>\n",
              "      <td>Lamptey</td>\n",
              "      <td>DEF</td>\n",
              "      <td>2.0</td>\n",
              "      <td>12</td>\n",
              "      <td>139_10</td>\n",
              "      <td>0.086904</td>\n",
              "      <td>0.192815</td>\n",
              "      <td>-0.051468</td>\n",
              "      <td>0.581319</td>\n",
              "      <td>-0.063733</td>\n",
              "      <td>-0.041587</td>\n",
              "      <td>0.107062</td>\n",
              "      <td>0.023246</td>\n",
              "      <td>-0.021258</td>\n",
              "    </tr>\n",
              "    <tr>\n",
              "      <th>40</th>\n",
              "      <td>5</td>\n",
              "      <td>Lamptey</td>\n",
              "      <td>DEF</td>\n",
              "      <td>2.0</td>\n",
              "      <td>12</td>\n",
              "      <td>139_11</td>\n",
              "      <td>0.129654</td>\n",
              "      <td>0.211814</td>\n",
              "      <td>0.030040</td>\n",
              "      <td>0.534967</td>\n",
              "      <td>-0.058169</td>\n",
              "      <td>-0.083250</td>\n",
              "      <td>0.092124</td>\n",
              "      <td>-0.043142</td>\n",
              "      <td>0.671171</td>\n",
              "    </tr>\n",
              "    <tr>\n",
              "      <th>41</th>\n",
              "      <td>5</td>\n",
              "      <td>Lamptey</td>\n",
              "      <td>DEF</td>\n",
              "      <td>2.0</td>\n",
              "      <td>12</td>\n",
              "      <td>139_12</td>\n",
              "      <td>0.086904</td>\n",
              "      <td>0.192815</td>\n",
              "      <td>-0.051468</td>\n",
              "      <td>0.581319</td>\n",
              "      <td>-0.063733</td>\n",
              "      <td>-0.041587</td>\n",
              "      <td>0.107062</td>\n",
              "      <td>0.023246</td>\n",
              "      <td>-0.021258</td>\n",
              "    </tr>\n",
              "    <tr>\n",
              "      <th>42</th>\n",
              "      <td>16</td>\n",
              "      <td>Ui-jo</td>\n",
              "      <td>FWD</td>\n",
              "      <td>4.0</td>\n",
              "      <td>1</td>\n",
              "      <td>466_10</td>\n",
              "      <td>-0.025800</td>\n",
              "      <td>-0.013317</td>\n",
              "      <td>0.058080</td>\n",
              "      <td>0.234449</td>\n",
              "      <td>-0.002650</td>\n",
              "      <td>-0.022250</td>\n",
              "      <td>0.009328</td>\n",
              "      <td>0.069237</td>\n",
              "      <td>-0.395521</td>\n",
              "    </tr>\n",
              "    <tr>\n",
              "      <th>43</th>\n",
              "      <td>16</td>\n",
              "      <td>Ui-jo</td>\n",
              "      <td>FWD</td>\n",
              "      <td>3.0</td>\n",
              "      <td>1</td>\n",
              "      <td>466_11</td>\n",
              "      <td>0.032645</td>\n",
              "      <td>0.005698</td>\n",
              "      <td>0.038063</td>\n",
              "      <td>0.073076</td>\n",
              "      <td>0.000585</td>\n",
              "      <td>-0.021310</td>\n",
              "      <td>0.077477</td>\n",
              "      <td>-0.174209</td>\n",
              "      <td>0.390126</td>\n",
              "    </tr>\n",
              "    <tr>\n",
              "      <th>44</th>\n",
              "      <td>16</td>\n",
              "      <td>Ui-jo</td>\n",
              "      <td>FWD</td>\n",
              "      <td>3.0</td>\n",
              "      <td>1</td>\n",
              "      <td>466_12</td>\n",
              "      <td>-0.056910</td>\n",
              "      <td>-0.030799</td>\n",
              "      <td>0.066903</td>\n",
              "      <td>0.259903</td>\n",
              "      <td>-0.005574</td>\n",
              "      <td>0.006125</td>\n",
              "      <td>-0.008166</td>\n",
              "      <td>-0.052188</td>\n",
              "      <td>-0.190606</td>\n",
              "    </tr>\n",
              "  </tbody>\n",
              "</table>\n",
              "</div>\n",
              "    <div class=\"colab-df-buttons\">\n",
              "\n",
              "  <div class=\"colab-df-container\">\n",
              "    <button class=\"colab-df-convert\" onclick=\"convertToInteractive('df-72e4675a-652f-4ac6-9cc5-83c04c9fd70a')\"\n",
              "            title=\"Convert this dataframe to an interactive table.\"\n",
              "            style=\"display:none;\">\n",
              "\n",
              "  <svg xmlns=\"http://www.w3.org/2000/svg\" height=\"24px\" viewBox=\"0 -960 960 960\">\n",
              "    <path d=\"M120-120v-720h720v720H120Zm60-500h600v-160H180v160Zm220 220h160v-160H400v160Zm0 220h160v-160H400v160ZM180-400h160v-160H180v160Zm440 0h160v-160H620v160ZM180-180h160v-160H180v160Zm440 0h160v-160H620v160Z\"/>\n",
              "  </svg>\n",
              "    </button>\n",
              "\n",
              "  <style>\n",
              "    .colab-df-container {\n",
              "      display:flex;\n",
              "      gap: 12px;\n",
              "    }\n",
              "\n",
              "    .colab-df-convert {\n",
              "      background-color: #E8F0FE;\n",
              "      border: none;\n",
              "      border-radius: 50%;\n",
              "      cursor: pointer;\n",
              "      display: none;\n",
              "      fill: #1967D2;\n",
              "      height: 32px;\n",
              "      padding: 0 0 0 0;\n",
              "      width: 32px;\n",
              "    }\n",
              "\n",
              "    .colab-df-convert:hover {\n",
              "      background-color: #E2EBFA;\n",
              "      box-shadow: 0px 1px 2px rgba(60, 64, 67, 0.3), 0px 1px 3px 1px rgba(60, 64, 67, 0.15);\n",
              "      fill: #174EA6;\n",
              "    }\n",
              "\n",
              "    .colab-df-buttons div {\n",
              "      margin-bottom: 4px;\n",
              "    }\n",
              "\n",
              "    [theme=dark] .colab-df-convert {\n",
              "      background-color: #3B4455;\n",
              "      fill: #D2E3FC;\n",
              "    }\n",
              "\n",
              "    [theme=dark] .colab-df-convert:hover {\n",
              "      background-color: #434B5C;\n",
              "      box-shadow: 0px 1px 3px 1px rgba(0, 0, 0, 0.15);\n",
              "      filter: drop-shadow(0px 1px 2px rgba(0, 0, 0, 0.3));\n",
              "      fill: #FFFFFF;\n",
              "    }\n",
              "  </style>\n",
              "\n",
              "    <script>\n",
              "      const buttonEl =\n",
              "        document.querySelector('#df-72e4675a-652f-4ac6-9cc5-83c04c9fd70a button.colab-df-convert');\n",
              "      buttonEl.style.display =\n",
              "        google.colab.kernel.accessAllowed ? 'block' : 'none';\n",
              "\n",
              "      async function convertToInteractive(key) {\n",
              "        const element = document.querySelector('#df-72e4675a-652f-4ac6-9cc5-83c04c9fd70a');\n",
              "        const dataTable =\n",
              "          await google.colab.kernel.invokeFunction('convertToInteractive',\n",
              "                                                    [key], {});\n",
              "        if (!dataTable) return;\n",
              "\n",
              "        const docLinkHtml = 'Like what you see? Visit the ' +\n",
              "          '<a target=\"_blank\" href=https://colab.research.google.com/notebooks/data_table.ipynb>data table notebook</a>'\n",
              "          + ' to learn more about interactive tables.';\n",
              "        element.innerHTML = '';\n",
              "        dataTable['output_type'] = 'display_data';\n",
              "        await google.colab.output.renderOutput(dataTable, element);\n",
              "        const docLink = document.createElement('div');\n",
              "        docLink.innerHTML = docLinkHtml;\n",
              "        element.appendChild(docLink);\n",
              "      }\n",
              "    </script>\n",
              "  </div>\n",
              "\n",
              "\n",
              "<div id=\"df-70d96c4f-f591-469a-bca3-4c0752106693\">\n",
              "  <button class=\"colab-df-quickchart\" onclick=\"quickchart('df-70d96c4f-f591-469a-bca3-4c0752106693')\"\n",
              "            title=\"Suggest charts.\"\n",
              "            style=\"display:none;\">\n",
              "\n",
              "<svg xmlns=\"http://www.w3.org/2000/svg\" height=\"24px\"viewBox=\"0 0 24 24\"\n",
              "     width=\"24px\">\n",
              "    <g>\n",
              "        <path d=\"M19 3H5c-1.1 0-2 .9-2 2v14c0 1.1.9 2 2 2h14c1.1 0 2-.9 2-2V5c0-1.1-.9-2-2-2zM9 17H7v-7h2v7zm4 0h-2V7h2v10zm4 0h-2v-4h2v4z\"/>\n",
              "    </g>\n",
              "</svg>\n",
              "  </button>\n",
              "\n",
              "<style>\n",
              "  .colab-df-quickchart {\n",
              "      --bg-color: #E8F0FE;\n",
              "      --fill-color: #1967D2;\n",
              "      --hover-bg-color: #E2EBFA;\n",
              "      --hover-fill-color: #174EA6;\n",
              "      --disabled-fill-color: #AAA;\n",
              "      --disabled-bg-color: #DDD;\n",
              "  }\n",
              "\n",
              "  [theme=dark] .colab-df-quickchart {\n",
              "      --bg-color: #3B4455;\n",
              "      --fill-color: #D2E3FC;\n",
              "      --hover-bg-color: #434B5C;\n",
              "      --hover-fill-color: #FFFFFF;\n",
              "      --disabled-bg-color: #3B4455;\n",
              "      --disabled-fill-color: #666;\n",
              "  }\n",
              "\n",
              "  .colab-df-quickchart {\n",
              "    background-color: var(--bg-color);\n",
              "    border: none;\n",
              "    border-radius: 50%;\n",
              "    cursor: pointer;\n",
              "    display: none;\n",
              "    fill: var(--fill-color);\n",
              "    height: 32px;\n",
              "    padding: 0;\n",
              "    width: 32px;\n",
              "  }\n",
              "\n",
              "  .colab-df-quickchart:hover {\n",
              "    background-color: var(--hover-bg-color);\n",
              "    box-shadow: 0 1px 2px rgba(60, 64, 67, 0.3), 0 1px 3px 1px rgba(60, 64, 67, 0.15);\n",
              "    fill: var(--button-hover-fill-color);\n",
              "  }\n",
              "\n",
              "  .colab-df-quickchart-complete:disabled,\n",
              "  .colab-df-quickchart-complete:disabled:hover {\n",
              "    background-color: var(--disabled-bg-color);\n",
              "    fill: var(--disabled-fill-color);\n",
              "    box-shadow: none;\n",
              "  }\n",
              "\n",
              "  .colab-df-spinner {\n",
              "    border: 2px solid var(--fill-color);\n",
              "    border-color: transparent;\n",
              "    border-bottom-color: var(--fill-color);\n",
              "    animation:\n",
              "      spin 1s steps(1) infinite;\n",
              "  }\n",
              "\n",
              "  @keyframes spin {\n",
              "    0% {\n",
              "      border-color: transparent;\n",
              "      border-bottom-color: var(--fill-color);\n",
              "      border-left-color: var(--fill-color);\n",
              "    }\n",
              "    20% {\n",
              "      border-color: transparent;\n",
              "      border-left-color: var(--fill-color);\n",
              "      border-top-color: var(--fill-color);\n",
              "    }\n",
              "    30% {\n",
              "      border-color: transparent;\n",
              "      border-left-color: var(--fill-color);\n",
              "      border-top-color: var(--fill-color);\n",
              "      border-right-color: var(--fill-color);\n",
              "    }\n",
              "    40% {\n",
              "      border-color: transparent;\n",
              "      border-right-color: var(--fill-color);\n",
              "      border-top-color: var(--fill-color);\n",
              "    }\n",
              "    60% {\n",
              "      border-color: transparent;\n",
              "      border-right-color: var(--fill-color);\n",
              "    }\n",
              "    80% {\n",
              "      border-color: transparent;\n",
              "      border-right-color: var(--fill-color);\n",
              "      border-bottom-color: var(--fill-color);\n",
              "    }\n",
              "    90% {\n",
              "      border-color: transparent;\n",
              "      border-bottom-color: var(--fill-color);\n",
              "    }\n",
              "  }\n",
              "</style>\n",
              "\n",
              "  <script>\n",
              "    async function quickchart(key) {\n",
              "      const quickchartButtonEl =\n",
              "        document.querySelector('#' + key + ' button');\n",
              "      quickchartButtonEl.disabled = true;  // To prevent multiple clicks.\n",
              "      quickchartButtonEl.classList.add('colab-df-spinner');\n",
              "      try {\n",
              "        const charts = await google.colab.kernel.invokeFunction(\n",
              "            'suggestCharts', [key], {});\n",
              "      } catch (error) {\n",
              "        console.error('Error during call to suggestCharts:', error);\n",
              "      }\n",
              "      quickchartButtonEl.classList.remove('colab-df-spinner');\n",
              "      quickchartButtonEl.classList.add('colab-df-quickchart-complete');\n",
              "    }\n",
              "    (() => {\n",
              "      let quickchartButtonEl =\n",
              "        document.querySelector('#df-70d96c4f-f591-469a-bca3-4c0752106693 button');\n",
              "      quickchartButtonEl.style.display =\n",
              "        google.colab.kernel.accessAllowed ? 'block' : 'none';\n",
              "    })();\n",
              "  </script>\n",
              "</div>\n",
              "    </div>\n",
              "  </div>\n"
            ]
          },
          "metadata": {},
          "execution_count": 135
        }
      ]
    },
    {
      "cell_type": "code",
      "source": [],
      "metadata": {
        "id": "mwFQyallMvha"
      },
      "execution_count": null,
      "outputs": []
    }
  ],
  "metadata": {
    "colab": {
      "provenance": [],
      "collapsed_sections": [
        "UBt92HKSmBoE",
        "RYnFPWRAmBo2"
      ]
    },
    "kernelspec": {
      "display_name": "Python 3",
      "language": "python",
      "name": "python3"
    },
    "language_info": {
      "codemirror_mode": {
        "name": "ipython",
        "version": 3
      },
      "file_extension": ".py",
      "mimetype": "text/x-python",
      "name": "python",
      "nbconvert_exporter": "python",
      "pygments_lexer": "ipython3",
      "version": "3.10.12"
    }
  },
  "nbformat": 4,
  "nbformat_minor": 0
}