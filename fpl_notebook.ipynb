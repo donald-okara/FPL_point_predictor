{
  "cells": [
    {
      "cell_type": "markdown",
      "metadata": {
        "id": "UBt92HKSmBoE"
      },
      "source": [
        "# 1. Teams Filtering"
      ]
    },
    {
      "cell_type": "markdown",
      "metadata": {
        "id": "4kgC6MQLmBoI"
      },
      "source": [
        "The link to all these APIs is: https://www.game-change.co.uk/2023/02/10/a-complete-guide-to-the-fantasy-premier-league-fpl-api/\n",
        "\n",
        "Descriptions of each dataframe are in the notes."
      ]
    },
    {
      "cell_type": "code",
      "execution_count": null,
      "metadata": {
        "id": "SOEwBIACmBoJ"
      },
      "outputs": [],
      "source": [
        "#Importing libraries\n",
        "\n",
        "import pandas as pd\n",
        "import numpy as np\n",
        "import seaborn as sns\n",
        "import matplotlib.pyplot as plt\n",
        "import requests\n",
        "\n",
        "print(\"Libraries imported successfully......\")"
      ]
    },
    {
      "cell_type": "markdown",
      "metadata": {
        "id": "yf0JydcxmBoL"
      },
      "source": [
        "### i. Add fixture data to the teams data"
      ]
    },
    {
      "cell_type": "markdown",
      "metadata": {
        "id": "TjejaYfxmBoM"
      },
      "source": [
        "a) Teams DF"
      ]
    },
    {
      "cell_type": "code",
      "execution_count": null,
      "metadata": {
        "id": "ljg21HQpmBoM"
      },
      "outputs": [],
      "source": [
        "# Imported full data from last seasons\n",
        "\n",
        "url = 'https://fantasy.premierleague.com/api/bootstrap-static/'\n",
        "r = requests.get(url)\n",
        "json = r.json()\n",
        "\n",
        "\n",
        "#Convert to df\n",
        "\n",
        "elements_df = pd.DataFrame(json['elements'])\n",
        "elements_types_df = pd.DataFrame(json['element_types'])\n",
        "teams_df = pd.DataFrame(json['teams'])"
      ]
    },
    {
      "cell_type": "code",
      "source": [
        "elements_df = elements_df.rename(columns={'element_type': 'Position'})\n"
      ],
      "metadata": {
        "id": "MqEiFEKfVJzC"
      },
      "execution_count": null,
      "outputs": []
    },
    {
      "cell_type": "code",
      "source": [
        "def get_position(Position):\n",
        "    for idx, row in elements_types_df.iterrows():\n",
        "        if Position == row['id']:\n",
        "          return row['plural_name_short']\n",
        "    return None  # Return None if no matching fixture is found\n",
        "\n",
        "elements_df['Position'] = elements_df['Position'].apply(get_position)\n"
      ],
      "metadata": {
        "id": "Yugff_ppWX-X"
      },
      "execution_count": null,
      "outputs": []
    },
    {
      "cell_type": "code",
      "execution_count": null,
      "metadata": {
        "id": "44FHtKa0mBoN"
      },
      "outputs": [],
      "source": [
        "def append_event_id(teams_df):\n",
        "    # Create an empty DataFrame to store the expanded data\n",
        "    expanded_df = pd.DataFrame()\n",
        "\n",
        "    # Iterate through events from 1 to 38\n",
        "    for event_id in range(1, 39):\n",
        "        # Create a temporary DataFrame for the current event\n",
        "        temp_df = teams_df.copy()\n",
        "\n",
        "        # Set the 'event_id' column to the current event ID\n",
        "        temp_df['event_id'] = event_id\n",
        "\n",
        "        # Append the temporary DataFrame to the expanded DataFrame\n",
        "        expanded_df = pd.concat([expanded_df, temp_df], ignore_index=True)\n",
        "\n",
        "    return expanded_df\n",
        "\n",
        "# Call the function to create an expanded DataFrame with 'event_id'\n",
        "expanded_teams_df = append_event_id(teams_df)\n"
      ]
    },
    {
      "cell_type": "markdown",
      "metadata": {
        "id": "0mxXL_ETmBoO"
      },
      "source": [
        "b) Fixture DF"
      ]
    },
    {
      "cell_type": "code",
      "execution_count": null,
      "metadata": {
        "id": "-MzSzvLNmBoO"
      },
      "outputs": [],
      "source": [
        "import requests\n",
        "import pandas as pd\n",
        "\n",
        "def fetch_fixture_data(event_id):\n",
        "    # Define the base URL with the event_id\n",
        "    base_url = f'https://fantasy.premierleague.com/api/fixtures/?event={event_id}'\n",
        "\n",
        "    # Replace the placeholder '{}' with the actual event_id\n",
        "    formatted_url = base_url.format(event_id)\n",
        "\n",
        "    # Send an HTTP GET request to the API endpoint\n",
        "    response = requests.get(formatted_url)\n",
        "\n",
        "    # Check if the request was successful (status code 200)\n",
        "    if response.status_code == 200:\n",
        "        # Parse the JSON response to get fixture data\n",
        "        fixture_json = response.json()\n",
        "\n",
        "        # Create a DataFrame from the fixture data\n",
        "        fixture_data = pd.DataFrame(fixture_json)\n",
        "\n",
        "        return fixture_data\n",
        "    else:\n",
        "        print(f\"Request failed for event {event_id} with status code {response.status_code}\")\n",
        "        return None  # Return None in case of a failed request\n"
      ]
    },
    {
      "cell_type": "code",
      "execution_count": null,
      "metadata": {
        "id": "-Zcv_Ec3mBoP"
      },
      "outputs": [],
      "source": [
        "# Create an empty DataFrame to store the expanded fixture data\n",
        "expanded_fixture_df = pd.DataFrame()\n",
        "\n",
        "# Iterate through events from 1 to 38\n",
        "for event_id in range(1, 39):\n",
        "# Get fixture data for the current event\n",
        "    fixture_data = fetch_fixture_data(event_id)\n",
        "\n",
        "    # Create a temporary DataFrame for the fixture data\n",
        "    temp_df = fixture_data.copy()\n",
        "\n",
        "    # Set the 'event_id' column to the current event ID\n",
        "    temp_df['event_id'] = event_id\n",
        "\n",
        "    # Append the temporary DataFrame to the expanded fixture DataFrame\n",
        "    expanded_fixture_df = pd.concat([expanded_fixture_df, temp_df], ignore_index=True)\n",
        "\n",
        ""
      ]
    },
    {
      "cell_type": "code",
      "execution_count": null,
      "metadata": {
        "id": "bIyUbKp3mBoQ"
      },
      "outputs": [],
      "source": [
        "# Renaming columns\n",
        "expanded_teams_df = expanded_teams_df.rename(columns={'name' : 'team_name', 'id':'team_id', 'short_name' : 'team_short_name'})\n",
        "expanded_fixture_df = expanded_fixture_df.rename(columns={'id':'fixture_id'})"
      ]
    },
    {
      "cell_type": "markdown",
      "metadata": {
        "id": "QQgQK5O8mBoQ"
      },
      "source": [
        "#### i.i) Get fixture id"
      ]
    },
    {
      "cell_type": "code",
      "execution_count": null,
      "metadata": {
        "id": "kPnxS_lnmBoR"
      },
      "outputs": [],
      "source": [
        "def get_fixture_id(event_id,team_id):\n",
        "    for idx, row in expanded_fixture_df.iterrows():\n",
        "        if event_id == row['event_id']:\n",
        "            if team_id == row['team_a'] or team_id == row['team_h']:\n",
        "                return row['fixture_id']\n",
        "    return None  # Return None if no matching fixture is found\n",
        "\n",
        "# Assuming you want to calculate and assign fixture IDs for all teams in teams_df\n",
        "expanded_teams_df['fixture_id'] = expanded_teams_df.apply(lambda row: get_fixture_id(row['event_id'], row['team_id']), axis=1)\n"
      ]
    },
    {
      "cell_type": "markdown",
      "metadata": {
        "id": "hDuKZxFUmBoR"
      },
      "source": [
        "#### i.ii) Get fixture difficulty\n",
        "\n"
      ]
    },
    {
      "cell_type": "code",
      "execution_count": null,
      "metadata": {
        "id": "6kaHlDGwmBoR"
      },
      "outputs": [],
      "source": [
        "def get_fixture_difficulty(team_id, fixture_id):\n",
        "    for idx, row in expanded_fixture_df.iterrows():\n",
        "        if fixture_id == row['fixture_id']:\n",
        "            if team_id == row['team_a']:\n",
        "                return row['team_a_difficulty']\n",
        "\n",
        "            elif team_id == row['team_h']:\n",
        "                return row['team_h_difficulty']\n",
        "    return None  # Return None if no matching fixture is found\n",
        "\n",
        "# Assuming you want to calculate and assign fixture difficulties for all teams in teams_df\n",
        "expanded_teams_df['fixture_difficulty'] = expanded_teams_df.apply(lambda row: get_fixture_difficulty(row['team_id'], row['fixture_id']), axis=1)\n"
      ]
    },
    {
      "cell_type": "markdown",
      "metadata": {
        "id": "cBV4uDo8mBoS"
      },
      "source": [
        "#### i.iii) Team and opponent score"
      ]
    },
    {
      "cell_type": "code",
      "execution_count": null,
      "metadata": {
        "id": "36vgA70PmBoS"
      },
      "outputs": [],
      "source": [
        "def get_opponent_team(team_id, fixture_id):\n",
        "    for idx, row in expanded_fixture_df.iterrows():\n",
        "        if fixture_id == row['fixture_id']:\n",
        "            if team_id == row['team_a']:\n",
        "                return row['team_h']\n",
        "\n",
        "            elif team_id == row['team_h']:\n",
        "                return row['team_a']\n",
        "    return None  # Return None if no matching fixture is found\n",
        "\n",
        "# Assuming you want to calculate and assign fixture difficulties for all teams in teams_df\n",
        "expanded_teams_df['opponent_team'] = expanded_teams_df.apply(lambda row: get_opponent_team(row['team_id'], row['fixture_id']), axis=1)\n"
      ]
    },
    {
      "cell_type": "code",
      "execution_count": null,
      "metadata": {
        "id": "C3IFM8c1mBoS"
      },
      "outputs": [],
      "source": [
        "def get_opponent_score(team_id, fixture_id):\n",
        "    for idx, row in expanded_fixture_df.iterrows():\n",
        "        if fixture_id == row['fixture_id']:\n",
        "            if team_id == row['team_a']:\n",
        "                return row['team_h_score']\n",
        "\n",
        "            elif team_id == row['team_h']:\n",
        "                return row['team_a_score']\n",
        "    return None  # Return None if no matching fixture is found\n",
        "\n",
        "# Assuming you want to calculate and assign fixture difficulties for all teams in teams_df\n",
        "expanded_teams_df['opponent_score'] = expanded_teams_df.apply(lambda row: get_opponent_score(row['team_id'], row['fixture_id']), axis=1)\n"
      ]
    },
    {
      "cell_type": "code",
      "execution_count": null,
      "metadata": {
        "id": "uioMuULJmBoS"
      },
      "outputs": [],
      "source": [
        "def get_team_score(team_id, fixture_id):\n",
        "    for idx, row in expanded_fixture_df.iterrows():\n",
        "        if fixture_id == row['fixture_id']:\n",
        "            if team_id == row['team_a']:\n",
        "                return row['team_a_score']\n",
        "\n",
        "            elif team_id == row['team_h']:\n",
        "                return row['team_h_score']\n",
        "    return None  # Return None if no matching fixture is found\n",
        "\n",
        "# Assuming you want to calculate and assign fixture difficulties for all teams in teams_df\n",
        "expanded_teams_df['team_score'] = expanded_teams_df.apply(lambda row: get_team_score(row['team_id'], row['fixture_id']), axis=1)\n"
      ]
    },
    {
      "cell_type": "code",
      "execution_count": null,
      "metadata": {
        "id": "Z1DA5ugXmBoS"
      },
      "outputs": [],
      "source": [
        "def get_finished_status(team_id, fixture_id):\n",
        "    for idx, row in expanded_fixture_df.iterrows():\n",
        "        if fixture_id == row['fixture_id']:\n",
        "            return row['finished']\n",
        "\n",
        "\n",
        "\n",
        "# Assuming you want to calculate and assign fixture difficulties for all teams in teams_df\n",
        "expanded_teams_df['Game_played'] = expanded_teams_df.apply(lambda row: get_finished_status(row['team_id'], row['fixture_id']), axis=1)"
      ]
    },
    {
      "cell_type": "markdown",
      "metadata": {
        "id": "Hnk1BQIJmBoT"
      },
      "source": [
        "#### i.iv) If fixture is home"
      ]
    },
    {
      "cell_type": "code",
      "execution_count": null,
      "metadata": {
        "id": "slLa9Y8NmBoT"
      },
      "outputs": [],
      "source": [
        "def get_home_status(team_id, fixture_id):\n",
        "    for idx, row in expanded_fixture_df.iterrows():\n",
        "        if fixture_id == row['fixture_id']:\n",
        "            if team_id == row['team_a']:\n",
        "                return False\n",
        "\n",
        "            elif team_id == row['team_h']:\n",
        "                return True\n",
        "    return None  # Return None if no matching fixture is found\n",
        "\n",
        "# Assuming you want to calculate and assign fixture difficulties for all teams in teams_df\n",
        "expanded_teams_df['is_home'] = expanded_teams_df.apply(lambda row: get_home_status(row['team_id'], row['fixture_id']), axis=1)\n"
      ]
    },
    {
      "cell_type": "markdown",
      "metadata": {
        "id": "86wNmnl2mBoT"
      },
      "source": [
        "#### i.v) If deadline passed"
      ]
    },
    {
      "cell_type": "code",
      "execution_count": null,
      "metadata": {
        "id": "C_MOM7TFmBoT"
      },
      "outputs": [],
      "source": [
        "def get_kickoff_time(team_id, fixture_id):\n",
        "    for idx, row in expanded_fixture_df.iterrows():\n",
        "        if fixture_id == row['fixture_id']:\n",
        "            return row['kickoff_time']\n",
        "\n",
        "\n",
        "\n",
        "# Assuming you want to calculate and assign fixture difficulties for all teams in teams_df\n",
        "expanded_teams_df['kickoff_time'] = expanded_teams_df.apply(lambda row: get_kickoff_time(row['team_id'], row['fixture_id']), axis=1)"
      ]
    },
    {
      "cell_type": "code",
      "execution_count": null,
      "metadata": {
        "id": "sU2IXMyqmBoT"
      },
      "outputs": [],
      "source": [
        "def started(team_id, fixture_id):\n",
        "    for idx, row in expanded_fixture_df.iterrows():\n",
        "        if fixture_id == row['fixture_id']:\n",
        "            return row['started']\n",
        "\n",
        "\n",
        "\n",
        "# Assuming you want to calculate and assign fixture difficulties for all teams in teams_df\n",
        "expanded_teams_df['started'] = expanded_teams_df.apply(lambda row: started(row['team_id'], row['fixture_id']), axis=1)"
      ]
    },
    {
      "cell_type": "markdown",
      "metadata": {
        "id": "9SPeXyz6mBoU"
      },
      "source": [
        "Gameweek Deadline variable"
      ]
    },
    {
      "cell_type": "code",
      "execution_count": null,
      "metadata": {
        "id": "mI1zM1_rmBoU"
      },
      "outputs": [],
      "source": [
        "expanded_teams_df['kickoff_time'] = pd.to_datetime(expanded_teams_df['kickoff_time'])\n"
      ]
    },
    {
      "cell_type": "code",
      "execution_count": null,
      "metadata": {
        "id": "IiswjX5dmBoU"
      },
      "outputs": [],
      "source": [
        "from datetime import timedelta\n",
        "\n",
        "\n",
        "# Filter the DataFrame to get events where 'started' is False\n",
        "filtered_events = expanded_teams_df[expanded_teams_df['started'] == False]\n",
        "\n",
        "# Sort the filtered events by 'kickoff_time' in ascending order\n",
        "filtered_events = filtered_events.sort_values(by='kickoff_time')\n",
        "\n",
        "# Get the first event in the sorted list\n",
        "first_event = filtered_events.iloc[0]\n",
        "\n",
        "# Calculate an hour before the 'kickoff_time' of the first event\n",
        "Gameweek_Deadline = first_event['kickoff_time'] - timedelta(hours=1)\n",
        "\n",
        "# You can now use Gameweek_Deadline as your constant\n",
        "print(\"Gameweek_Deadline:\", Gameweek_Deadline)"
      ]
    },
    {
      "cell_type": "markdown",
      "metadata": {
        "id": "reEZI_PNmBoU"
      },
      "source": [
        "### ii. Feature Engineering for team data"
      ]
    },
    {
      "cell_type": "code",
      "execution_count": null,
      "metadata": {
        "id": "5KWJLkFOmBoU"
      },
      "outputs": [],
      "source": [
        "# List of columns to drop\n",
        "columns_to_drop = ['played', 'points', 'position','strength_overall_home', 'strength_overall_away',\n",
        "       'strength_attack_home', 'strength_attack_away', 'strength_defence_home',\n",
        "       'strength_defence_away','draw', 'form','strength','win','loss','team_division']\n",
        "\n",
        "# Use the drop method to remove the specified columns\n",
        "expanded_teams_df.drop(columns=columns_to_drop, inplace=True)\n"
      ]
    },
    {
      "cell_type": "code",
      "execution_count": null,
      "metadata": {
        "id": "IDOov6y-mBoV"
      },
      "outputs": [],
      "source": [
        "expanded_teams_df = expanded_teams_df.sort_values(by='kickoff_time')\n"
      ]
    },
    {
      "cell_type": "code",
      "execution_count": null,
      "metadata": {
        "id": "0_dHg5MjmBoV"
      },
      "outputs": [],
      "source": [
        "teams = expanded_teams_df\n"
      ]
    },
    {
      "cell_type": "markdown",
      "metadata": {
        "id": "I0-LPMNLmBoV"
      },
      "source": [
        "### General Stats"
      ]
    },
    {
      "cell_type": "markdown",
      "metadata": {
        "id": "E_dZ1FdSmBoW"
      },
      "source": [
        "Games played\n"
      ]
    },
    {
      "cell_type": "code",
      "execution_count": null,
      "metadata": {
        "id": "htqqLN_RmBoW"
      },
      "outputs": [],
      "source": [
        "# Convert 'Game_played' column to integers (1 for True, 0 for False)\n",
        "teams['Game_played'].fillna(False, inplace=True)\n",
        "teams['Game_played'] = teams['Game_played'].astype(int)\n",
        "\n",
        "# Calculate cumulative 'Games_Count' for each row\n",
        "teams['Games_Count'] = teams.groupby(['team_id', 'team_name'])['Game_played'].cumsum()\n",
        "\n"
      ]
    },
    {
      "cell_type": "markdown",
      "metadata": {
        "id": "DkT3dfsqmBoW"
      },
      "source": [
        "Total goals"
      ]
    },
    {
      "cell_type": "code",
      "execution_count": null,
      "metadata": {
        "id": "q1w17AZAmBoW"
      },
      "outputs": [],
      "source": [
        "teams['Total_Goals'] = teams.groupby(['team_id', 'team_name'])['team_score'].cumsum()\n"
      ]
    },
    {
      "cell_type": "markdown",
      "metadata": {
        "id": "FLSZtHyXmBoX"
      },
      "source": [
        "Goals per game"
      ]
    },
    {
      "cell_type": "code",
      "execution_count": null,
      "metadata": {
        "id": "Tcwlmm7UmBoX"
      },
      "outputs": [],
      "source": [
        "teams['Goals_per_game'] = teams['Total_Goals'] / teams['Games_Count']"
      ]
    },
    {
      "cell_type": "markdown",
      "metadata": {
        "id": "BZdjsJx-mBoj"
      },
      "source": [
        "Goals conceded"
      ]
    },
    {
      "cell_type": "code",
      "execution_count": null,
      "metadata": {
        "id": "oR3b1-IgmBok"
      },
      "outputs": [],
      "source": [
        "teams['Total_Conceded'] = teams.groupby(['team_id', 'team_name'])['opponent_score'].cumsum()\n"
      ]
    },
    {
      "cell_type": "code",
      "execution_count": null,
      "metadata": {
        "id": "17Bbttz7mBok"
      },
      "outputs": [],
      "source": [
        "teams['Conceded_per_game'] = teams['Total_Conceded'] / teams['Games_Count']"
      ]
    },
    {
      "cell_type": "markdown",
      "metadata": {
        "id": "dxnKl19OmBok"
      },
      "source": [
        "Win"
      ]
    },
    {
      "cell_type": "code",
      "execution_count": null,
      "metadata": {
        "id": "H_-RahRbmBok"
      },
      "outputs": [],
      "source": [
        "teams['Win'] = teams['team_score'] > teams['opponent_score']\n",
        "teams['Win'] = teams['Win'].astype(int)\n"
      ]
    },
    {
      "cell_type": "markdown",
      "metadata": {
        "id": "rdo_pCQhmBol"
      },
      "source": [
        "Draw"
      ]
    },
    {
      "cell_type": "code",
      "execution_count": null,
      "metadata": {
        "id": "LCmIrf80mBol"
      },
      "outputs": [],
      "source": [
        "teams['Draw'] = teams['team_score'] == teams['opponent_score']\n",
        "teams['Draw'] = teams['Draw'].astype(int)"
      ]
    },
    {
      "cell_type": "markdown",
      "metadata": {
        "id": "ETy9QqshmBol"
      },
      "source": [
        "Loss"
      ]
    },
    {
      "cell_type": "code",
      "execution_count": null,
      "metadata": {
        "id": "m8RVVoFRmBol"
      },
      "outputs": [],
      "source": [
        "teams['Loss'] = teams['team_score'] < teams['opponent_score']\n",
        "teams['Loss'] = teams['Loss'].astype(int)"
      ]
    },
    {
      "cell_type": "markdown",
      "metadata": {
        "id": "Awkj2PY0mBol"
      },
      "source": [
        "Total wins"
      ]
    },
    {
      "cell_type": "code",
      "execution_count": null,
      "metadata": {
        "id": "9FHE8C0vmBom"
      },
      "outputs": [],
      "source": [
        "teams['Total_wins'] = teams.groupby(['team_id', 'team_name'])['Win'].cumsum()\n"
      ]
    },
    {
      "cell_type": "markdown",
      "metadata": {
        "id": "5PpL_yVUmBom"
      },
      "source": [
        "Win percentage"
      ]
    },
    {
      "cell_type": "code",
      "execution_count": null,
      "metadata": {
        "id": "OCp8YZLKmBom"
      },
      "outputs": [],
      "source": [
        "teams['Win_percentage'] = (teams['Total_wins'] / teams['Games_Count']) * 100"
      ]
    },
    {
      "cell_type": "markdown",
      "metadata": {
        "id": "xE5F8IRymBom"
      },
      "source": [
        "Game Results"
      ]
    },
    {
      "cell_type": "code",
      "execution_count": null,
      "metadata": {
        "id": "xu4M2s2WmBom"
      },
      "outputs": [],
      "source": [
        "teams['result'] = teams.apply(lambda row: 1 if row['Win'] else (-1 if row['Loss'] else 0), axis=1)\n"
      ]
    },
    {
      "cell_type": "markdown",
      "metadata": {
        "id": "A9tWMd-PmBon"
      },
      "source": [
        "Form"
      ]
    },
    {
      "cell_type": "code",
      "execution_count": null,
      "metadata": {
        "id": "4dxo82qJmBon"
      },
      "outputs": [],
      "source": [
        "def calculate_form(group, num_games):\n",
        "    forms = []\n",
        "    current_form = \"\"\n",
        "\n",
        "    for i, row in group.iterrows():\n",
        "        result = row['result']\n",
        "        if row['Game_played'] == True:\n",
        "            if result == 1:\n",
        "                current_form += 'W'\n",
        "            elif result == -1:\n",
        "                current_form += 'L'\n",
        "            else:\n",
        "                current_form += 'D'\n",
        "\n",
        "            if len(current_form) > num_games:\n",
        "                current_form = current_form[1:]\n",
        "\n",
        "            forms.append(current_form)\n",
        "\n",
        "        else:\n",
        "            forms.append(None)\n",
        "    return forms\n",
        "\n",
        "# Calculate the form for each specific 'team_id' and assign it to the 'Form' column for that team\n",
        "unique_team_ids = teams['team_id'].unique()\n",
        "for team_id in unique_team_ids:\n",
        "    team_subset = teams[teams['team_id'] == team_id]\n",
        "    team_forms = calculate_form(team_subset, 5)\n",
        "    teams.loc[teams['team_id'] == team_id, 'Form'] = team_forms\n",
        "\n",
        "\n"
      ]
    },
    {
      "cell_type": "markdown",
      "metadata": {
        "id": "Z70JlJMdmBon"
      },
      "source": [
        "Numeric Form"
      ]
    },
    {
      "cell_type": "code",
      "execution_count": null,
      "metadata": {
        "id": "De8Y7GzXmBoo"
      },
      "outputs": [],
      "source": [
        "def calculate_numerical_form(group, num_games):\n",
        "    numerical_forms = []\n",
        "    current_form = []\n",
        "\n",
        "    for i, row in group.iterrows():\n",
        "        result = row['result']\n",
        "        game_played = row['Game_played']\n",
        "\n",
        "        if game_played:\n",
        "            # Assign weights based on the position in the form\n",
        "            weight = 1 + i / num_games\n",
        "\n",
        "            if result == 1:\n",
        "                value = 1\n",
        "            elif result == -1:\n",
        "                value = -1\n",
        "            else:\n",
        "                value = 0\n",
        "\n",
        "            current_form.append(value * weight)\n",
        "\n",
        "            if len(current_form) > num_games:\n",
        "                current_form.pop(0)\n",
        "\n",
        "            numerical_form = sum(current_form) / len(current_form)\n",
        "            numerical_forms.append(numerical_form)\n",
        "\n",
        "        else:\n",
        "            numerical_forms.append(None)  # Append None for games that haven't been played\n",
        "\n",
        "    return numerical_forms\n",
        "\n",
        "# Calculate the numerical form for each specific 'team_id' and assign it to the 'Numerical_Form' column for that team\n",
        "unique_team_ids = teams['team_id'].unique()\n",
        "for team_id in unique_team_ids:\n",
        "    team_subset = teams[teams['team_id'] == team_id]\n",
        "    team_numerical_forms = calculate_numerical_form(team_subset, 5)\n",
        "    teams.loc[teams['team_id'] == team_id, 'Numerical_Form'] = team_numerical_forms\n",
        "\n"
      ]
    },
    {
      "cell_type": "markdown",
      "metadata": {
        "id": "xFpbjV9mmBoo"
      },
      "source": [
        "Team strength"
      ]
    },
    {
      "cell_type": "code",
      "execution_count": null,
      "metadata": {
        "id": "5PSzZ-eBmBoo"
      },
      "outputs": [],
      "source": [
        "teams['Strength'] = teams['Numerical_Form']*2.5 + teams['fixture_difficulty']*2.0 + teams['Win_percentage']*2.0 + teams['Goals_per_game'] + teams['Conceded_per_game']*-1.0"
      ]
    },
    {
      "cell_type": "code",
      "execution_count": null,
      "metadata": {
        "id": "5sNTwXDOmBoo"
      },
      "outputs": [],
      "source": [
        "Liverpool = teams[teams['team_id'] == 11]\n",
        "Liverpool"
      ]
    },
    {
      "cell_type": "markdown",
      "metadata": {
        "id": "H3OMXcXqmBoo"
      },
      "source": [
        "### Home Stats"
      ]
    },
    {
      "cell_type": "markdown",
      "metadata": {
        "id": "aQ-eGFK6mBop"
      },
      "source": [
        "Games played home"
      ]
    },
    {
      "cell_type": "code",
      "execution_count": null,
      "metadata": {
        "id": "4FpDBreDmBop"
      },
      "outputs": [],
      "source": [
        "# Calculate cumulative 'Games_Count' for each row\n",
        "teams['Home_Count'] = teams[teams['is_home'] == True].groupby(['team_id', 'team_name'])['Game_played'].cumsum()\n",
        "\n"
      ]
    },
    {
      "cell_type": "markdown",
      "metadata": {
        "id": "bztaGypNmBop"
      },
      "source": [
        "Goals at home"
      ]
    },
    {
      "cell_type": "code",
      "execution_count": null,
      "metadata": {
        "id": "QAlOsLDemBop"
      },
      "outputs": [],
      "source": [
        "teams['Home_Goals'] = teams[teams['is_home'] == True].groupby(['team_id', 'team_name'])['team_score'].cumsum()\n"
      ]
    },
    {
      "cell_type": "markdown",
      "metadata": {
        "id": "AVLrYPAKmBoq"
      },
      "source": [
        "Goals per home game"
      ]
    },
    {
      "cell_type": "code",
      "execution_count": null,
      "metadata": {
        "id": "jdIQcOwUmBoq"
      },
      "outputs": [],
      "source": [
        "teams['Goals_per_home'] = teams.apply(lambda row: row['Total_Goals'] / row['Home_Count'] if row['is_home'] else None, axis=1)\n"
      ]
    },
    {
      "cell_type": "markdown",
      "metadata": {
        "id": "HLxq_cyymBoq"
      },
      "source": [
        "Goals conceded at home"
      ]
    },
    {
      "cell_type": "code",
      "execution_count": null,
      "metadata": {
        "id": "VyowDESgmBoq"
      },
      "outputs": [],
      "source": [
        "teams['Home_Conceded'] = teams[teams['is_home'] == True].groupby(['team_id', 'team_name'])['opponent_score'].cumsum()\n"
      ]
    },
    {
      "cell_type": "markdown",
      "metadata": {
        "id": "1ugAYvqSmBor"
      },
      "source": [
        "Conceded per home game"
      ]
    },
    {
      "cell_type": "code",
      "execution_count": null,
      "metadata": {
        "id": "jKJAIVSEmBor"
      },
      "outputs": [],
      "source": [
        "teams['Conceded_per_home'] = teams.apply(lambda row: row['Home_Conceded'] / row['Home_Count'] if row['is_home'] else None, axis=1)\n"
      ]
    },
    {
      "cell_type": "markdown",
      "metadata": {
        "id": "99Kz8eNjmBor"
      },
      "source": [
        "Total home wins"
      ]
    },
    {
      "cell_type": "code",
      "execution_count": null,
      "metadata": {
        "id": "qwcd0glXmBor"
      },
      "outputs": [],
      "source": [
        "teams['Total_Home_wins'] = teams[teams['is_home'] == True].groupby(['team_id', 'team_name'])['Win'].cumsum()\n"
      ]
    },
    {
      "cell_type": "markdown",
      "metadata": {
        "id": "oVezGdpNmBor"
      },
      "source": [
        "Home Win percentage"
      ]
    },
    {
      "cell_type": "code",
      "execution_count": null,
      "metadata": {
        "id": "qtIxB9jomBos"
      },
      "outputs": [],
      "source": [
        "teams['Home_Win_percentage'] = (teams['Total_Home_wins'] / teams['Home_Count']) * 100"
      ]
    },
    {
      "cell_type": "markdown",
      "metadata": {
        "id": "gMNAlbjOmBos"
      },
      "source": [
        "Home Form"
      ]
    },
    {
      "cell_type": "code",
      "execution_count": null,
      "metadata": {
        "id": "hDLLcY9FmBos"
      },
      "outputs": [],
      "source": [
        "def calculate_form_home(group, num_games):\n",
        "    forms = []\n",
        "    current_form = \"\"\n",
        "\n",
        "    for i, row in group.iterrows():\n",
        "        result = row['result']\n",
        "        if row['Game_played'] == True and row['is_home'] == True:\n",
        "            if result == 1:\n",
        "                current_form += 'W'\n",
        "            elif result == -1:\n",
        "                current_form += 'L'\n",
        "            else:\n",
        "                current_form += 'D'\n",
        "\n",
        "            if len(current_form) > num_games:\n",
        "                current_form = current_form[1:]\n",
        "\n",
        "            forms.append(current_form)\n",
        "\n",
        "        else:\n",
        "            forms.append(None)\n",
        "    return forms\n",
        "\n",
        "# Calculate the form for each specific 'team_id' and assign it to the 'Form' column for that team\n",
        "unique_team_ids = teams['team_id'].unique()\n",
        "for team_id in unique_team_ids:\n",
        "    team_subset = teams[teams['team_id'] == team_id]\n",
        "    team_forms = calculate_form_home(team_subset, 5)\n",
        "    teams.loc[teams['team_id'] == team_id, 'Home_Form'] = team_forms\n",
        "\n",
        "\n"
      ]
    },
    {
      "cell_type": "markdown",
      "metadata": {
        "id": "tB6R1E34mBos"
      },
      "source": [
        "Home Numeric Form"
      ]
    },
    {
      "cell_type": "code",
      "execution_count": null,
      "metadata": {
        "id": "UcCHn8g5mBot"
      },
      "outputs": [],
      "source": [
        "def calculate_numerical_form_home(group, num_games):\n",
        "    numerical_forms = []\n",
        "    current_form = []\n",
        "\n",
        "    for i, row in group.iterrows():\n",
        "        result = row['result']\n",
        "        game_played = row['Game_played']\n",
        "\n",
        "        if game_played and row['is_home'] == True:\n",
        "            # Assign weights based on the position in the form\n",
        "            weight = 1 + i / num_games\n",
        "\n",
        "            if result == 1:\n",
        "                value = 1\n",
        "            elif result == -1:\n",
        "                value = -1\n",
        "            else:\n",
        "                value = 0\n",
        "\n",
        "            current_form.append(value * weight)\n",
        "\n",
        "            if len(current_form) > num_games:\n",
        "                current_form.pop(0)\n",
        "\n",
        "            numerical_form = sum(current_form) / len(current_form)\n",
        "            numerical_forms.append(numerical_form)\n",
        "\n",
        "        else:\n",
        "            numerical_forms.append(None)  # Append None for games that haven't been played\n",
        "\n",
        "    return numerical_forms\n",
        "\n",
        "# Calculate the numerical form for each specific 'team_id' and assign it to the 'Numerical_Form' column for that team\n",
        "unique_team_ids = teams['team_id'].unique()\n",
        "for team_id in unique_team_ids:\n",
        "    team_subset = teams[teams['team_id'] == team_id]\n",
        "    team_numerical_forms = calculate_numerical_form_home(team_subset, 5)\n",
        "    teams.loc[teams['team_id'] == team_id, 'Home_Numerical_Form'] = team_numerical_forms\n",
        "\n"
      ]
    },
    {
      "cell_type": "code",
      "execution_count": null,
      "metadata": {
        "id": "v_18zbFDmBot"
      },
      "outputs": [],
      "source": [
        "teams['Home_Strength'] = teams['Home_Numerical_Form']*2.5 + teams['fixture_difficulty']*2.0 + teams['Home_Win_percentage']*2.0 + teams['Goals_per_home'] + teams['Conceded_per_home']*-1.0"
      ]
    },
    {
      "cell_type": "markdown",
      "metadata": {
        "id": "rBvN6gmmmBot"
      },
      "source": [
        "### Away Stats"
      ]
    },
    {
      "cell_type": "markdown",
      "metadata": {
        "id": "SaZS0ZMPmBot"
      },
      "source": [
        "Games played away"
      ]
    },
    {
      "cell_type": "code",
      "execution_count": null,
      "metadata": {
        "id": "7gEFrMy8mBou"
      },
      "outputs": [],
      "source": [
        "# Calculate cumulative 'Games_Count' for each row\n",
        "teams['Away_Count'] = teams[teams['is_home'] == False].groupby(['team_id', 'team_name'])['Game_played'].cumsum()\n",
        "\n"
      ]
    },
    {
      "cell_type": "markdown",
      "metadata": {
        "id": "ruuMuJ35mBou"
      },
      "source": [
        "Goals away"
      ]
    },
    {
      "cell_type": "code",
      "execution_count": null,
      "metadata": {
        "id": "UcdHzZi6mBou"
      },
      "outputs": [],
      "source": [
        "teams['Away_Goals'] = teams[teams['is_home'] == False].groupby(['team_id', 'team_name'])['team_score'].cumsum()\n"
      ]
    },
    {
      "cell_type": "markdown",
      "metadata": {
        "id": "75nZV1xJmBou"
      },
      "source": [
        "Goals per away game"
      ]
    },
    {
      "cell_type": "code",
      "execution_count": null,
      "metadata": {
        "id": "LNCmLJfTmBou"
      },
      "outputs": [],
      "source": [
        "teams['Goals_per_away'] = teams.apply(lambda row: row['Total_Goals'] / row['Away_Count'] if row['is_home']==False else None, axis=1)\n"
      ]
    },
    {
      "cell_type": "markdown",
      "metadata": {
        "id": "I3H2rVYVmBov"
      },
      "source": [
        "Goals conceded away"
      ]
    },
    {
      "cell_type": "code",
      "execution_count": null,
      "metadata": {
        "id": "ZRXN7AwvmBov"
      },
      "outputs": [],
      "source": [
        "teams['Away_Conceded'] = teams[teams['is_home'] == False].groupby(['team_id', 'team_name'])['opponent_score'].cumsum()\n"
      ]
    },
    {
      "cell_type": "markdown",
      "metadata": {
        "id": "SfVc3SEmmBov"
      },
      "source": [
        "Conceded per away game"
      ]
    },
    {
      "cell_type": "code",
      "execution_count": null,
      "metadata": {
        "id": "WU9Bs2SvmBov"
      },
      "outputs": [],
      "source": [
        "teams['Conceded_per_away'] = teams.apply(lambda row: row['Away_Conceded'] / row['Away_Count'] if row['is_home'] ==False else None, axis=1)\n"
      ]
    },
    {
      "cell_type": "markdown",
      "metadata": {
        "id": "8SgFmebGmBow"
      },
      "source": [
        "Total Away wins"
      ]
    },
    {
      "cell_type": "code",
      "execution_count": null,
      "metadata": {
        "id": "suIsUm3MmBow"
      },
      "outputs": [],
      "source": [
        "teams['Total_Away_wins'] = teams[teams['is_home'] == False].groupby(['team_id', 'team_name'])['Win'].cumsum()\n"
      ]
    },
    {
      "cell_type": "markdown",
      "metadata": {
        "id": "mHdZ33EDmBow"
      },
      "source": [
        "Away Win percentage"
      ]
    },
    {
      "cell_type": "code",
      "execution_count": null,
      "metadata": {
        "id": "O0hE9jBxmBow"
      },
      "outputs": [],
      "source": [
        "teams['Away_Win_percentage'] = (teams['Total_Away_wins'] / teams['Away_Count']) * 100"
      ]
    },
    {
      "cell_type": "markdown",
      "metadata": {
        "id": "_89KRZHxmBow"
      },
      "source": [
        "Away Form"
      ]
    },
    {
      "cell_type": "code",
      "execution_count": null,
      "metadata": {
        "id": "MpaipOc9mBox"
      },
      "outputs": [],
      "source": [
        "def calculate_form_away(group, num_games):\n",
        "    forms = []\n",
        "    current_form = \"\"\n",
        "\n",
        "    for i, row in group.iterrows():\n",
        "        result = row['result']\n",
        "        if row['Game_played'] == True and row['is_home'] == False:\n",
        "            if result == 1:\n",
        "                current_form += 'W'\n",
        "            elif result == -1:\n",
        "                current_form += 'L'\n",
        "            else:\n",
        "                current_form += 'D'\n",
        "\n",
        "            if len(current_form) > num_games:\n",
        "                current_form = current_form[1:]\n",
        "\n",
        "            forms.append(current_form)\n",
        "\n",
        "        else:\n",
        "            forms.append(None)\n",
        "    return forms\n",
        "\n",
        "# Calculate the form for each specific 'team_id' and assign it to the 'Form' column for that team\n",
        "unique_team_ids = teams['team_id'].unique()\n",
        "for team_id in unique_team_ids:\n",
        "    team_subset = teams[teams['team_id'] == team_id]\n",
        "    team_forms = calculate_form_away(team_subset, 5)\n",
        "    teams.loc[teams['team_id'] == team_id, 'Away_Form'] = team_forms\n",
        "\n",
        "\n"
      ]
    },
    {
      "cell_type": "markdown",
      "metadata": {
        "id": "sc-z4-BFmBox"
      },
      "source": [
        "Away Numeric Form"
      ]
    },
    {
      "cell_type": "code",
      "execution_count": null,
      "metadata": {
        "id": "t4IQN_3KmBox"
      },
      "outputs": [],
      "source": [
        "def calculate_numerical_form_away(group, num_games):\n",
        "    numerical_forms = []\n",
        "    current_form = []\n",
        "\n",
        "    for i, row in group.iterrows():\n",
        "        result = row['result']\n",
        "        game_played = row['Game_played']\n",
        "\n",
        "        if game_played and row['is_home'] == False:\n",
        "            # Assign weights based on the position in the form\n",
        "            weight = 1 + i / num_games\n",
        "\n",
        "            if result == 1:\n",
        "                value = 1\n",
        "            elif result == -1:\n",
        "                value = -1\n",
        "            else:\n",
        "                value = 0\n",
        "\n",
        "            current_form.append(value * weight)\n",
        "\n",
        "            if len(current_form) > num_games:\n",
        "                current_form.pop(0)\n",
        "\n",
        "            numerical_form = sum(current_form) / len(current_form)\n",
        "            numerical_forms.append(numerical_form)\n",
        "\n",
        "        else:\n",
        "            numerical_forms.append(None)  # Append None for games that haven't been played\n",
        "\n",
        "    return numerical_forms\n",
        "\n",
        "# Calculate the numerical form for each specific 'team_id' and assign it to the 'Numerical_Form' column for that team\n",
        "unique_team_ids = teams['team_id'].unique()\n",
        "for team_id in unique_team_ids:\n",
        "    team_subset = teams[teams['team_id'] == team_id]\n",
        "    team_numerical_forms = calculate_numerical_form_away(team_subset, 5)\n",
        "    teams.loc[teams['team_id'] == team_id, 'Away_Numerical_Form'] = team_numerical_forms\n",
        "\n"
      ]
    },
    {
      "cell_type": "code",
      "execution_count": null,
      "metadata": {
        "id": "X-yz95mOmBox"
      },
      "outputs": [],
      "source": [
        "teams['Away_Strength'] = teams['Away_Numerical_Form']*2.5 + teams['fixture_difficulty']*2.0 + teams['Away_Win_percentage']*2.0 + teams['Goals_per_away'] + teams['Conceded_per_away']*-1.0"
      ]
    },
    {
      "cell_type": "markdown",
      "metadata": {
        "id": "JUJyFyqGmBoy"
      },
      "source": [
        "## Defense Strength stats"
      ]
    },
    {
      "cell_type": "markdown",
      "metadata": {
        "id": "f61MjzWGmBoy"
      },
      "source": [
        "### Overall"
      ]
    },
    {
      "cell_type": "code",
      "execution_count": null,
      "metadata": {
        "id": "8Ij5H5NDmBoy"
      },
      "outputs": [],
      "source": [
        "teams['Defence_Strength'] = teams['Numerical_Form']*2.0 + teams['fixture_difficulty']*1.5 + teams['Conceded_per_game']*-1.5 + teams['Win_percentage']*1.5"
      ]
    },
    {
      "cell_type": "markdown",
      "metadata": {
        "id": "C88c_LaemBoy"
      },
      "source": [
        "Home"
      ]
    },
    {
      "cell_type": "code",
      "execution_count": null,
      "metadata": {
        "id": "ixegwiWEmBoy"
      },
      "outputs": [],
      "source": [
        "teams['Home_Defence_Strength'] = teams['Home_Numerical_Form']*2.0 + teams['fixture_difficulty']*1.5 + teams['Conceded_per_home']*-1.5 + teams['Home_Win_percentage']*1.5"
      ]
    },
    {
      "cell_type": "markdown",
      "metadata": {
        "id": "0WGj4sGymBoz"
      },
      "source": [
        "Away"
      ]
    },
    {
      "cell_type": "code",
      "execution_count": null,
      "metadata": {
        "id": "DpApaGnLmBoz"
      },
      "outputs": [],
      "source": [
        "teams['Away_Defence_Strength'] = teams['Away_Numerical_Form']*2.0 + teams['fixture_difficulty']*1.5 + teams['Conceded_per_away']*-1.5 + teams['Away_Win_percentage']*1.5"
      ]
    },
    {
      "cell_type": "markdown",
      "metadata": {
        "id": "8ZrkRMG-mBoz"
      },
      "source": [
        "## Attack Strength stats"
      ]
    },
    {
      "cell_type": "markdown",
      "metadata": {
        "id": "SkISw_BXmBoz"
      },
      "source": [
        "### Overall"
      ]
    },
    {
      "cell_type": "code",
      "execution_count": null,
      "metadata": {
        "id": "g5pRaWCvmBo0"
      },
      "outputs": [],
      "source": [
        "teams['Attack_Strength'] = teams['Numerical_Form']*2.5 + teams['fixture_difficulty']*2.0 + teams['Win_percentage']*0.8 + teams['Goals_per_game']*2.0"
      ]
    },
    {
      "cell_type": "markdown",
      "metadata": {
        "id": "bwBukmA6mBo0"
      },
      "source": [
        "Home"
      ]
    },
    {
      "cell_type": "code",
      "execution_count": null,
      "metadata": {
        "id": "4ZQlOMY1mBo0"
      },
      "outputs": [],
      "source": [
        "teams['Home_Attack_Strength'] = teams['Home_Numerical_Form']*2.5 + teams['fixture_difficulty']*2.0 + teams['Home_Win_percentage']*0.8 + teams['Goals_per_home']*2.0"
      ]
    },
    {
      "cell_type": "markdown",
      "metadata": {
        "id": "KUrLFTD6mBo0"
      },
      "source": [
        "Away"
      ]
    },
    {
      "cell_type": "code",
      "execution_count": null,
      "metadata": {
        "id": "MCTK3Cm-mBo1"
      },
      "outputs": [],
      "source": [
        "teams['Away_Attack_Strength'] = teams['Away_Numerical_Form']*2.5 + teams['fixture_difficulty']*2.0 + teams['Away_Win_percentage']*0.8 + teams['Goals_per_away']*2.0"
      ]
    },
    {
      "cell_type": "markdown",
      "metadata": {
        "id": "RSptsnCamBo1"
      },
      "source": [
        "## Preprocessing"
      ]
    },
    {
      "cell_type": "code",
      "execution_count": null,
      "metadata": {
        "id": "TDt48-StmBo1"
      },
      "outputs": [],
      "source": [
        "teams.columns"
      ]
    },
    {
      "cell_type": "code",
      "execution_count": null,
      "metadata": {
        "id": "zfZ17KNEmBo1"
      },
      "outputs": [],
      "source": [
        "num_cols_normalize = ['Numerical_Form', 'Home_Numerical_Form','Away_Numerical_Form', 'Strength', 'Home_Strength', 'Away_Strength', 'Defence_Strength', 'Home_Defence_Strength', 'Away_Defence_Strength', 'Away_Attack_Strength', 'Home_Attack_Strength', 'Attack_Strength']"
      ]
    },
    {
      "cell_type": "code",
      "execution_count": null,
      "metadata": {
        "id": "dOtZFpAbmBo1"
      },
      "outputs": [],
      "source": [
        "from sklearn.preprocessing import MinMaxScaler\n",
        "\n",
        "\n",
        "# Fill null values with previous values\n",
        "teams[num_cols_normalize] = teams[num_cols_normalize]\n",
        "# Initialize the Min-Max Scaler\n",
        "scaler = MinMaxScaler()\n",
        "\n",
        "# Fit and transform the selected columns to scale them between 0 and 1\n",
        "teams[num_cols_normalize] = scaler.fit_transform(teams[num_cols_normalize])\n",
        "\n"
      ]
    },
    {
      "cell_type": "code",
      "execution_count": null,
      "metadata": {
        "id": "1_1uy97PmBo1"
      },
      "outputs": [],
      "source": [
        "teams.columns"
      ]
    },
    {
      "cell_type": "code",
      "execution_count": null,
      "metadata": {
        "id": "AV2XpmlKmBo2"
      },
      "outputs": [],
      "source": [
        "filtered_teams = teams.loc[:, ['team_id', 'team_name', 'team_short_name',\n",
        "    'unavailable','event_id', 'fixture_id', 'fixture_difficulty','is_home','kickoff_time', 'started',\n",
        "    'Attack_Strength','team_score',\n",
        "    'Form', 'Numerical_Form','Win_percentage', 'Strength', 'Defence_Strength',\n",
        "    'Home_Form','Home_Numerical_Form','Home_Win_percentage','Home_Strength', 'Home_Defence_Strength', 'Home_Attack_Strength',\n",
        "    'Away_Form', 'Away_Numerical_Form', 'Away_Win_percentage','Away_Strength', 'Away_Defence_Strength', 'Away_Attack_Strength'\n",
        "    ]]"
      ]
    },
    {
      "cell_type": "markdown",
      "metadata": {
        "id": "RYnFPWRAmBo2"
      },
      "source": [
        "# 2. Manager data"
      ]
    },
    {
      "cell_type": "code",
      "execution_count": null,
      "metadata": {
        "id": "H8xv2SM_mBo2"
      },
      "outputs": [],
      "source": [
        "import pandas as pd\n",
        "import requests\n",
        "\n",
        "# Manager ID and Gameweek\n",
        "manager_id = 1873280\n",
        "GW = 8\n",
        "# API URL to get the manager's team for a specific Gameweek\n",
        "url = f\"https://fantasy.premierleague.com/api/entry/{manager_id}/event/{GW}/picks/\"\n",
        "\n",
        "# Make the API request to get the manager's team\n",
        "r = requests.get(url)\n",
        "data = r.json()\n",
        "\n",
        "# Create a list of dictionaries to store 'picks' along with metadata\n",
        "picks_data = data.get('picks', [])  # Ensure 'picks' data is available\n",
        "\n",
        "# Extract metadata\n",
        "active_chip = data.get('active_chip')\n",
        "automatic_subs = data.get('automatic_subs')\n",
        "entry_history = data.get('entry_history')\n",
        "\n",
        "# Create a list with metadata for each 'picks' element\n",
        "data_list = []\n",
        "for pick in picks_data:\n",
        "    data_list.append({\n",
        "        'active_chip': active_chip,\n",
        "        'automatic_subs': automatic_subs,\n",
        "        'entry_history': entry_history,\n",
        "        **pick,  # Include the 'picks' data\n",
        "    })\n",
        "\n",
        "# Convert the list of dictionaries to a DataFrame\n",
        "manager = pd.DataFrame(data_list)\n"
      ]
    },
    {
      "cell_type": "code",
      "execution_count": null,
      "metadata": {
        "id": "lbwc-idcmBo2"
      },
      "outputs": [],
      "source": [
        "manager"
      ]
    },
    {
      "cell_type": "code",
      "execution_count": null,
      "metadata": {
        "id": "GO4WRpgMmBo3"
      },
      "outputs": [],
      "source": [
        "manager.columns"
      ]
    },
    {
      "cell_type": "code",
      "execution_count": null,
      "metadata": {
        "id": "1Ew25viZmBo3"
      },
      "outputs": [],
      "source": [
        "FPL_team = manager.loc[:,['active_chip', 'automatic_subs', 'element', 'position',\n",
        "       'multiplier', 'is_captain', 'is_vice_captain']]"
      ]
    },
    {
      "cell_type": "code",
      "execution_count": null,
      "metadata": {
        "id": "VKCg1XChmBo3"
      },
      "outputs": [],
      "source": []
    },
    {
      "cell_type": "code",
      "execution_count": null,
      "metadata": {
        "id": "nh-PyztxmBo4"
      },
      "outputs": [],
      "source": []
    },
    {
      "cell_type": "markdown",
      "metadata": {
        "id": "SazVBqmlmBo4"
      },
      "source": [
        "# 3. Model Training"
      ]
    },
    {
      "cell_type": "markdown",
      "metadata": {
        "id": "4v5b9jvRG7so"
      },
      "source": [
        "## i. Player data Current Season\n"
      ]
    },
    {
      "cell_type": "code",
      "execution_count": null,
      "metadata": {
        "execution": {
          "iopub.execute_input": "2023-10-18T18:43:34.479567Z",
          "iopub.status.busy": "2023-10-18T18:43:34.478925Z",
          "iopub.status.idle": "2023-10-18T18:43:34.491940Z",
          "shell.execute_reply": "2023-10-18T18:43:34.491070Z",
          "shell.execute_reply.started": "2023-10-18T18:43:34.479526Z"
        },
        "id": "Bgu-QLi8G7s0",
        "trusted": true
      },
      "outputs": [],
      "source": [
        "### Function to return player url\n",
        "def format_player_url(player_id):\n",
        "    # Define the base URL without curly brackets\n",
        "    base_url = 'https://fantasy.premierleague.com/api/element-summary/{}/'\n",
        "\n",
        "    # Replace the placeholder '{}' with the actual player_id\n",
        "    formatted_url = base_url.format(player_id)\n",
        "\n",
        "    return formatted_url\n",
        "\n",
        "# Example usage:\n",
        "player_id = 447  # Replace this with the actual player ID\n",
        "formatted_url = format_player_url(player_id)\n",
        "print(formatted_url)\n"
      ]
    },
    {
      "cell_type": "code",
      "execution_count": null,
      "metadata": {
        "execution": {
          "iopub.execute_input": "2023-10-18T18:43:34.493717Z",
          "iopub.status.busy": "2023-10-18T18:43:34.493095Z",
          "iopub.status.idle": "2023-10-18T18:43:34.512255Z",
          "shell.execute_reply": "2023-10-18T18:43:34.511239Z",
          "shell.execute_reply.started": "2023-10-18T18:43:34.493667Z"
        },
        "id": "xM84zOv6G7s4",
        "trusted": true
      },
      "outputs": [],
      "source": [
        "# Imported full data from last seasons\n",
        "\n",
        "\n",
        "elements = elements_df.loc[:,['id','team','web_name','first_name','second_name','Position']]\n",
        "elements = elements.rename(columns = {'id': 'player_id', 'team':'team_id'})\n",
        "# List of columns to drop\n",
        "\n"
      ]
    },
    {
      "cell_type": "markdown",
      "metadata": {
        "id": "xdJ10ByzG7s_"
      },
      "source": [
        "## ii. Feature Engineering players"
      ]
    },
    {
      "cell_type": "markdown",
      "metadata": {
        "id": "LjyhxIk6G7tK"
      },
      "source": [
        "Features_engineered\n",
        ">['Minutes_per_game', 'Player_Strength', 'XA', 'XG', 'XS']\n",
        "\n",
        "intended_features\n",
        ">['fixture_difficulty','kickoff_time', 'started',\n",
        "       'is_home', 'Attack_Strength', 'team_score', 'Form', 'Numerical_Form',\n",
        "       'Win_percentage', 'Strength', 'Defence_Strength', 'Home_Form',\n",
        "       'Home_Numerical_Form', 'Home_Win_percentage', 'Home_Strength',\n",
        "       'Home_Defence_Strength', 'Home_Attack_Strength', 'Away_Form',\n",
        "       'Away_Numerical_Form', 'Away_Win_percentage', 'Away_Strength',\n",
        "       'Away_Defence_Strength', 'Away_Attack_Strength']\n",
        "\n",
        "intended_labels\n",
        ">['goals_scored', 'assists', 'clean_sheets', 'goals_conceded', 'saves']"
      ]
    },
    {
      "cell_type": "markdown",
      "metadata": {
        "id": "2OnaFBCkG7tN"
      },
      "source": [
        "## iii. Model Selection"
      ]
    },
    {
      "cell_type": "code",
      "execution_count": null,
      "metadata": {
        "execution": {
          "iopub.execute_input": "2023-10-18T18:43:34.604951Z",
          "iopub.status.busy": "2023-10-18T18:43:34.604549Z",
          "iopub.status.idle": "2023-10-18T18:43:34.623367Z",
          "shell.execute_reply": "2023-10-18T18:43:34.622532Z",
          "shell.execute_reply.started": "2023-10-18T18:43:34.604901Z"
        },
        "id": "uG9MyoLmG7tU",
        "trusted": true
      },
      "outputs": [],
      "source": [
        "# Importing libraries\n",
        "import pandas as pd\n",
        "import numpy as np\n",
        "import requests\n",
        "import tensorflow as tf\n",
        "from sklearn.model_selection import train_test_split\n",
        "from sklearn.preprocessing import StandardScaler\n",
        "from sklearn.pipeline import Pipeline\n",
        "from sklearn.feature_selection import SelectKBest, f_regression\n",
        "\n",
        "num_top_features = 8  # Set it to the total number of features\n",
        "\n",
        "def load_data_for_player(player_id):\n",
        "    # Define the URL for the player's data\n",
        "    player_url = format_player_url(player_id)  # You can use the provided function\n",
        "\n",
        "    # Send a GET request to the player's URL\n",
        "    response = requests.get(player_url)\n",
        "\n",
        "    if response.status_code == 200:\n",
        "        # Parse the JSON data\n",
        "        player_data = response.json()\n",
        "\n",
        "        # Extract the relevant data and preprocess it\n",
        "        player_history_df = pd.DataFrame(player_data['history'])\n",
        "\n",
        "        player_history_df = player_history_df.rename(columns={'element': 'player_id', 'round': 'event_id'})\n",
        "        columns_to_drop = ['was_home', 'bps', 'kickoff_time', 'influence', 'creativity', 'threat', 'ict_index', 'starts',\n",
        "                           'expected_goals', 'expected_assists', 'expected_goal_involvements', 'expected_goals_conceded',\n",
        "                           'value', 'transfers_balance', 'selected', 'transfers_in', 'transfers_out', 'fixture',\n",
        "                           'team_h_score', 'team_a_score', 'event_id']\n",
        "\n",
        "        # Use the drop method to remove the specified columns\n",
        "        player_history_df.drop(columns=columns_to_drop, inplace=True)\n",
        "        player_history_df = player_history_df.merge(elements, on='player_id')\n",
        "        player_history_df = player_history_df.merge(filtered_teams, on=['team_id'])\n",
        "        player_history_df['player_fixture_id'] = player_history_df['player_id'].astype(str) + '_' + player_history_df['event_id'].astype(str)\n",
        "\n",
        "        # Perform any necessary data cleaning and feature engineering here\n",
        "        player_history_df['kickoff_time'] = pd.to_datetime(player_history_df['kickoff_time'])\n",
        "        player_history_df.set_index('kickoff_time', inplace=True)\n",
        "        player_history_df = player_history_df.fillna(method='ffill')\n",
        "        player_history_df['is_home'] = player_history_df['is_home'].astype(int)\n",
        "        labels = ['goals_scored', 'assists', 'clean_sheets', 'goals_conceded', 'saves']\n",
        "\n",
        "        player_future_fxt = player_history_df[player_history_df['started'] == False].head(3)\n",
        "        player_future_fxt.drop(columns=labels, inplace=True)\n",
        "        player_history_df = player_history_df[player_history_df['started'] == True]\n",
        "\n",
        "        # Return the processed data for the player\n",
        "        return player_history_df, player_future_fxt\n",
        "    else:\n",
        "        # Handle the case when the request fails (e.g., return None or raise an exception)\n",
        "        return None, None\n",
        "\n",
        "num_top_features = 8  # Set it to the total number of features\n",
        "\n",
        "def train_model(X_train, y_train):\n",
        "    # Define a scikit-learn pipeline\n",
        "    pipeline = Pipeline([\n",
        "        ('feature_selector', SelectKBest(score_func=f_regression, k=num_top_features)),\n",
        "        ('scaler', StandardScaler(with_mean=False)),\n",
        "        ('model', tf.keras.Sequential([\n",
        "            tf.keras.layers.Input(shape=(num_top_features,)),\n",
        "            tf.keras.layers.Dense(64, activation='relu'),\n",
        "            tf.keras.layers.Dense(32, activation='relu'),\n",
        "            tf.keras.layers.Dense(1)  # Output layer with 1 neuron for regression\n",
        "        ]))\n",
        "    ])\n",
        "\n",
        "    # Compile the model within the pipeline with run_eagerly=True\n",
        "    pipeline.named_steps['model'].compile(optimizer='adam', loss='mean_squared_error', run_eagerly=True)\n",
        "\n",
        "    # Train the model within the pipeline on the provided training data\n",
        "    pipeline.named_steps['model'].fit(X_train, y_train, epochs=100, batch_size=32)\n",
        "\n",
        "    return pipeline\n",
        "\n",
        "# Define a function to process a player\n",
        "def process_player(player_id):\n",
        "    Don_Team = pd.DataFrame()\n",
        "    Don_Team_list = []    # Load data for the specified player using player_id\n",
        "    player_history_df, player_future_fxt = load_data_for_player(player_id)\n",
        "\n",
        "    if player_history_df is not None and player_future_fxt is not None:\n",
        "        # Define features based on the data for the player\n",
        "        features = ['fixture_difficulty', 'is_home', 'Attack_Strength', 'team_score', 'Numerical_Form', 'Win_percentage',\n",
        "                    'Strength', 'Defence_Strength']\n",
        "        labels = ['goals_scored', 'assists', 'clean_sheets', 'goals_conceded','bonus', 'penalties_saved','saves','penalties_missed']\n",
        "\n",
        "        # Split the data into training and testing sets\n",
        "        X_train, X_test, y_train, y_test = train_test_split(player_history_df[features], player_history_df[labels],\n",
        "                                            test_size=0.2, random_state=42)\n",
        "\n",
        "        # Create an empty dictionary to store model results for each label\n",
        "        model_results = {}\n",
        "\n",
        "        for label_to_predict in labels:\n",
        "            # Train a separate model for each label\n",
        "            model = train_model(X_train, y_train[label_to_predict])\n",
        "\n",
        "            # Make predictions for player_future_fxt for the current label\n",
        "            label_features = player_future_fxt[features]\n",
        "            label_predictions = model.named_steps['model'].predict(label_features)\n",
        "\n",
        "            # Create a DataFrame for the player's data\n",
        "            player_data = player_history_df.copy()\n",
        "\n",
        "            # Add predictions to player_future_fxt\n",
        "            player_future_fxt[label_to_predict] = label_predictions\n",
        "\n",
        "        # Append the combined data to the Don_Team DataFrame\n",
        "        Don_Team = pd.concat([Don_Team, player_future_fxt], ignore_index=True)\n",
        "        # Reset the index of Don_Team\n",
        "        Don_Team.reset_index(drop=True, inplace=True)\n",
        "\n",
        "        Don_Team = Don_Team.drop_duplicates(subset=['opponent_team','player_fixture_id'])\n",
        "        Don_Team = Don_Team.loc[:,['team_id', 'web_name','Position','fixture_difficulty','opponent_team','player_fixture_id','goals_scored', 'assists', 'clean_sheets', 'goals_conceded','bonus', 'penalties_saved','saves','penalties_missed']]\n",
        "        return Don_Team\n",
        "\n",
        "    else:\n",
        "        # Handle the case when data loading fails\n",
        "        print(f\"Data loading failed for player ID: {player_id}\")\n",
        "\n",
        "\n"
      ]
    },
    {
      "cell_type": "code",
      "execution_count": null,
      "metadata": {
        "execution": {
          "iopub.execute_input": "2023-10-18T18:43:34.626273Z",
          "iopub.status.busy": "2023-10-18T18:43:34.625487Z",
          "iopub.status.idle": "2023-10-18T18:43:34.645195Z",
          "shell.execute_reply": "2023-10-18T18:43:34.644351Z",
          "shell.execute_reply.started": "2023-10-18T18:43:34.626228Z"
        },
        "id": "ioAYu8iXG7tc",
        "trusted": true
      },
      "outputs": [],
      "source": [
        "# List of player IDs to process\n",
        "player_ids = FPL_team.element  # Add the IDs you want to process\n",
        "\n"
      ]
    },
    {
      "cell_type": "code",
      "execution_count": null,
      "metadata": {
        "id": "JzceHf2Ah-ah"
      },
      "outputs": [],
      "source": [
        "Salah = process_player(308)"
      ]
    },
    {
      "cell_type": "code",
      "execution_count": null,
      "metadata": {
        "execution": {
          "iopub.execute_input": "2023-10-18T18:43:34.647194Z",
          "iopub.status.busy": "2023-10-18T18:43:34.646419Z",
          "iopub.status.idle": "2023-10-18T18:43:58.954057Z",
          "shell.execute_reply": "2023-10-18T18:43:58.952384Z",
          "shell.execute_reply.started": "2023-10-18T18:43:34.647164Z"
        },
        "id": "4-9-NYuhG7tf",
        "trusted": true
      },
      "outputs": [],
      "source": [
        "Salah"
      ]
    },
    {
      "cell_type": "markdown",
      "metadata": {
        "id": "EPhg9cGUG7tm"
      },
      "source": [
        "# iv. Points"
      ]
    },
    {
      "cell_type": "code",
      "execution_count": null,
      "metadata": {
        "id": "BZ4wl-B3LpPa"
      },
      "outputs": [],
      "source": [
        "Manager_team = pd.DataFrame()\n",
        "\n",
        "for i in player_ids:\n",
        "  print(\"Player id: \", i)\n",
        "  Manager_team = pd.concat([Manager_team, process_player(i)], ignore_index=True)\n"
      ]
    },
    {
      "cell_type": "code",
      "execution_count": null,
      "metadata": {
        "id": "bIJDgjLHmnCV"
      },
      "outputs": [],
      "source": [
        "Manager_team"
      ]
    },
    {
      "cell_type": "code",
      "source": [],
      "metadata": {
        "id": "rlmxJntt7JnD"
      },
      "execution_count": null,
      "outputs": []
    }
  ],
  "metadata": {
    "colab": {
      "provenance": [],
      "collapsed_sections": [
        "UBt92HKSmBoE",
        "RYnFPWRAmBo2"
      ]
    },
    "kernelspec": {
      "display_name": "Python 3",
      "language": "python",
      "name": "python3"
    },
    "language_info": {
      "codemirror_mode": {
        "name": "ipython",
        "version": 3
      },
      "file_extension": ".py",
      "mimetype": "text/x-python",
      "name": "python",
      "nbconvert_exporter": "python",
      "pygments_lexer": "ipython3",
      "version": "3.10.12"
    }
  },
  "nbformat": 4,
  "nbformat_minor": 0
}