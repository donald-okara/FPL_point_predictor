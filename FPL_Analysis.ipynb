{
 "cells": [
  {
   "cell_type": "markdown",
   "metadata": {},
   "source": [
    "## 1.a) Extraction"
   ]
  },
  {
   "cell_type": "code",
   "execution_count": null,
   "metadata": {},
   "outputs": [],
   "source": [
    "#Importing libraries\n",
    "\n",
    "import pandas as pd \n",
    "import numpy as np\n",
    "import seaborn as sns \n",
    "import matplotlib.pyplot as plt \n",
    "import requests\n",
    "\n",
    "print(\"Libraries imported successfully......\")"
   ]
  },
  {
   "cell_type": "markdown",
   "metadata": {},
   "source": [
    "The link to all these APIs is: https://www.game-change.co.uk/2023/02/10/a-complete-guide-to-the-fantasy-premier-league-fpl-api/\n",
    "\n",
    "Descriptions of each dataframe are in the notes."
   ]
  },
  {
   "cell_type": "code",
   "execution_count": null,
   "metadata": {},
   "outputs": [],
   "source": [
    "# Imported full data from last seasons\n",
    "\n",
    "url = 'https://fantasy.premierleague.com/api/bootstrap-static/'\n",
    "r = requests.get(url)\n",
    "json = r.json()\n",
    "\n",
    "\n",
    "#Convert to df\n",
    "\n",
    "elements_df = pd.DataFrame(json['elements'])\n",
    "elements_types_df = pd.DataFrame(json['element_types'])\n",
    "teams_df = pd.DataFrame(json['teams'])"
   ]
  },
  {
   "cell_type": "code",
   "execution_count": null,
   "metadata": {},
   "outputs": [],
   "source": [
    "### This cell imports data from any gameweek of the current season as long as the gameweek has ended or is live.\n",
    "gameweek_url = 'https://fantasy.premierleague.com/api/event/2/live/'\n",
    "r = requests.get(gameweek_url)\n",
    "gameweek_json = r.json()\n",
    "\n",
    "gameweek_df = pd.DataFrame(gameweek_json['elements'])\n"
   ]
  },
  {
   "cell_type": "code",
   "execution_count": 79,
   "metadata": {},
   "outputs": [
    {
     "name": "stdout",
     "output_type": "stream",
     "text": [
      "https://fantasy.premierleague.com/api/element-summary/308/\n"
     ]
    }
   ],
   "source": [
    "### Function to return player url \n",
    "def format_player_url(player_id):\n",
    "    # Define the base URL without curly brackets\n",
    "    base_url = 'https://fantasy.premierleague.com/api/element-summary/{}/'\n",
    "    \n",
    "    # Replace the placeholder '{}' with the actual player_id\n",
    "    formatted_url = base_url.format(player_id)\n",
    "    \n",
    "    return formatted_url\n",
    "\n",
    "# Example usage:\n",
    "player_id = 308  # Replace this with the actual player ID\n",
    "formatted_url = format_player_url(player_id)\n",
    "print(formatted_url)\n"
   ]
  },
  {
   "cell_type": "code",
   "execution_count": 83,
   "metadata": {},
   "outputs": [],
   "source": [
    "#This cell imports individual player information\n",
    "r = requests.get(format_player_url(308))\n",
    "player_json = r.json()\n",
    "\n",
    "\n",
    "player_fixtures_df = pd.DataFrame(player_json['fixtures'])\n",
    "player_history_df = pd.DataFrame(player_json['history'])\n",
    "player_history_past_df = pd.DataFrame(player_json['history_past'])\n"
   ]
  },
  {
   "cell_type": "code",
   "execution_count": null,
   "metadata": {},
   "outputs": [],
   "source": [
    "#This cell imports individual player information\n",
    "fixture_url = 'https://fantasy.premierleague.com/api/fixtures/?event=1'\n",
    "r = requests.get(fixture_url)\n",
    "fixture_json = r.json()\n",
    "\n"
   ]
  },
  {
   "cell_type": "code",
   "execution_count": null,
   "metadata": {},
   "outputs": [],
   "source": [
    "fixture_df = pd.DataFrame(fixture_json)\n"
   ]
  },
  {
   "cell_type": "code",
   "execution_count": null,
   "metadata": {},
   "outputs": [],
   "source": [
    "fixture_df"
   ]
  },
  {
   "cell_type": "code",
   "execution_count": null,
   "metadata": {},
   "outputs": [],
   "source": [
    "elements_df.loc[:, ['id', 'web_name','news','form', 'team_code', 'element_type']].sort_values('form' ,ascending = False)"
   ]
  },
  {
   "cell_type": "code",
   "execution_count": null,
   "metadata": {},
   "outputs": [],
   "source": [
    "player_history_df.loc[:,['element','fixture','opponent_team','round', 'influence', 'creativity', 'threat', 'ict_index']]"
   ]
  },
  {
   "cell_type": "code",
   "execution_count": null,
   "metadata": {},
   "outputs": [],
   "source": [
    "player_history_usable = player_history_df.loc[:,['element', 'fixture', 'opponent_team', 'was_home','round']]"
   ]
  },
  {
   "cell_type": "code",
   "execution_count": null,
   "metadata": {},
   "outputs": [],
   "source": [
    "player_history_usable"
   ]
  },
  {
   "cell_type": "code",
   "execution_count": null,
   "metadata": {},
   "outputs": [],
   "source": [
    "player_history_past_usable = player_history_past_df.loc[:,['season_name', 'element_code','total_points','influence', 'creativity','threat', 'ict_index','expected_goals', 'expected_assists','expected_goal_involvements', 'expected_goals_conceded']]"
   ]
  },
  {
   "cell_type": "code",
   "execution_count": null,
   "metadata": {},
   "outputs": [],
   "source": [
    "elements_usable = elements_df.loc[:,['chance_of_playing_next_round', 'chance_of_playing_this_round', 'code','element_type', \n",
    "        'first_name', 'form', 'id','points_per_game',\n",
    "        'second_name', 'selected_by_percent', 'special',\n",
    "        'web_name','expected_goals', 'expected_assists',\n",
    "        'expected_goal_involvements', 'expected_goals_conceded',\n",
    "        'expected_goals_per_90', 'saves_per_90', 'expected_assists_per_90',\n",
    "        'expected_goal_involvements_per_90', 'expected_goals_conceded_per_90',\n",
    "        'goals_conceded_per_90','starts_per_90', 'clean_sheets_per_90']]"
   ]
  },
  {
   "cell_type": "code",
   "execution_count": null,
   "metadata": {},
   "outputs": [],
   "source": [
    "\n",
    "# Convert 'form' column to float\n",
    "elements_usable['form'] = elements_usable['form'].astype(float)\n",
    "\n",
    "\n",
    "elements_usable = elements_usable[elements_usable['form'] != 0.0]\n",
    "\n"
   ]
  },
  {
   "cell_type": "code",
   "execution_count": null,
   "metadata": {},
   "outputs": [],
   "source": [
    "elements_usable"
   ]
  },
  {
   "cell_type": "code",
   "execution_count": null,
   "metadata": {},
   "outputs": [],
   "source": [
    "mapping_df = elements_usable[['element_type', \n",
    "        'first_name', 'form', 'id','points_per_game',\n",
    "        'second_name', 'selected_by_percent', 'special',\n",
    "        'web_name','expected_goals', 'expected_assists',\n",
    "        'expected_goal_involvements', 'expected_goals_conceded',\n",
    "        'expected_goals_per_90', 'saves_per_90', 'expected_assists_per_90',\n",
    "        'expected_goal_involvements_per_90', 'expected_goals_conceded_per_90',\n",
    "        'goals_conceded_per_90','starts_per_90', 'clean_sheets_per_90']].drop_duplicates()\n",
    "\n",
    "# Print the modified DataFrame\n",
    "\n"
   ]
  },
  {
   "cell_type": "code",
   "execution_count": null,
   "metadata": {},
   "outputs": [],
   "source": [
    "mapping_df.to_csv('constant_mapping.csv', index=False)\n",
    "\n"
   ]
  },
  {
   "cell_type": "code",
   "execution_count": null,
   "metadata": {},
   "outputs": [],
   "source": [
    "# Load the mapping DataFrame\n",
    "constant_mapping = pd.read_csv('constant_mapping.csv')\n",
    "\n",
    "# Merge the mapping DataFrame with your new DataFrame (e.g., df_new)\n",
    "gameweek_df = gameweek_df.merge(constant_mapping, on='id', how='left')"
   ]
  },
  {
   "cell_type": "code",
   "execution_count": null,
   "metadata": {},
   "outputs": [],
   "source": [
    "gameweek_df"
   ]
  },
  {
   "cell_type": "code",
   "execution_count": null,
   "metadata": {},
   "outputs": [],
   "source": [
    "# Load the mapping DataFrame\n",
    "constant_mapping = pd.read_csv('constant_mapping.csv')\n",
    "\n",
    "# Merge the mapping DataFrame with your new DataFrame (e.g., df_new)\n",
    "df_new = df_new.merge(constant_mapping, on='ID', how='left')\n"
   ]
  },
  {
   "cell_type": "markdown",
   "metadata": {},
   "source": [
    "## 1.b) Loading\n"
   ]
  },
  {
   "cell_type": "code",
   "execution_count": null,
   "metadata": {},
   "outputs": [],
   "source": [
    "player_history_df"
   ]
  },
  {
   "cell_type": "code",
   "execution_count": null,
   "metadata": {},
   "outputs": [],
   "source": []
  }
 ],
 "metadata": {
  "kernelspec": {
   "display_name": "NewEnv",
   "language": "python",
   "name": "python3"
  },
  "language_info": {
   "codemirror_mode": {
    "name": "ipython",
    "version": 3
   },
   "file_extension": ".py",
   "mimetype": "text/x-python",
   "name": "python",
   "nbconvert_exporter": "python",
   "pygments_lexer": "ipython3",
   "version": "3.8.13"
  },
  "orig_nbformat": 4
 },
 "nbformat": 4,
 "nbformat_minor": 2
}
