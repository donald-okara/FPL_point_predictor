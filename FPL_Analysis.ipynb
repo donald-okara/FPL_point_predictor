{
 "cells": [
  {
   "cell_type": "markdown",
   "metadata": {},
   "source": [
    "## 1.a) Extraction"
   ]
  },
  {
   "cell_type": "code",
   "execution_count": null,
   "metadata": {},
   "outputs": [],
   "source": [
    "#Importing libraries\n",
    "\n",
    "import pandas as pd \n",
    "import numpy as np\n",
    "import seaborn as sns \n",
    "import matplotlib.pyplot as plt \n",
    "import requests\n",
    "\n",
    "print(\"Libraries imported successfully......\")"
   ]
  },
  {
   "cell_type": "markdown",
   "metadata": {},
   "source": [
    "The link to all these APIs is: https://www.game-change.co.uk/2023/02/10/a-complete-guide-to-the-fantasy-premier-league-fpl-api/\n",
    "\n",
    "Descriptions of each dataframe are in the notes."
   ]
  },
  {
   "cell_type": "markdown",
   "metadata": {},
   "source": [
    "### i. Player data Current Season\n"
   ]
  },
  {
   "cell_type": "code",
   "execution_count": null,
   "metadata": {},
   "outputs": [],
   "source": [
    "### Function to return player url \n",
    "def format_player_url(player_id):\n",
    "    # Define the base URL without curly brackets\n",
    "    base_url = 'https://fantasy.premierleague.com/api/element-summary/{}/'\n",
    "    \n",
    "    # Replace the placeholder '{}' with the actual player_id\n",
    "    formatted_url = base_url.format(player_id)\n",
    "    \n",
    "    return formatted_url\n",
    "\n",
    "# Example usage:\n",
    "player_id = 308  # Replace this with the actual player ID\n",
    "formatted_url = format_player_url(player_id)\n",
    "print(formatted_url)\n"
   ]
  },
  {
   "cell_type": "code",
   "execution_count": null,
   "metadata": {},
   "outputs": [],
   "source": [
    "#This cell imports individual player information\n",
    "r = requests.get(format_player_url(308))\n",
    "player_json = r.json()\n",
    "player_fixtures_df = pd.DataFrame(player_json['fixtures'])\n",
    "player_history_df = pd.DataFrame(player_json['history'])\n",
    "player_history_past_df = pd.DataFrame(player_json['history_past'])\n"
   ]
  },
  {
   "cell_type": "code",
   "execution_count": null,
   "metadata": {},
   "outputs": [],
   "source": [
    "### This cell imports data from specified gameweek of the current season as long as the gameweek has ended or is live.\n",
    "gameweek_url = 'https://fantasy.premierleague.com/api/event/2/live/'\n",
    "r = requests.get(gameweek_url)\n",
    "gameweek_json = r.json()\n",
    "\n",
    "gameweek_df = pd.DataFrame(gameweek_json['elements'])\n"
   ]
  },
  {
   "cell_type": "markdown",
   "metadata": {},
   "source": [
    "### ii. Team data"
   ]
  },
  {
   "cell_type": "code",
   "execution_count": null,
   "metadata": {},
   "outputs": [],
   "source": [
    "# Imported full data from last seasons\n",
    "\n",
    "url = 'https://fantasy.premierleague.com/api/bootstrap-static/'\n",
    "r = requests.get(url)\n",
    "json = r.json()\n",
    "\n",
    "\n",
    "#Convert to df\n",
    "\n",
    "elements_df = pd.DataFrame(json['elements'])\n",
    "elements_types_df = pd.DataFrame(json['element_types'])\n",
    "teams_df = pd.DataFrame(json['teams'])"
   ]
  },
  {
   "cell_type": "markdown",
   "metadata": {},
   "source": [
    "## 1.b) Tranformation"
   ]
  },
  {
   "cell_type": "markdown",
   "metadata": {},
   "source": [
    "### i. Add fixture data to the teams data"
   ]
  },
  {
   "cell_type": "markdown",
   "metadata": {},
   "source": [
    "#### i.i) Expand Team data"
   ]
  },
  {
   "cell_type": "markdown",
   "metadata": {},
   "source": [
    "a) Teams DF"
   ]
  },
  {
   "cell_type": "code",
   "execution_count": null,
   "metadata": {},
   "outputs": [],
   "source": [
    "def append_event_id(teams_df):\n",
    "    # Create an empty DataFrame to store the expanded data\n",
    "    expanded_df = pd.DataFrame()\n",
    "\n",
    "    # Iterate through events from 1 to 38\n",
    "    for event_id in range(1, 39):\n",
    "        # Create a temporary DataFrame for the current event\n",
    "        temp_df = teams_df.copy()\n",
    "        \n",
    "        # Set the 'event_id' column to the current event ID\n",
    "        temp_df['event_id'] = event_id\n",
    "        \n",
    "        # Append the temporary DataFrame to the expanded DataFrame\n",
    "        expanded_df = pd.concat([expanded_df, temp_df], ignore_index=True)\n",
    "    \n",
    "    return expanded_df\n",
    "\n",
    "# Call the function to create an expanded DataFrame with 'event_id'\n",
    "expanded_teams_df = append_event_id(teams_df)\n"
   ]
  },
  {
   "cell_type": "markdown",
   "metadata": {},
   "source": [
    "b) Fixture DF"
   ]
  },
  {
   "cell_type": "code",
   "execution_count": null,
   "metadata": {},
   "outputs": [],
   "source": [
    "import requests\n",
    "import pandas as pd\n",
    "\n",
    "def fetch_fixture_data(event_id):\n",
    "    # Define the base URL with the event_id\n",
    "    base_url = f'https://fantasy.premierleague.com/api/fixtures/?event={event_id}'\n",
    "    \n",
    "    # Replace the placeholder '{}' with the actual event_id\n",
    "    formatted_url = base_url.format(event_id)\n",
    "    \n",
    "    # Send an HTTP GET request to the API endpoint\n",
    "    response = requests.get(formatted_url)\n",
    "    \n",
    "    # Check if the request was successful (status code 200)\n",
    "    if response.status_code == 200:\n",
    "        # Parse the JSON response to get fixture data\n",
    "        fixture_json = response.json()\n",
    "        \n",
    "        # Create a DataFrame from the fixture data\n",
    "        fixture_data = pd.DataFrame(fixture_json)\n",
    "        \n",
    "        return fixture_data\n",
    "    else:\n",
    "        print(f\"Request failed for event {event_id} with status code {response.status_code}\")\n",
    "        return None  # Return None in case of a failed request\n"
   ]
  },
  {
   "cell_type": "code",
   "execution_count": null,
   "metadata": {},
   "outputs": [],
   "source": [
    "def append_event_id(fixture_df):\n",
    "    # Create an empty DataFrame to store the expanded fixture data\n",
    "    expanded_fixture_df = pd.DataFrame()\n",
    "\n",
    "    # Iterate through events from 1 to 38\n",
    "    for event_id in range(1, 39):\n",
    "        # Get fixture data for the current event\n",
    "        fixture_data = fetch_fixture_data(event_id)\n",
    "        \n",
    "        # Create a temporary DataFrame for the fixture data\n",
    "        temp_df = fixture_data.copy()\n",
    "        \n",
    "        # Set the 'event_id' column to the current event ID\n",
    "        temp_df['event_id'] = event_id\n",
    "        \n",
    "        # Append the temporary DataFrame to the expanded fixture DataFrame\n",
    "        expanded_fixture_df = pd.concat([expanded_fixture_df, temp_df], ignore_index=True)\n",
    "    \n",
    "    return expanded_fixture_df\n",
    "\n",
    "# Call the function to create an expanded fixture DataFrame with 'event_id'\n",
    "expanded_fixture_df = append_event_id(fixture_df)\n",
    "\n"
   ]
  },
  {
   "cell_type": "code",
   "execution_count": null,
   "metadata": {},
   "outputs": [],
   "source": [
    "# Renaming columns\n",
    "expanded_teams_df = expanded_teams_df.rename(columns={'name' : 'team_name', 'id':'teams_id', 'short_name' : 'team_short_name'})\n",
    "expanded_fixture_df = expanded_fixture_df.rename(columns={'id':'fixture_id'})"
   ]
  },
  {
   "cell_type": "markdown",
   "metadata": {},
   "source": [
    "#### i.i) Get fixture id"
   ]
  },
  {
   "cell_type": "code",
   "execution_count": 34,
   "metadata": {},
   "outputs": [],
   "source": [
    "def get_fixture_id(event_id,team_id):\n",
    "    for idx, row in expanded_fixture_df.iterrows():\n",
    "        if event_id == row['event_id']:\n",
    "            if team_id == row['team_a'] or team_id == row['team_h']:\n",
    "                return row['fixture_id']\n",
    "    return None  # Return None if no matching fixture is found\n",
    "\n",
    "# Assuming you want to calculate and assign fixture IDs for all teams in teams_df\n",
    "expanded_teams_df['fixture_id'] = expanded_teams_df.apply(lambda row: get_fixture_id(row['event_id'], row['teams_id']), axis=1)\n"
   ]
  },
  {
   "cell_type": "markdown",
   "metadata": {},
   "source": [
    "#### i.ii) Get fixture difficulty"
   ]
  },
  {
   "cell_type": "code",
   "execution_count": 39,
   "metadata": {},
   "outputs": [],
   "source": [
    "def get_fixture_difficulty(team_id, fixture_id):\n",
    "    for idx, row in expanded_fixture_df.iterrows():\n",
    "        if fixture_id == row['fixture_id']:\n",
    "            if team_id == row['team_a']:\n",
    "                return row['team_a_difficulty']\n",
    "\n",
    "            elif team_id == row['team_h']:\n",
    "                return row['team_h_difficulty']\n",
    "    return None  # Return None if no matching fixture is found\n",
    "\n",
    "# Assuming you want to calculate and assign fixture difficulties for all teams in teams_df\n",
    "expanded_teams_df['fixture_difficulty'] = expanded_teams_df.apply(lambda row: get_fixture_difficulty(row['teams_id'], row['fixture_id']), axis=1)\n"
   ]
  },
  {
   "cell_type": "code",
   "execution_count": 42,
   "metadata": {},
   "outputs": [],
   "source": [
    "expanded_teams_df.to_csv('expanded_teams_data.csv', index=False)\n"
   ]
  },
  {
   "cell_type": "code",
   "execution_count": null,
   "metadata": {},
   "outputs": [],
   "source": []
  }
 ],
 "metadata": {
  "kernelspec": {
   "display_name": "NewEnv",
   "language": "python",
   "name": "python3"
  },
  "language_info": {
   "codemirror_mode": {
    "name": "ipython",
    "version": 3
   },
   "file_extension": ".py",
   "mimetype": "text/x-python",
   "name": "python",
   "nbconvert_exporter": "python",
   "pygments_lexer": "ipython3",
   "version": "3.8.13"
  },
  "orig_nbformat": 4
 },
 "nbformat": 4,
 "nbformat_minor": 2
}
