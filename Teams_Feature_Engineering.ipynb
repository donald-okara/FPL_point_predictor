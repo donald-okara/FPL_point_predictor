{
 "cells": [
  {
   "cell_type": "code",
   "execution_count": null,
   "metadata": {},
   "outputs": [],
   "source": [
    "#Importing libraries\n",
    "\n",
    "import pandas as pd \n",
    "import numpy as np\n",
    "import seaborn as sns \n",
    "import matplotlib.pyplot as plt \n",
    "import requests\n",
    "\n",
    "print(\"Libraries imported successfully......\")"
   ]
  },
  {
   "cell_type": "code",
   "execution_count": null,
   "metadata": {},
   "outputs": [],
   "source": []
  },
  {
   "cell_type": "code",
   "execution_count": null,
   "metadata": {},
   "outputs": [],
   "source": [
    "teams = pd.read_csv('expanded_teams_data.csv')\n",
    "\n",
    "print(\"Data loaded successfully..\")"
   ]
  },
  {
   "cell_type": "markdown",
   "metadata": {},
   "source": [
    "# Feature Engineering"
   ]
  },
  {
   "cell_type": "markdown",
   "metadata": {},
   "source": [
    "### General Stats"
   ]
  },
  {
   "cell_type": "markdown",
   "metadata": {},
   "source": [
    "Games played\n"
   ]
  },
  {
   "cell_type": "code",
   "execution_count": null,
   "metadata": {},
   "outputs": [],
   "source": [
    "# Convert 'Game_played' column to integers (1 for True, 0 for False)\n",
    "teams['Game_played'].fillna(False, inplace=True)\n",
    "teams['Game_played'] = teams['Game_played'].astype(int)\n",
    "\n",
    "# Calculate cumulative 'Games_Count' for each row\n",
    "teams['Games_Count'] = teams.groupby(['team_id', 'team_name'])['Game_played'].cumsum()\n",
    "\n"
   ]
  },
  {
   "cell_type": "markdown",
   "metadata": {},
   "source": [
    "Total goals"
   ]
  },
  {
   "cell_type": "code",
   "execution_count": null,
   "metadata": {},
   "outputs": [],
   "source": [
    "teams['Total_Goals'] = teams.groupby(['team_id', 'team_name'])['team_score'].cumsum()\n"
   ]
  },
  {
   "cell_type": "markdown",
   "metadata": {},
   "source": [
    "Goals per game"
   ]
  },
  {
   "cell_type": "code",
   "execution_count": null,
   "metadata": {},
   "outputs": [],
   "source": [
    "teams['Goals_per_game'] = teams['Total_Goals'] / teams['Games_Count']"
   ]
  },
  {
   "cell_type": "markdown",
   "metadata": {},
   "source": [
    "Goals conceded"
   ]
  },
  {
   "cell_type": "code",
   "execution_count": null,
   "metadata": {},
   "outputs": [],
   "source": [
    "teams['Total_Conceded'] = teams.groupby(['team_id', 'team_name'])['opponent_score'].cumsum()\n"
   ]
  },
  {
   "cell_type": "code",
   "execution_count": null,
   "metadata": {},
   "outputs": [],
   "source": [
    "teams['Conceded_per_game'] = teams['Total_Conceded'] / teams['Games_Count']"
   ]
  },
  {
   "cell_type": "markdown",
   "metadata": {},
   "source": [
    "Win"
   ]
  },
  {
   "cell_type": "code",
   "execution_count": null,
   "metadata": {},
   "outputs": [],
   "source": [
    "teams['Win'] = teams['team_score'] > teams['opponent_score'] \n",
    "teams['Win'] = teams['Win'].astype(int)\n"
   ]
  },
  {
   "cell_type": "markdown",
   "metadata": {},
   "source": [
    "Draw"
   ]
  },
  {
   "cell_type": "code",
   "execution_count": null,
   "metadata": {},
   "outputs": [],
   "source": [
    "teams['Draw'] = teams['team_score'] == teams['opponent_score'] \n",
    "teams['Draw'] = teams['Draw'].astype(int)"
   ]
  },
  {
   "cell_type": "markdown",
   "metadata": {},
   "source": [
    "Loss"
   ]
  },
  {
   "cell_type": "code",
   "execution_count": null,
   "metadata": {},
   "outputs": [],
   "source": [
    "teams['Loss'] = teams['team_score'] < teams['opponent_score'] \n",
    "teams['Loss'] = teams['Loss'].astype(int)"
   ]
  },
  {
   "cell_type": "markdown",
   "metadata": {},
   "source": [
    "Total wins"
   ]
  },
  {
   "cell_type": "code",
   "execution_count": null,
   "metadata": {},
   "outputs": [],
   "source": [
    "teams['Total_wins'] = teams.groupby(['team_id', 'team_name'])['Win'].cumsum()\n"
   ]
  },
  {
   "cell_type": "markdown",
   "metadata": {},
   "source": [
    "Win percentage"
   ]
  },
  {
   "cell_type": "code",
   "execution_count": null,
   "metadata": {},
   "outputs": [],
   "source": [
    "teams['Win_percentage'] = (teams['Total_wins'] / teams['Games_Count']) * 100"
   ]
  },
  {
   "cell_type": "markdown",
   "metadata": {},
   "source": [
    "Game Results"
   ]
  },
  {
   "cell_type": "code",
   "execution_count": null,
   "metadata": {},
   "outputs": [],
   "source": [
    "teams['result'] = teams.apply(lambda row: 1 if row['Win'] else (-1 if row['Loss'] else 0), axis=1)\n"
   ]
  },
  {
   "cell_type": "markdown",
   "metadata": {},
   "source": [
    "Form"
   ]
  },
  {
   "cell_type": "code",
   "execution_count": null,
   "metadata": {},
   "outputs": [],
   "source": [
    "def calculate_form(group, num_games):\n",
    "    forms = []\n",
    "    current_form = \"\"\n",
    "    \n",
    "    for i, row in group.iterrows():\n",
    "        result = row['result']\n",
    "        if row['Game_played'] == True:\n",
    "            if result == 1:\n",
    "                current_form += 'W'\n",
    "            elif result == -1:\n",
    "                current_form += 'L'\n",
    "            else:\n",
    "                current_form += 'D'\n",
    "            \n",
    "            if len(current_form) > num_games:\n",
    "                current_form = current_form[1:]\n",
    "            \n",
    "            forms.append(current_form)\n",
    "\n",
    "        else:\n",
    "            forms.append(None)\n",
    "    return forms\n",
    "\n",
    "# Calculate the form for each specific 'team_id' and assign it to the 'Form' column for that team\n",
    "unique_team_ids = teams['team_id'].unique()\n",
    "for team_id in unique_team_ids:\n",
    "    team_subset = teams[teams['team_id'] == team_id]\n",
    "    team_forms = calculate_form(team_subset, 5)\n",
    "    teams.loc[teams['team_id'] == team_id, 'Form'] = team_forms\n",
    "\n",
    "\n"
   ]
  },
  {
   "cell_type": "markdown",
   "metadata": {},
   "source": [
    "Numeric Form"
   ]
  },
  {
   "cell_type": "code",
   "execution_count": null,
   "metadata": {},
   "outputs": [],
   "source": [
    "def calculate_numerical_form(group, num_games):\n",
    "    numerical_forms = []\n",
    "    current_form = []\n",
    "    \n",
    "    for i, row in group.iterrows():\n",
    "        result = row['result']\n",
    "        game_played = row['Game_played']\n",
    "        \n",
    "        if game_played:\n",
    "            # Assign weights based on the position in the form\n",
    "            weight = 1 + i / num_games\n",
    "            \n",
    "            if result == 1:\n",
    "                value = 1\n",
    "            elif result == -1:\n",
    "                value = -1\n",
    "            else:\n",
    "                value = 0\n",
    "            \n",
    "            current_form.append(value * weight)\n",
    "            \n",
    "            if len(current_form) > num_games:\n",
    "                current_form.pop(0)\n",
    "            \n",
    "            numerical_form = sum(current_form) / len(current_form)\n",
    "            numerical_forms.append(numerical_form)\n",
    "        \n",
    "        else:\n",
    "            numerical_forms.append(None)  # Append None for games that haven't been played\n",
    "    \n",
    "    return numerical_forms\n",
    "\n",
    "# Calculate the numerical form for each specific 'team_id' and assign it to the 'Numerical_Form' column for that team\n",
    "unique_team_ids = teams['team_id'].unique()\n",
    "for team_id in unique_team_ids:\n",
    "    team_subset = teams[teams['team_id'] == team_id]\n",
    "    team_numerical_forms = calculate_numerical_form(team_subset, 5)\n",
    "    teams.loc[teams['team_id'] == team_id, 'Numerical_Form'] = team_numerical_forms\n",
    "\n"
   ]
  },
  {
   "cell_type": "markdown",
   "metadata": {},
   "source": [
    "Team strength"
   ]
  },
  {
   "cell_type": "code",
   "execution_count": null,
   "metadata": {},
   "outputs": [],
   "source": [
    "teams['Strength'] = teams['Numerical_Form']*2.5 + teams['fixture_difficulty']*2.0 + teams['Win_percentage']*2.0 + teams['Goals_per_game'] + teams['Conceded_per_game']*-1.0"
   ]
  },
  {
   "cell_type": "code",
   "execution_count": null,
   "metadata": {},
   "outputs": [],
   "source": []
  },
  {
   "cell_type": "code",
   "execution_count": null,
   "metadata": {},
   "outputs": [],
   "source": [
    "Liverpool = teams[teams['team_id'] == 11]\n",
    "Liverpool"
   ]
  },
  {
   "cell_type": "markdown",
   "metadata": {},
   "source": [
    "### Home Stats"
   ]
  },
  {
   "cell_type": "markdown",
   "metadata": {},
   "source": [
    "Games played home"
   ]
  },
  {
   "cell_type": "code",
   "execution_count": null,
   "metadata": {},
   "outputs": [],
   "source": [
    "# Calculate cumulative 'Games_Count' for each row\n",
    "teams['Home_Count'] = teams[teams['is_home'] == True].groupby(['team_id', 'team_name'])['Game_played'].cumsum()\n",
    "\n"
   ]
  },
  {
   "cell_type": "markdown",
   "metadata": {},
   "source": [
    "Goals at home"
   ]
  },
  {
   "cell_type": "code",
   "execution_count": null,
   "metadata": {},
   "outputs": [],
   "source": [
    "teams['Home_Goals'] = teams[teams['is_home'] == True].groupby(['team_id', 'team_name'])['team_score'].cumsum()\n"
   ]
  },
  {
   "cell_type": "markdown",
   "metadata": {},
   "source": [
    "Goals per home game"
   ]
  },
  {
   "cell_type": "code",
   "execution_count": null,
   "metadata": {},
   "outputs": [],
   "source": [
    "teams['Goals_per_home'] = teams.apply(lambda row: row['Total_Goals'] / row['Home_Count'] if row['is_home'] else None, axis=1)\n"
   ]
  },
  {
   "cell_type": "markdown",
   "metadata": {},
   "source": [
    "Goals conceded at home"
   ]
  },
  {
   "cell_type": "code",
   "execution_count": null,
   "metadata": {},
   "outputs": [],
   "source": [
    "teams['Home_Conceded'] = teams[teams['is_home'] == True].groupby(['team_id', 'team_name'])['opponent_score'].cumsum()\n"
   ]
  },
  {
   "cell_type": "markdown",
   "metadata": {},
   "source": [
    "Conceded per home game "
   ]
  },
  {
   "cell_type": "code",
   "execution_count": null,
   "metadata": {},
   "outputs": [],
   "source": [
    "teams['Conceded_per_home'] = teams.apply(lambda row: row['Home_Conceded'] / row['Home_Count'] if row['is_home'] else None, axis=1)\n"
   ]
  },
  {
   "cell_type": "markdown",
   "metadata": {},
   "source": [
    "Total home wins"
   ]
  },
  {
   "cell_type": "code",
   "execution_count": 26,
   "metadata": {},
   "outputs": [],
   "source": [
    "teams['Total_Home_wins'] = teams[teams['is_home'] == True].groupby(['team_id', 'team_name'])['Win'].cumsum()\n"
   ]
  },
  {
   "cell_type": "markdown",
   "metadata": {},
   "source": [
    "Home Win percentage"
   ]
  },
  {
   "cell_type": "code",
   "execution_count": 27,
   "metadata": {},
   "outputs": [],
   "source": [
    "teams['Home_Win_percentage'] = (teams['Total_Home_wins'] / teams['Home_Count']) * 100"
   ]
  },
  {
   "cell_type": "markdown",
   "metadata": {},
   "source": [
    "Home Form"
   ]
  },
  {
   "cell_type": "code",
   "execution_count": 31,
   "metadata": {},
   "outputs": [],
   "source": [
    "def calculate_form(group, num_games):\n",
    "    forms = []\n",
    "    current_form = \"\"\n",
    "    \n",
    "    for i, row in group.iterrows():\n",
    "        result = row['result']\n",
    "        if row['Game_played'] == True and row['is_home'] == True:\n",
    "            if result == 1:\n",
    "                current_form += 'W'\n",
    "            elif result == -1:\n",
    "                current_form += 'L'\n",
    "            else:\n",
    "                current_form += 'D'\n",
    "            \n",
    "            if len(current_form) > num_games:\n",
    "                current_form = current_form[1:]\n",
    "            \n",
    "            forms.append(current_form)\n",
    "\n",
    "        else:\n",
    "            forms.append(None)\n",
    "    return forms\n",
    "\n",
    "# Calculate the form for each specific 'team_id' and assign it to the 'Form' column for that team\n",
    "unique_team_ids = teams['team_id'].unique()\n",
    "for team_id in unique_team_ids:\n",
    "    team_subset = teams[teams['team_id'] == team_id]\n",
    "    team_forms = calculate_form(team_subset, 5)\n",
    "    teams.loc[teams['team_id'] == team_id, 'Home_Form'] = team_forms\n",
    "\n",
    "\n"
   ]
  },
  {
   "cell_type": "markdown",
   "metadata": {},
   "source": [
    "Home Numeric Form"
   ]
  },
  {
   "cell_type": "code",
   "execution_count": 34,
   "metadata": {},
   "outputs": [],
   "source": [
    "def calculate_numerical_form(group, num_games):\n",
    "    numerical_forms = []\n",
    "    current_form = []\n",
    "    \n",
    "    for i, row in group.iterrows():\n",
    "        result = row['result']\n",
    "        game_played = row['Game_played']\n",
    "        \n",
    "        if game_played and row['is_home'] == True:\n",
    "            # Assign weights based on the position in the form\n",
    "            weight = 1 + i / num_games\n",
    "            \n",
    "            if result == 1:\n",
    "                value = 1\n",
    "            elif result == -1:\n",
    "                value = -1\n",
    "            else:\n",
    "                value = 0\n",
    "            \n",
    "            current_form.append(value * weight)\n",
    "            \n",
    "            if len(current_form) > num_games:\n",
    "                current_form.pop(0)\n",
    "            \n",
    "            numerical_form = sum(current_form) / len(current_form)\n",
    "            numerical_forms.append(numerical_form)\n",
    "        \n",
    "        else:\n",
    "            numerical_forms.append(None)  # Append None for games that haven't been played\n",
    "    \n",
    "    return numerical_forms\n",
    "\n",
    "# Calculate the numerical form for each specific 'team_id' and assign it to the 'Numerical_Form' column for that team\n",
    "unique_team_ids = teams['team_id'].unique()\n",
    "for team_id in unique_team_ids:\n",
    "    team_subset = teams[teams['team_id'] == team_id]\n",
    "    team_numerical_forms = calculate_numerical_form(team_subset, 5)\n",
    "    teams.loc[teams['team_id'] == team_id, 'Home_Numerical_Form'] = team_numerical_forms\n",
    "\n"
   ]
  },
  {
   "cell_type": "code",
   "execution_count": null,
   "metadata": {},
   "outputs": [],
   "source": []
  },
  {
   "cell_type": "code",
   "execution_count": null,
   "metadata": {},
   "outputs": [],
   "source": []
  },
  {
   "cell_type": "code",
   "execution_count": null,
   "metadata": {},
   "outputs": [],
   "source": []
  },
  {
   "cell_type": "code",
   "execution_count": 35,
   "metadata": {},
   "outputs": [
    {
     "data": {
      "text/html": [
       "<div>\n",
       "<style scoped>\n",
       "    .dataframe tbody tr th:only-of-type {\n",
       "        vertical-align: middle;\n",
       "    }\n",
       "\n",
       "    .dataframe tbody tr th {\n",
       "        vertical-align: top;\n",
       "    }\n",
       "\n",
       "    .dataframe thead th {\n",
       "        text-align: right;\n",
       "    }\n",
       "</style>\n",
       "<table border=\"1\" class=\"dataframe\">\n",
       "  <thead>\n",
       "    <tr style=\"text-align: right;\">\n",
       "      <th></th>\n",
       "      <th>event_id</th>\n",
       "      <th>is_home</th>\n",
       "      <th>Total_Home_wins</th>\n",
       "      <th>Home_Win_percentage</th>\n",
       "      <th>Home_Form</th>\n",
       "      <th>Home_Numerical_Form</th>\n",
       "    </tr>\n",
       "  </thead>\n",
       "  <tbody>\n",
       "    <tr>\n",
       "      <th>12</th>\n",
       "      <td>1</td>\n",
       "      <td>False</td>\n",
       "      <td>NaN</td>\n",
       "      <td>NaN</td>\n",
       "      <td>None</td>\n",
       "      <td>None</td>\n",
       "    </tr>\n",
       "    <tr>\n",
       "      <th>32</th>\n",
       "      <td>2</td>\n",
       "      <td>True</td>\n",
       "      <td>1.0</td>\n",
       "      <td>100.0</td>\n",
       "      <td>W</td>\n",
       "      <td>7.4</td>\n",
       "    </tr>\n",
       "    <tr>\n",
       "      <th>52</th>\n",
       "      <td>3</td>\n",
       "      <td>False</td>\n",
       "      <td>NaN</td>\n",
       "      <td>NaN</td>\n",
       "      <td>None</td>\n",
       "      <td>None</td>\n",
       "    </tr>\n",
       "    <tr>\n",
       "      <th>72</th>\n",
       "      <td>4</td>\n",
       "      <td>True</td>\n",
       "      <td>2.0</td>\n",
       "      <td>100.0</td>\n",
       "      <td>WW</td>\n",
       "      <td>11.4</td>\n",
       "    </tr>\n",
       "    <tr>\n",
       "      <th>92</th>\n",
       "      <td>5</td>\n",
       "      <td>False</td>\n",
       "      <td>NaN</td>\n",
       "      <td>NaN</td>\n",
       "      <td>None</td>\n",
       "      <td>None</td>\n",
       "    </tr>\n",
       "    <tr>\n",
       "      <th>112</th>\n",
       "      <td>6</td>\n",
       "      <td>True</td>\n",
       "      <td>3.0</td>\n",
       "      <td>100.0</td>\n",
       "      <td>WWW</td>\n",
       "      <td>15.4</td>\n",
       "    </tr>\n",
       "    <tr>\n",
       "      <th>132</th>\n",
       "      <td>7</td>\n",
       "      <td>False</td>\n",
       "      <td>NaN</td>\n",
       "      <td>NaN</td>\n",
       "      <td>None</td>\n",
       "      <td>None</td>\n",
       "    </tr>\n",
       "    <tr>\n",
       "      <th>152</th>\n",
       "      <td>8</td>\n",
       "      <td>False</td>\n",
       "      <td>NaN</td>\n",
       "      <td>NaN</td>\n",
       "      <td>None</td>\n",
       "      <td>None</td>\n",
       "    </tr>\n",
       "    <tr>\n",
       "      <th>172</th>\n",
       "      <td>9</td>\n",
       "      <td>True</td>\n",
       "      <td>3.0</td>\n",
       "      <td>100.0</td>\n",
       "      <td>None</td>\n",
       "      <td>None</td>\n",
       "    </tr>\n",
       "    <tr>\n",
       "      <th>192</th>\n",
       "      <td>10</td>\n",
       "      <td>False</td>\n",
       "      <td>NaN</td>\n",
       "      <td>NaN</td>\n",
       "      <td>None</td>\n",
       "      <td>None</td>\n",
       "    </tr>\n",
       "    <tr>\n",
       "      <th>212</th>\n",
       "      <td>11</td>\n",
       "      <td>True</td>\n",
       "      <td>3.0</td>\n",
       "      <td>100.0</td>\n",
       "      <td>None</td>\n",
       "      <td>None</td>\n",
       "    </tr>\n",
       "    <tr>\n",
       "      <th>232</th>\n",
       "      <td>12</td>\n",
       "      <td>False</td>\n",
       "      <td>NaN</td>\n",
       "      <td>NaN</td>\n",
       "      <td>None</td>\n",
       "      <td>None</td>\n",
       "    </tr>\n",
       "    <tr>\n",
       "      <th>252</th>\n",
       "      <td>13</td>\n",
       "      <td>True</td>\n",
       "      <td>3.0</td>\n",
       "      <td>100.0</td>\n",
       "      <td>None</td>\n",
       "      <td>None</td>\n",
       "    </tr>\n",
       "    <tr>\n",
       "      <th>272</th>\n",
       "      <td>14</td>\n",
       "      <td>True</td>\n",
       "      <td>3.0</td>\n",
       "      <td>100.0</td>\n",
       "      <td>None</td>\n",
       "      <td>None</td>\n",
       "    </tr>\n",
       "    <tr>\n",
       "      <th>292</th>\n",
       "      <td>15</td>\n",
       "      <td>False</td>\n",
       "      <td>NaN</td>\n",
       "      <td>NaN</td>\n",
       "      <td>None</td>\n",
       "      <td>None</td>\n",
       "    </tr>\n",
       "    <tr>\n",
       "      <th>312</th>\n",
       "      <td>16</td>\n",
       "      <td>False</td>\n",
       "      <td>NaN</td>\n",
       "      <td>NaN</td>\n",
       "      <td>None</td>\n",
       "      <td>None</td>\n",
       "    </tr>\n",
       "    <tr>\n",
       "      <th>332</th>\n",
       "      <td>17</td>\n",
       "      <td>True</td>\n",
       "      <td>3.0</td>\n",
       "      <td>100.0</td>\n",
       "      <td>None</td>\n",
       "      <td>None</td>\n",
       "    </tr>\n",
       "    <tr>\n",
       "      <th>352</th>\n",
       "      <td>18</td>\n",
       "      <td>NaN</td>\n",
       "      <td>NaN</td>\n",
       "      <td>NaN</td>\n",
       "      <td>None</td>\n",
       "      <td>None</td>\n",
       "    </tr>\n",
       "    <tr>\n",
       "      <th>372</th>\n",
       "      <td>19</td>\n",
       "      <td>False</td>\n",
       "      <td>NaN</td>\n",
       "      <td>NaN</td>\n",
       "      <td>None</td>\n",
       "      <td>None</td>\n",
       "    </tr>\n",
       "    <tr>\n",
       "      <th>392</th>\n",
       "      <td>20</td>\n",
       "      <td>True</td>\n",
       "      <td>3.0</td>\n",
       "      <td>100.0</td>\n",
       "      <td>None</td>\n",
       "      <td>None</td>\n",
       "    </tr>\n",
       "    <tr>\n",
       "      <th>412</th>\n",
       "      <td>21</td>\n",
       "      <td>False</td>\n",
       "      <td>NaN</td>\n",
       "      <td>NaN</td>\n",
       "      <td>None</td>\n",
       "      <td>None</td>\n",
       "    </tr>\n",
       "    <tr>\n",
       "      <th>432</th>\n",
       "      <td>22</td>\n",
       "      <td>True</td>\n",
       "      <td>3.0</td>\n",
       "      <td>100.0</td>\n",
       "      <td>None</td>\n",
       "      <td>None</td>\n",
       "    </tr>\n",
       "    <tr>\n",
       "      <th>452</th>\n",
       "      <td>23</td>\n",
       "      <td>False</td>\n",
       "      <td>NaN</td>\n",
       "      <td>NaN</td>\n",
       "      <td>None</td>\n",
       "      <td>None</td>\n",
       "    </tr>\n",
       "    <tr>\n",
       "      <th>472</th>\n",
       "      <td>24</td>\n",
       "      <td>True</td>\n",
       "      <td>3.0</td>\n",
       "      <td>100.0</td>\n",
       "      <td>None</td>\n",
       "      <td>None</td>\n",
       "    </tr>\n",
       "    <tr>\n",
       "      <th>492</th>\n",
       "      <td>25</td>\n",
       "      <td>True</td>\n",
       "      <td>3.0</td>\n",
       "      <td>100.0</td>\n",
       "      <td>None</td>\n",
       "      <td>None</td>\n",
       "    </tr>\n",
       "    <tr>\n",
       "      <th>512</th>\n",
       "      <td>26</td>\n",
       "      <td>False</td>\n",
       "      <td>NaN</td>\n",
       "      <td>NaN</td>\n",
       "      <td>None</td>\n",
       "      <td>None</td>\n",
       "    </tr>\n",
       "    <tr>\n",
       "      <th>532</th>\n",
       "      <td>27</td>\n",
       "      <td>True</td>\n",
       "      <td>3.0</td>\n",
       "      <td>100.0</td>\n",
       "      <td>None</td>\n",
       "      <td>None</td>\n",
       "    </tr>\n",
       "    <tr>\n",
       "      <th>552</th>\n",
       "      <td>28</td>\n",
       "      <td>False</td>\n",
       "      <td>NaN</td>\n",
       "      <td>NaN</td>\n",
       "      <td>None</td>\n",
       "      <td>None</td>\n",
       "    </tr>\n",
       "    <tr>\n",
       "      <th>572</th>\n",
       "      <td>29</td>\n",
       "      <td>False</td>\n",
       "      <td>NaN</td>\n",
       "      <td>NaN</td>\n",
       "      <td>None</td>\n",
       "      <td>None</td>\n",
       "    </tr>\n",
       "    <tr>\n",
       "      <th>592</th>\n",
       "      <td>30</td>\n",
       "      <td>True</td>\n",
       "      <td>3.0</td>\n",
       "      <td>100.0</td>\n",
       "      <td>None</td>\n",
       "      <td>None</td>\n",
       "    </tr>\n",
       "    <tr>\n",
       "      <th>612</th>\n",
       "      <td>31</td>\n",
       "      <td>True</td>\n",
       "      <td>3.0</td>\n",
       "      <td>100.0</td>\n",
       "      <td>None</td>\n",
       "      <td>None</td>\n",
       "    </tr>\n",
       "    <tr>\n",
       "      <th>632</th>\n",
       "      <td>32</td>\n",
       "      <td>False</td>\n",
       "      <td>NaN</td>\n",
       "      <td>NaN</td>\n",
       "      <td>None</td>\n",
       "      <td>None</td>\n",
       "    </tr>\n",
       "    <tr>\n",
       "      <th>652</th>\n",
       "      <td>33</td>\n",
       "      <td>True</td>\n",
       "      <td>3.0</td>\n",
       "      <td>100.0</td>\n",
       "      <td>None</td>\n",
       "      <td>None</td>\n",
       "    </tr>\n",
       "    <tr>\n",
       "      <th>672</th>\n",
       "      <td>34</td>\n",
       "      <td>False</td>\n",
       "      <td>NaN</td>\n",
       "      <td>NaN</td>\n",
       "      <td>None</td>\n",
       "      <td>None</td>\n",
       "    </tr>\n",
       "    <tr>\n",
       "      <th>692</th>\n",
       "      <td>35</td>\n",
       "      <td>False</td>\n",
       "      <td>NaN</td>\n",
       "      <td>NaN</td>\n",
       "      <td>None</td>\n",
       "      <td>None</td>\n",
       "    </tr>\n",
       "    <tr>\n",
       "      <th>712</th>\n",
       "      <td>36</td>\n",
       "      <td>True</td>\n",
       "      <td>3.0</td>\n",
       "      <td>100.0</td>\n",
       "      <td>None</td>\n",
       "      <td>None</td>\n",
       "    </tr>\n",
       "    <tr>\n",
       "      <th>732</th>\n",
       "      <td>37</td>\n",
       "      <td>False</td>\n",
       "      <td>NaN</td>\n",
       "      <td>NaN</td>\n",
       "      <td>None</td>\n",
       "      <td>None</td>\n",
       "    </tr>\n",
       "    <tr>\n",
       "      <th>752</th>\n",
       "      <td>38</td>\n",
       "      <td>True</td>\n",
       "      <td>3.0</td>\n",
       "      <td>100.0</td>\n",
       "      <td>None</td>\n",
       "      <td>None</td>\n",
       "    </tr>\n",
       "  </tbody>\n",
       "</table>\n",
       "</div>"
      ],
      "text/plain": [
       "     event_id is_home  Total_Home_wins  Home_Win_percentage Home_Form  \\\n",
       "12          1   False              NaN                  NaN      None   \n",
       "32          2    True              1.0                100.0         W   \n",
       "52          3   False              NaN                  NaN      None   \n",
       "72          4    True              2.0                100.0        WW   \n",
       "92          5   False              NaN                  NaN      None   \n",
       "112         6    True              3.0                100.0       WWW   \n",
       "132         7   False              NaN                  NaN      None   \n",
       "152         8   False              NaN                  NaN      None   \n",
       "172         9    True              3.0                100.0      None   \n",
       "192        10   False              NaN                  NaN      None   \n",
       "212        11    True              3.0                100.0      None   \n",
       "232        12   False              NaN                  NaN      None   \n",
       "252        13    True              3.0                100.0      None   \n",
       "272        14    True              3.0                100.0      None   \n",
       "292        15   False              NaN                  NaN      None   \n",
       "312        16   False              NaN                  NaN      None   \n",
       "332        17    True              3.0                100.0      None   \n",
       "352        18     NaN              NaN                  NaN      None   \n",
       "372        19   False              NaN                  NaN      None   \n",
       "392        20    True              3.0                100.0      None   \n",
       "412        21   False              NaN                  NaN      None   \n",
       "432        22    True              3.0                100.0      None   \n",
       "452        23   False              NaN                  NaN      None   \n",
       "472        24    True              3.0                100.0      None   \n",
       "492        25    True              3.0                100.0      None   \n",
       "512        26   False              NaN                  NaN      None   \n",
       "532        27    True              3.0                100.0      None   \n",
       "552        28   False              NaN                  NaN      None   \n",
       "572        29   False              NaN                  NaN      None   \n",
       "592        30    True              3.0                100.0      None   \n",
       "612        31    True              3.0                100.0      None   \n",
       "632        32   False              NaN                  NaN      None   \n",
       "652        33    True              3.0                100.0      None   \n",
       "672        34   False              NaN                  NaN      None   \n",
       "692        35   False              NaN                  NaN      None   \n",
       "712        36    True              3.0                100.0      None   \n",
       "732        37   False              NaN                  NaN      None   \n",
       "752        38    True              3.0                100.0      None   \n",
       "\n",
       "    Home_Numerical_Form  \n",
       "12                 None  \n",
       "32                  7.4  \n",
       "52                 None  \n",
       "72                 11.4  \n",
       "92                 None  \n",
       "112                15.4  \n",
       "132                None  \n",
       "152                None  \n",
       "172                None  \n",
       "192                None  \n",
       "212                None  \n",
       "232                None  \n",
       "252                None  \n",
       "272                None  \n",
       "292                None  \n",
       "312                None  \n",
       "332                None  \n",
       "352                None  \n",
       "372                None  \n",
       "392                None  \n",
       "412                None  \n",
       "432                None  \n",
       "452                None  \n",
       "472                None  \n",
       "492                None  \n",
       "512                None  \n",
       "532                None  \n",
       "552                None  \n",
       "572                None  \n",
       "592                None  \n",
       "612                None  \n",
       "632                None  \n",
       "652                None  \n",
       "672                None  \n",
       "692                None  \n",
       "712                None  \n",
       "732                None  \n",
       "752                None  "
      ]
     },
     "execution_count": 35,
     "metadata": {},
     "output_type": "execute_result"
    }
   ],
   "source": [
    "Manchester_City = teams[teams['team_short_name'] == 'MCI']\n",
    "Manchester_City.loc[:,['event_id','is_home','Total_Home_wins','Home_Win_percentage', 'Home_Form', 'Home_Numerical_Form']]"
   ]
  },
  {
   "cell_type": "code",
   "execution_count": null,
   "metadata": {},
   "outputs": [],
   "source": [
    "##\n"
   ]
  },
  {
   "cell_type": "code",
   "execution_count": null,
   "metadata": {},
   "outputs": [],
   "source": []
  }
 ],
 "metadata": {
  "kernelspec": {
   "display_name": "NewEnv",
   "language": "python",
   "name": "python3"
  },
  "language_info": {
   "codemirror_mode": {
    "name": "ipython",
    "version": 3
   },
   "file_extension": ".py",
   "mimetype": "text/x-python",
   "name": "python",
   "nbconvert_exporter": "python",
   "pygments_lexer": "ipython3",
   "version": "3.8.13"
  }
 },
 "nbformat": 4,
 "nbformat_minor": 2
}
