{
 "cells": [
  {
   "cell_type": "code",
   "execution_count": null,
   "metadata": {},
   "outputs": [],
   "source": [
    "#Importing libraries\n",
    "\n",
    "import pandas as pd \n",
    "import numpy as np\n",
    "import seaborn as sns \n",
    "import matplotlib.pyplot as plt \n",
    "import requests\n",
    "\n",
    "print(\"Libraries imported successfully......\")"
   ]
  },
  {
   "cell_type": "code",
   "execution_count": null,
   "metadata": {},
   "outputs": [],
   "source": [
    "teams = pd.read_csv('expanded_teams_data.csv')\n",
    "\n",
    "print(\"Data loaded successfully..\")"
   ]
  },
  {
   "cell_type": "markdown",
   "metadata": {},
   "source": [
    "# Feature Engineering"
   ]
  },
  {
   "cell_type": "markdown",
   "metadata": {},
   "source": [
    "### General Stats"
   ]
  },
  {
   "cell_type": "markdown",
   "metadata": {},
   "source": [
    "Games played\n"
   ]
  },
  {
   "cell_type": "code",
   "execution_count": null,
   "metadata": {},
   "outputs": [],
   "source": [
    "# Convert 'Game_played' column to integers (1 for True, 0 for False)\n",
    "teams['Game_played'].fillna(False, inplace=True)\n",
    "teams['Game_played'] = teams['Game_played'].astype(int)\n",
    "\n",
    "# Calculate cumulative 'Games_Count' for each row\n",
    "teams['Games_Count'] = teams.groupby(['team_id', 'team_name'])['Game_played'].cumsum()\n",
    "\n"
   ]
  },
  {
   "cell_type": "markdown",
   "metadata": {},
   "source": [
    "Total goals"
   ]
  },
  {
   "cell_type": "code",
   "execution_count": null,
   "metadata": {},
   "outputs": [],
   "source": [
    "teams['Total_Goals'] = teams.groupby(['team_id', 'team_name'])['team_score'].cumsum()\n"
   ]
  },
  {
   "cell_type": "markdown",
   "metadata": {},
   "source": [
    "Goals per game"
   ]
  },
  {
   "cell_type": "code",
   "execution_count": null,
   "metadata": {},
   "outputs": [],
   "source": [
    "teams['Goals_per_game'] = teams['Total_Goals'] / teams['Games_Count']"
   ]
  },
  {
   "cell_type": "markdown",
   "metadata": {},
   "source": [
    "Goals conceded"
   ]
  },
  {
   "cell_type": "code",
   "execution_count": null,
   "metadata": {},
   "outputs": [],
   "source": [
    "teams['Total_Conceded'] = teams.groupby(['team_id', 'team_name'])['opponent_score'].cumsum()\n"
   ]
  },
  {
   "cell_type": "code",
   "execution_count": null,
   "metadata": {},
   "outputs": [],
   "source": [
    "teams['Conceded_per_game'] = teams['Total_Conceded'] / teams['Games_Count']"
   ]
  },
  {
   "cell_type": "markdown",
   "metadata": {},
   "source": [
    "Win"
   ]
  },
  {
   "cell_type": "code",
   "execution_count": null,
   "metadata": {},
   "outputs": [],
   "source": [
    "teams['Win'] = teams['team_score'] > teams['opponent_score'] \n",
    "teams['Win'] = teams['Win'].astype(int)\n"
   ]
  },
  {
   "cell_type": "markdown",
   "metadata": {},
   "source": [
    "Draw"
   ]
  },
  {
   "cell_type": "code",
   "execution_count": null,
   "metadata": {},
   "outputs": [],
   "source": [
    "teams['Draw'] = teams['team_score'] == teams['opponent_score'] \n",
    "teams['Draw'] = teams['Draw'].astype(int)"
   ]
  },
  {
   "cell_type": "markdown",
   "metadata": {},
   "source": [
    "Loss"
   ]
  },
  {
   "cell_type": "code",
   "execution_count": null,
   "metadata": {},
   "outputs": [],
   "source": [
    "teams['Loss'] = teams['team_score'] < teams['opponent_score'] \n",
    "teams['Loss'] = teams['Loss'].astype(int)"
   ]
  },
  {
   "cell_type": "markdown",
   "metadata": {},
   "source": [
    "Total wins"
   ]
  },
  {
   "cell_type": "code",
   "execution_count": null,
   "metadata": {},
   "outputs": [],
   "source": [
    "teams['Total_wins'] = teams.groupby(['team_id', 'team_name'])['Win'].cumsum()\n"
   ]
  },
  {
   "cell_type": "markdown",
   "metadata": {},
   "source": [
    "Win percentage"
   ]
  },
  {
   "cell_type": "code",
   "execution_count": null,
   "metadata": {},
   "outputs": [],
   "source": [
    "teams['Win_percentage'] = (teams['Total_wins'] / teams['Games_Count']) * 100"
   ]
  },
  {
   "cell_type": "markdown",
   "metadata": {},
   "source": [
    "Game Results"
   ]
  },
  {
   "cell_type": "code",
   "execution_count": null,
   "metadata": {},
   "outputs": [],
   "source": [
    "teams['result'] = teams.apply(lambda row: 1 if row['Win'] else (-1 if row['Loss'] else 0), axis=1)\n"
   ]
  },
  {
   "cell_type": "markdown",
   "metadata": {},
   "source": [
    "Form"
   ]
  },
  {
   "cell_type": "code",
   "execution_count": null,
   "metadata": {},
   "outputs": [],
   "source": [
    "def calculate_form(group, num_games):\n",
    "    forms = []\n",
    "    current_form = \"\"\n",
    "    \n",
    "    for i, row in group.iterrows():\n",
    "        result = row['result']\n",
    "        if row['Game_played'] == True:\n",
    "            if result == 1:\n",
    "                current_form += 'W'\n",
    "            elif result == -1:\n",
    "                current_form += 'L'\n",
    "            else:\n",
    "                current_form += 'D'\n",
    "            \n",
    "            if len(current_form) > num_games:\n",
    "                current_form = current_form[1:]\n",
    "            \n",
    "            forms.append(current_form)\n",
    "\n",
    "        else:\n",
    "            forms.append(None)\n",
    "    return forms\n",
    "\n",
    "# Calculate the form for each specific 'team_id' and assign it to the 'Form' column for that team\n",
    "unique_team_ids = teams['team_id'].unique()\n",
    "for team_id in unique_team_ids:\n",
    "    team_subset = teams[teams['team_id'] == team_id]\n",
    "    team_forms = calculate_form(team_subset, 5)\n",
    "    teams.loc[teams['team_id'] == team_id, 'Form'] = team_forms\n",
    "\n",
    "\n"
   ]
  },
  {
   "cell_type": "markdown",
   "metadata": {},
   "source": [
    "Numeric Form"
   ]
  },
  {
   "cell_type": "code",
   "execution_count": null,
   "metadata": {},
   "outputs": [],
   "source": [
    "def calculate_numerical_form(group, num_games):\n",
    "    numerical_forms = []\n",
    "    current_form = []\n",
    "    \n",
    "    for i, row in group.iterrows():\n",
    "        result = row['result']\n",
    "        game_played = row['Game_played']\n",
    "        \n",
    "        if game_played:\n",
    "            # Assign weights based on the position in the form\n",
    "            weight = 1 + i / num_games\n",
    "            \n",
    "            if result == 1:\n",
    "                value = 1\n",
    "            elif result == -1:\n",
    "                value = -1\n",
    "            else:\n",
    "                value = 0\n",
    "            \n",
    "            current_form.append(value * weight)\n",
    "            \n",
    "            if len(current_form) > num_games:\n",
    "                current_form.pop(0)\n",
    "            \n",
    "            numerical_form = sum(current_form) / len(current_form)\n",
    "            numerical_forms.append(numerical_form)\n",
    "        \n",
    "        else:\n",
    "            numerical_forms.append(None)  # Append None for games that haven't been played\n",
    "    \n",
    "    return numerical_forms\n",
    "\n",
    "# Calculate the numerical form for each specific 'team_id' and assign it to the 'Numerical_Form' column for that team\n",
    "unique_team_ids = teams['team_id'].unique()\n",
    "for team_id in unique_team_ids:\n",
    "    team_subset = teams[teams['team_id'] == team_id]\n",
    "    team_numerical_forms = calculate_numerical_form(team_subset, 5)\n",
    "    teams.loc[teams['team_id'] == team_id, 'Numerical_Form'] = team_numerical_forms\n",
    "\n"
   ]
  },
  {
   "cell_type": "markdown",
   "metadata": {},
   "source": [
    "Team strength"
   ]
  },
  {
   "cell_type": "code",
   "execution_count": null,
   "metadata": {},
   "outputs": [],
   "source": [
    "teams['Strength'] = teams['Numerical_Form']*2.5 + teams['fixture_difficulty']*2.0 + teams['Win_percentage']*2.0 + teams['Goals_per_game'] + teams['Conceded_per_game']*-1.0"
   ]
  },
  {
   "cell_type": "code",
   "execution_count": null,
   "metadata": {},
   "outputs": [],
   "source": [
    "Liverpool = teams[teams['team_id'] == 11]\n",
    "Liverpool"
   ]
  },
  {
   "cell_type": "markdown",
   "metadata": {},
   "source": [
    "### Home Stats"
   ]
  },
  {
   "cell_type": "markdown",
   "metadata": {},
   "source": [
    "Games played home"
   ]
  },
  {
   "cell_type": "code",
   "execution_count": null,
   "metadata": {},
   "outputs": [],
   "source": [
    "# Calculate cumulative 'Games_Count' for each row\n",
    "teams['Home_Count'] = teams[teams['is_home'] == True].groupby(['team_id', 'team_name'])['Game_played'].cumsum()\n",
    "\n"
   ]
  },
  {
   "cell_type": "markdown",
   "metadata": {},
   "source": [
    "Goals at home"
   ]
  },
  {
   "cell_type": "code",
   "execution_count": null,
   "metadata": {},
   "outputs": [],
   "source": [
    "teams['Home_Goals'] = teams[teams['is_home'] == True].groupby(['team_id', 'team_name'])['team_score'].cumsum()\n"
   ]
  },
  {
   "cell_type": "markdown",
   "metadata": {},
   "source": [
    "Goals per home game"
   ]
  },
  {
   "cell_type": "code",
   "execution_count": null,
   "metadata": {},
   "outputs": [],
   "source": [
    "teams['Goals_per_home'] = teams.apply(lambda row: row['Total_Goals'] / row['Home_Count'] if row['is_home'] else None, axis=1)\n"
   ]
  },
  {
   "cell_type": "markdown",
   "metadata": {},
   "source": [
    "Goals conceded at home"
   ]
  },
  {
   "cell_type": "code",
   "execution_count": null,
   "metadata": {},
   "outputs": [],
   "source": [
    "teams['Home_Conceded'] = teams[teams['is_home'] == True].groupby(['team_id', 'team_name'])['opponent_score'].cumsum()\n"
   ]
  },
  {
   "cell_type": "markdown",
   "metadata": {},
   "source": [
    "Conceded per home game "
   ]
  },
  {
   "cell_type": "code",
   "execution_count": null,
   "metadata": {},
   "outputs": [],
   "source": [
    "teams['Conceded_per_home'] = teams.apply(lambda row: row['Home_Conceded'] / row['Home_Count'] if row['is_home'] else None, axis=1)\n"
   ]
  },
  {
   "cell_type": "markdown",
   "metadata": {},
   "source": [
    "Total home wins"
   ]
  },
  {
   "cell_type": "code",
   "execution_count": null,
   "metadata": {},
   "outputs": [],
   "source": [
    "teams['Total_Home_wins'] = teams[teams['is_home'] == True].groupby(['team_id', 'team_name'])['Win'].cumsum()\n"
   ]
  },
  {
   "cell_type": "markdown",
   "metadata": {},
   "source": [
    "Home Win percentage"
   ]
  },
  {
   "cell_type": "code",
   "execution_count": null,
   "metadata": {},
   "outputs": [],
   "source": [
    "teams['Home_Win_percentage'] = (teams['Total_Home_wins'] / teams['Home_Count']) * 100"
   ]
  },
  {
   "cell_type": "markdown",
   "metadata": {},
   "source": [
    "Home Form"
   ]
  },
  {
   "cell_type": "code",
   "execution_count": null,
   "metadata": {},
   "outputs": [],
   "source": [
    "def calculate_form_home(group, num_games):\n",
    "    forms = []\n",
    "    current_form = \"\"\n",
    "    \n",
    "    for i, row in group.iterrows():\n",
    "        result = row['result']\n",
    "        if row['Game_played'] == True and row['is_home'] == True:\n",
    "            if result == 1:\n",
    "                current_form += 'W'\n",
    "            elif result == -1:\n",
    "                current_form += 'L'\n",
    "            else:\n",
    "                current_form += 'D'\n",
    "            \n",
    "            if len(current_form) > num_games:\n",
    "                current_form = current_form[1:]\n",
    "            \n",
    "            forms.append(current_form)\n",
    "\n",
    "        else:\n",
    "            forms.append(None)\n",
    "    return forms\n",
    "\n",
    "# Calculate the form for each specific 'team_id' and assign it to the 'Form' column for that team\n",
    "unique_team_ids = teams['team_id'].unique()\n",
    "for team_id in unique_team_ids:\n",
    "    team_subset = teams[teams['team_id'] == team_id]\n",
    "    team_forms = calculate_form_home(team_subset, 5)\n",
    "    teams.loc[teams['team_id'] == team_id, 'Home_Form'] = team_forms\n",
    "\n",
    "\n"
   ]
  },
  {
   "cell_type": "markdown",
   "metadata": {},
   "source": [
    "Home Numeric Form"
   ]
  },
  {
   "cell_type": "code",
   "execution_count": null,
   "metadata": {},
   "outputs": [],
   "source": [
    "def calculate_numerical_form_home(group, num_games):\n",
    "    numerical_forms = []\n",
    "    current_form = []\n",
    "    \n",
    "    for i, row in group.iterrows():\n",
    "        result = row['result']\n",
    "        game_played = row['Game_played']\n",
    "        \n",
    "        if game_played and row['is_home'] == True:\n",
    "            # Assign weights based on the position in the form\n",
    "            weight = 1 + i / num_games\n",
    "            \n",
    "            if result == 1:\n",
    "                value = 1\n",
    "            elif result == -1:\n",
    "                value = -1\n",
    "            else:\n",
    "                value = 0\n",
    "            \n",
    "            current_form.append(value * weight)\n",
    "            \n",
    "            if len(current_form) > num_games:\n",
    "                current_form.pop(0)\n",
    "            \n",
    "            numerical_form = sum(current_form) / len(current_form)\n",
    "            numerical_forms.append(numerical_form)\n",
    "        \n",
    "        else:\n",
    "            numerical_forms.append(None)  # Append None for games that haven't been played\n",
    "    \n",
    "    return numerical_forms\n",
    "\n",
    "# Calculate the numerical form for each specific 'team_id' and assign it to the 'Numerical_Form' column for that team\n",
    "unique_team_ids = teams['team_id'].unique()\n",
    "for team_id in unique_team_ids:\n",
    "    team_subset = teams[teams['team_id'] == team_id]\n",
    "    team_numerical_forms = calculate_numerical_form_home(team_subset, 5)\n",
    "    teams.loc[teams['team_id'] == team_id, 'Home_Numerical_Form'] = team_numerical_forms\n",
    "\n"
   ]
  },
  {
   "cell_type": "code",
   "execution_count": null,
   "metadata": {},
   "outputs": [],
   "source": [
    "teams['Home_Strength'] = teams['Home_Numerical_Form']*2.5 + teams['fixture_difficulty']*2.0 + teams['Home_Win_percentage']*2.0 + teams['Goals_per_home'] + teams['Conceded_per_home']*-1.0"
   ]
  },
  {
   "cell_type": "markdown",
   "metadata": {},
   "source": [
    "### Away Stats"
   ]
  },
  {
   "cell_type": "markdown",
   "metadata": {},
   "source": [
    "Games played away"
   ]
  },
  {
   "cell_type": "code",
   "execution_count": null,
   "metadata": {},
   "outputs": [],
   "source": [
    "# Calculate cumulative 'Games_Count' for each row\n",
    "teams['Away_Count'] = teams[teams['is_home'] == False].groupby(['team_id', 'team_name'])['Game_played'].cumsum()\n",
    "\n"
   ]
  },
  {
   "cell_type": "markdown",
   "metadata": {},
   "source": [
    "Goals away"
   ]
  },
  {
   "cell_type": "code",
   "execution_count": null,
   "metadata": {},
   "outputs": [],
   "source": [
    "teams['Away_Goals'] = teams[teams['is_home'] == False].groupby(['team_id', 'team_name'])['team_score'].cumsum()\n"
   ]
  },
  {
   "cell_type": "markdown",
   "metadata": {},
   "source": [
    "Goals per away game"
   ]
  },
  {
   "cell_type": "code",
   "execution_count": null,
   "metadata": {},
   "outputs": [],
   "source": [
    "teams['Goals_per_away'] = teams.apply(lambda row: row['Total_Goals'] / row['Away_Count'] if row['is_home']==False else None, axis=1)\n"
   ]
  },
  {
   "cell_type": "markdown",
   "metadata": {},
   "source": [
    "Goals conceded away"
   ]
  },
  {
   "cell_type": "code",
   "execution_count": null,
   "metadata": {},
   "outputs": [],
   "source": [
    "teams['Away_Conceded'] = teams[teams['is_home'] == False].groupby(['team_id', 'team_name'])['opponent_score'].cumsum()\n"
   ]
  },
  {
   "cell_type": "markdown",
   "metadata": {},
   "source": [
    "Conceded per away game "
   ]
  },
  {
   "cell_type": "code",
   "execution_count": null,
   "metadata": {},
   "outputs": [],
   "source": [
    "teams['Conceded_per_away'] = teams.apply(lambda row: row['Away_Conceded'] / row['Away_Count'] if row['is_home'] ==False else None, axis=1)\n"
   ]
  },
  {
   "cell_type": "markdown",
   "metadata": {},
   "source": [
    "Total Away wins"
   ]
  },
  {
   "cell_type": "code",
   "execution_count": null,
   "metadata": {},
   "outputs": [],
   "source": [
    "teams['Total_Away_wins'] = teams[teams['is_home'] == False].groupby(['team_id', 'team_name'])['Win'].cumsum()\n"
   ]
  },
  {
   "cell_type": "markdown",
   "metadata": {},
   "source": [
    "Away Win percentage"
   ]
  },
  {
   "cell_type": "code",
   "execution_count": null,
   "metadata": {},
   "outputs": [],
   "source": [
    "teams['Away_Win_percentage'] = (teams['Total_Away_wins'] / teams['Away_Count']) * 100"
   ]
  },
  {
   "cell_type": "markdown",
   "metadata": {},
   "source": [
    "Away Form"
   ]
  },
  {
   "cell_type": "code",
   "execution_count": null,
   "metadata": {},
   "outputs": [],
   "source": [
    "def calculate_form_away(group, num_games):\n",
    "    forms = []\n",
    "    current_form = \"\"\n",
    "    \n",
    "    for i, row in group.iterrows():\n",
    "        result = row['result']\n",
    "        if row['Game_played'] == True and row['is_home'] == False:\n",
    "            if result == 1:\n",
    "                current_form += 'W'\n",
    "            elif result == -1:\n",
    "                current_form += 'L'\n",
    "            else:\n",
    "                current_form += 'D'\n",
    "            \n",
    "            if len(current_form) > num_games:\n",
    "                current_form = current_form[1:]\n",
    "            \n",
    "            forms.append(current_form)\n",
    "\n",
    "        else:\n",
    "            forms.append(None)\n",
    "    return forms\n",
    "\n",
    "# Calculate the form for each specific 'team_id' and assign it to the 'Form' column for that team\n",
    "unique_team_ids = teams['team_id'].unique()\n",
    "for team_id in unique_team_ids:\n",
    "    team_subset = teams[teams['team_id'] == team_id]\n",
    "    team_forms = calculate_form_away(team_subset, 5)\n",
    "    teams.loc[teams['team_id'] == team_id, 'Away_Form'] = team_forms\n",
    "\n",
    "\n"
   ]
  },
  {
   "cell_type": "markdown",
   "metadata": {},
   "source": [
    "Away Numeric Form"
   ]
  },
  {
   "cell_type": "code",
   "execution_count": null,
   "metadata": {},
   "outputs": [],
   "source": [
    "def calculate_numerical_form_away(group, num_games):\n",
    "    numerical_forms = []\n",
    "    current_form = []\n",
    "    \n",
    "    for i, row in group.iterrows():\n",
    "        result = row['result']\n",
    "        game_played = row['Game_played']\n",
    "        \n",
    "        if game_played and row['is_home'] == False:\n",
    "            # Assign weights based on the position in the form\n",
    "            weight = 1 + i / num_games\n",
    "            \n",
    "            if result == 1:\n",
    "                value = 1\n",
    "            elif result == -1:\n",
    "                value = -1\n",
    "            else:\n",
    "                value = 0\n",
    "            \n",
    "            current_form.append(value * weight)\n",
    "            \n",
    "            if len(current_form) > num_games:\n",
    "                current_form.pop(0)\n",
    "            \n",
    "            numerical_form = sum(current_form) / len(current_form)\n",
    "            numerical_forms.append(numerical_form)\n",
    "        \n",
    "        else:\n",
    "            numerical_forms.append(None)  # Append None for games that haven't been played\n",
    "    \n",
    "    return numerical_forms\n",
    "\n",
    "# Calculate the numerical form for each specific 'team_id' and assign it to the 'Numerical_Form' column for that team\n",
    "unique_team_ids = teams['team_id'].unique()\n",
    "for team_id in unique_team_ids:\n",
    "    team_subset = teams[teams['team_id'] == team_id]\n",
    "    team_numerical_forms = calculate_numerical_form_away(team_subset, 5)\n",
    "    teams.loc[teams['team_id'] == team_id, 'Away_Numerical_Form'] = team_numerical_forms\n",
    "\n"
   ]
  },
  {
   "cell_type": "code",
   "execution_count": null,
   "metadata": {},
   "outputs": [],
   "source": [
    "teams['Away_Strength'] = teams['Away_Numerical_Form']*2.5 + teams['fixture_difficulty']*2.0 + teams['Away_Win_percentage']*2.0 + teams['Goals_per_away'] + teams['Conceded_per_away']*-1.0"
   ]
  },
  {
   "cell_type": "markdown",
   "metadata": {},
   "source": [
    "## Defense Strength stats"
   ]
  },
  {
   "cell_type": "markdown",
   "metadata": {},
   "source": [
    "### Overall"
   ]
  },
  {
   "cell_type": "code",
   "execution_count": null,
   "metadata": {},
   "outputs": [],
   "source": [
    "teams['Defence_Strength'] = teams['Numerical_Form']*2.0 + teams['fixture_difficulty']*1.5 + teams['Conceded_per_game']*-1.5 + teams['Win_percentage']*1.5"
   ]
  },
  {
   "cell_type": "markdown",
   "metadata": {},
   "source": [
    "Home"
   ]
  },
  {
   "cell_type": "code",
   "execution_count": null,
   "metadata": {},
   "outputs": [],
   "source": [
    "teams['Home_Defence_Strength'] = teams['Home_Numerical_Form']*2.0 + teams['fixture_difficulty']*1.5 + teams['Conceded_per_home']*-1.5 + teams['Home_Win_percentage']*1.5"
   ]
  },
  {
   "cell_type": "markdown",
   "metadata": {},
   "source": [
    "Away"
   ]
  },
  {
   "cell_type": "code",
   "execution_count": null,
   "metadata": {},
   "outputs": [],
   "source": [
    "teams['Away_Defence_Strength'] = teams['Away_Numerical_Form']*2.0 + teams['fixture_difficulty']*1.5 + teams['Conceded_per_away']*-1.5 + teams['Away_Win_percentage']*1.5"
   ]
  },
  {
   "cell_type": "markdown",
   "metadata": {},
   "source": [
    "## Attack Strength stats"
   ]
  },
  {
   "cell_type": "markdown",
   "metadata": {},
   "source": [
    "### Overall"
   ]
  },
  {
   "cell_type": "code",
   "execution_count": null,
   "metadata": {},
   "outputs": [],
   "source": [
    "teams['Attack_Strength'] = teams['Numerical_Form']*2.5 + teams['fixture_difficulty']*2.0 + teams['Win_percentage']*0.8 + teams['Goals_per_game']*2.0"
   ]
  },
  {
   "cell_type": "markdown",
   "metadata": {},
   "source": [
    "Home"
   ]
  },
  {
   "cell_type": "code",
   "execution_count": null,
   "metadata": {},
   "outputs": [],
   "source": [
    "teams['Home_Attack_Strength'] = teams['Home_Numerical_Form']*2.5 + teams['fixture_difficulty']*2.0 + teams['Home_Win_percentage']*0.8 + teams['Goals_per_home']*2.0"
   ]
  },
  {
   "cell_type": "markdown",
   "metadata": {},
   "source": [
    "Away"
   ]
  },
  {
   "cell_type": "code",
   "execution_count": null,
   "metadata": {},
   "outputs": [],
   "source": [
    "teams['Away_Attack_Strength'] = teams['Away_Numerical_Form']*2.5 + teams['fixture_difficulty']*2.0 + teams['Away_Win_percentage']*0.8 + teams['Goals_per_away']*2.0"
   ]
  },
  {
   "cell_type": "markdown",
   "metadata": {},
   "source": [
    "# Preprocessing"
   ]
  },
  {
   "cell_type": "code",
   "execution_count": null,
   "metadata": {},
   "outputs": [],
   "source": [
    "teams.columns"
   ]
  },
  {
   "cell_type": "code",
   "execution_count": null,
   "metadata": {},
   "outputs": [],
   "source": [
    "num_cols_normalize = ['Numerical_Form', 'Home_Numerical_Form','Away_Numerical_Form', 'Strength', 'Home_Strength', 'Away_Strength', 'Defence_Strength', 'Home_Defence_Strength', 'Away_Defence_Strength', 'Away_Attack_Strength', 'Home_Attack_Strength', 'Attack_Strength']"
   ]
  },
  {
   "cell_type": "code",
   "execution_count": null,
   "metadata": {},
   "outputs": [],
   "source": [
    "from sklearn.preprocessing import MinMaxScaler\n",
    "\n",
    "\n",
    "# Fill null values with previous values\n",
    "teams[num_cols_normalize] = teams[num_cols_normalize]\n",
    "# Initialize the Min-Max Scaler\n",
    "scaler = MinMaxScaler()\n",
    "\n",
    "# Fit and transform the selected columns to scale them between 0 and 1\n",
    "teams[num_cols_normalize] = scaler.fit_transform(teams[num_cols_normalize])\n",
    "\n"
   ]
  },
  {
   "cell_type": "code",
   "execution_count": null,
   "metadata": {},
   "outputs": [],
   "source": [
    "teams.columns"
   ]
  },
  {
   "cell_type": "code",
   "execution_count": null,
   "metadata": {},
   "outputs": [],
   "source": [
    "filtered_teams = teams.loc[:, ['team_id', 'team_name', 'team_short_name', \n",
    "    'unavailable','event_id', 'fixture_id', 'fixture_difficulty','is_home','kickoff_time', 'started',\n",
    "    'Attack_Strength','team_score',\n",
    "    'Form', 'Numerical_Form','Win_percentage', 'Strength', 'Defence_Strength',\n",
    "    'Home_Form','Home_Numerical_Form','Home_Win_percentage','Home_Strength', 'Home_Defence_Strength', 'Home_Attack_Strength',\n",
    "    'Away_Form', 'Away_Numerical_Form', 'Away_Win_percentage','Away_Strength', 'Away_Defence_Strength', 'Away_Attack_Strength'\n",
    "    ]]"
   ]
  },
  {
   "cell_type": "code",
   "execution_count": null,
   "metadata": {},
   "outputs": [],
   "source": [
    "filtered_teams.to_csv('filtered_teams.csv', index=False)"
   ]
  },
  {
   "cell_type": "code",
   "execution_count": null,
   "metadata": {},
   "outputs": [],
   "source": [
    "Man_United = filtered_teams[teams['team_short_name']=='MUN']\n",
    "Man_United.loc[:,['Form','Numerical_Form','Win_percentage', 'Strength', 'Defence_Strength',\n",
    "    'Home_Form','Home_Numerical_Form','Home_Win_percentage','Home_Strength', 'Home_Defence_Strength', 'Home_Attack_Strength',\n",
    "    'Away_Form', 'Away_Numerical_Form', 'Away_Win_percentage','Away_Strength', 'Away_Defence_Strength', 'Away_Attack_Strength'\n",
    "    ]]"
   ]
  },
  {
   "cell_type": "code",
   "execution_count": null,
   "metadata": {},
   "outputs": [],
   "source": []
  }
 ],
 "metadata": {
  "kernelspec": {
   "display_name": "NewEnv",
   "language": "python",
   "name": "python3"
  },
  "language_info": {
   "codemirror_mode": {
    "name": "ipython",
    "version": 3
   },
   "file_extension": ".py",
   "mimetype": "text/x-python",
   "name": "python",
   "nbconvert_exporter": "python",
   "pygments_lexer": "ipython3",
   "version": "3.8.13"
  }
 },
 "nbformat": 4,
 "nbformat_minor": 2
}
