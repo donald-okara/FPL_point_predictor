{
 "cells": [
  {
   "cell_type": "code",
   "execution_count": 14,
   "metadata": {},
   "outputs": [
    {
     "name": "stdout",
     "output_type": "stream",
     "text": [
      "Libraries imported successfully......\n"
     ]
    }
   ],
   "source": [
    "#Importing libraries\n",
    "\n",
    "import pandas as pd \n",
    "import numpy as np\n",
    "import seaborn as sns \n",
    "import matplotlib.pyplot as plt \n",
    "import requests\n",
    "\n",
    "print(\"Libraries imported successfully......\")\n"
   ]
  },
  {
   "cell_type": "markdown",
   "metadata": {},
   "source": [
    "# i. Player data Current Season\n"
   ]
  },
  {
   "cell_type": "code",
   "execution_count": 15,
   "metadata": {},
   "outputs": [
    {
     "name": "stdout",
     "output_type": "stream",
     "text": [
      "https://fantasy.premierleague.com/api/element-summary/308/\n"
     ]
    }
   ],
   "source": [
    "### Function to return player url \n",
    "def format_player_url(player_id):\n",
    "    # Define the base URL without curly brackets\n",
    "    base_url = 'https://fantasy.premierleague.com/api/element-summary/{}/'\n",
    "    \n",
    "    # Replace the placeholder '{}' with the actual player_id\n",
    "    formatted_url = base_url.format(player_id)\n",
    "    \n",
    "    return formatted_url\n",
    "\n",
    "# Example usage:\n",
    "player_id = 308  # Replace this with the actual player ID\n",
    "formatted_url = format_player_url(player_id)\n",
    "print(formatted_url)\n"
   ]
  },
  {
   "cell_type": "code",
   "execution_count": 16,
   "metadata": {},
   "outputs": [],
   "source": [
    "#This cell imports individual player information\n",
    "r = requests.get(format_player_url(308))\n",
    "player_json = r.json()\n",
    "player_fixtures_df = pd.DataFrame(player_json['fixtures'])\n",
    "player_history_df = pd.DataFrame(player_json['history'])\n",
    "player_history_past_df = pd.DataFrame(player_json['history_past'])\n",
    "\n"
   ]
  },
  {
   "cell_type": "code",
   "execution_count": 17,
   "metadata": {},
   "outputs": [],
   "source": [
    "# Imported full data from last seasons\n",
    "\n",
    "url = 'https://fantasy.premierleague.com/api/bootstrap-static/'\n",
    "r = requests.get(url)\n",
    "json = r.json()\n",
    "\n",
    "\n",
    "#Convert to df\n",
    "\n",
    "elements_df = pd.DataFrame(json['elements'])"
   ]
  },
  {
   "cell_type": "code",
   "execution_count": 18,
   "metadata": {},
   "outputs": [],
   "source": [
    "elements = elements_df.loc[:,['id','team','web_name','first_name','second_name']]\n",
    "elements = elements.rename(columns = {'id': 'player_id', 'team':'team_id'})"
   ]
  },
  {
   "cell_type": "code",
   "execution_count": 19,
   "metadata": {},
   "outputs": [],
   "source": [
    "# List of columns to drop\n",
    "columns_to_drop = ['bonus','was_home', 'bps', 'influence', 'creativity', 'kickoff_time',\n",
    "       'threat', 'ict_index', 'starts', 'expected_goals', 'expected_assists',\n",
    "       'expected_goal_involvements', 'expected_goals_conceded', 'value',\n",
    "       'transfers_balance', 'selected', 'transfers_in', 'transfers_out','fixture', 'round']\n",
    "\n",
    "# Use the drop method to remove the specified columns\n",
    "player_history_df.drop(columns=columns_to_drop, inplace=True)\n"
   ]
  },
  {
   "cell_type": "code",
   "execution_count": 20,
   "metadata": {},
   "outputs": [],
   "source": [
    "player = player_history_df.rename(columns = {'element': 'player_id'})\n"
   ]
  },
  {
   "cell_type": "code",
   "execution_count": 21,
   "metadata": {},
   "outputs": [],
   "source": [
    "filtered_teams = pd.read_csv('filtered_teams.csv')"
   ]
  },
  {
   "cell_type": "code",
   "execution_count": 22,
   "metadata": {},
   "outputs": [],
   "source": [
    "player =  player.merge(elements, on = 'player_id')\n",
    "player = player.merge(filtered_teams, on = \"team_id\")"
   ]
  },
  {
   "cell_type": "markdown",
   "metadata": {},
   "source": [
    "# ii. Analysis"
   ]
  },
  {
   "cell_type": "code",
   "execution_count": 23,
   "metadata": {},
   "outputs": [
    {
     "data": {
      "text/plain": [
       "Index(['player_id', 'opponent_team', 'total_points', 'team_h_score',\n",
       "       'team_a_score', 'minutes', 'goals_scored', 'assists', 'clean_sheets',\n",
       "       'goals_conceded', 'own_goals', 'penalties_saved', 'penalties_missed',\n",
       "       'yellow_cards', 'red_cards', 'saves', 'team_id', 'web_name',\n",
       "       'first_name', 'second_name', 'team_name', 'team_short_name',\n",
       "       'unavailable', 'event_id', 'fixture_id', 'fixture_difficulty',\n",
       "       'is_home', 'kickoff_time', 'started', 'Attack_Strength', 'team_score',\n",
       "       'Form', 'Numerical_Form', 'Win_percentage', 'Strength',\n",
       "       'Defence_Strength', 'Home_Form', 'Home_Numerical_Form',\n",
       "       'Home_Win_percentage', 'Home_Strength', 'Home_Defence_Strength',\n",
       "       'Home_Attack_Strength', 'Away_Form', 'Away_Numerical_Form',\n",
       "       'Away_Win_percentage', 'Away_Strength', 'Away_Defence_Strength',\n",
       "       'Away_Attack_Strength'],\n",
       "      dtype='object')"
      ]
     },
     "execution_count": 23,
     "metadata": {},
     "output_type": "execute_result"
    }
   ],
   "source": [
    "player.columns"
   ]
  },
  {
   "cell_type": "code",
   "execution_count": 25,
   "metadata": {},
   "outputs": [],
   "source": [
    "#Features_engineered = ['Minutes_per_game', 'Player_Strength', 'XA', 'XG', 'XS']\n",
    "features = ['fixture_difficulty','kickoff_time', 'started',\n",
    "       'is_home', 'Attack_Strength', 'team_score', 'Form', 'Numerical_Form',\n",
    "       'Win_percentage', 'Strength', 'Defence_Strength', 'Home_Form',\n",
    "       'Home_Numerical_Form', 'Home_Win_percentage', 'Home_Strength',\n",
    "       'Home_Defence_Strength', 'Home_Attack_Strength', 'Away_Form',\n",
    "       'Away_Numerical_Form', 'Away_Win_percentage', 'Away_Strength',\n",
    "       'Away_Defence_Strength', 'Away_Attack_Strength']\n",
    "labels = ['goals_scored', 'assists', 'clean_sheets', 'goals_conceded', 'saves']"
   ]
  },
  {
   "cell_type": "code",
   "execution_count": null,
   "metadata": {},
   "outputs": [],
   "source": []
  }
 ],
 "metadata": {
  "kernelspec": {
   "display_name": "NewEnv",
   "language": "python",
   "name": "python3"
  },
  "language_info": {
   "codemirror_mode": {
    "name": "ipython",
    "version": 3
   },
   "file_extension": ".py",
   "mimetype": "text/x-python",
   "name": "python",
   "nbconvert_exporter": "python",
   "pygments_lexer": "ipython3",
   "version": "3.8.13"
  },
  "orig_nbformat": 4
 },
 "nbformat": 4,
 "nbformat_minor": 2
}
