{
 "cells": [
  {
   "cell_type": "markdown",
   "metadata": {},
   "source": [
    "The link to all these APIs is: https://www.game-change.co.uk/2023/02/10/a-complete-guide-to-the-fantasy-premier-league-fpl-api/\n",
    "\n",
    "Descriptions of each dataframe are in the notes."
   ]
  },
  {
   "cell_type": "code",
   "execution_count": null,
   "metadata": {},
   "outputs": [],
   "source": [
    "#Importing libraries\n",
    "\n",
    "import pandas as pd \n",
    "import numpy as np\n",
    "import seaborn as sns \n",
    "import matplotlib.pyplot as plt \n",
    "import requests\n",
    "\n",
    "print(\"Libraries imported successfully......\")"
   ]
  },
  {
   "cell_type": "markdown",
   "metadata": {},
   "source": [
    "### i. Add fixture data to the teams data"
   ]
  },
  {
   "cell_type": "markdown",
   "metadata": {},
   "source": [
    "a) Teams DF"
   ]
  },
  {
   "cell_type": "code",
   "execution_count": null,
   "metadata": {},
   "outputs": [],
   "source": [
    "# Imported full data from last seasons\n",
    "\n",
    "url = 'https://fantasy.premierleague.com/api/bootstrap-static/'\n",
    "r = requests.get(url)\n",
    "json = r.json()\n",
    "\n",
    "\n",
    "#Convert to df\n",
    "\n",
    "elements_df = pd.DataFrame(json['elements'])\n",
    "elements_types_df = pd.DataFrame(json['element_types'])\n",
    "teams_df = pd.DataFrame(json['teams'])"
   ]
  },
  {
   "cell_type": "code",
   "execution_count": null,
   "metadata": {},
   "outputs": [],
   "source": [
    "def append_event_id(teams_df):\n",
    "    # Create an empty DataFrame to store the expanded data\n",
    "    expanded_df = pd.DataFrame()\n",
    "\n",
    "    # Iterate through events from 1 to 38\n",
    "    for event_id in range(1, 39):\n",
    "        # Create a temporary DataFrame for the current event\n",
    "        temp_df = teams_df.copy()\n",
    "        \n",
    "        # Set the 'event_id' column to the current event ID\n",
    "        temp_df['event_id'] = event_id\n",
    "        \n",
    "        # Append the temporary DataFrame to the expanded DataFrame\n",
    "        expanded_df = pd.concat([expanded_df, temp_df], ignore_index=True)\n",
    "    \n",
    "    return expanded_df\n",
    "\n",
    "# Call the function to create an expanded DataFrame with 'event_id'\n",
    "expanded_teams_df = append_event_id(teams_df)\n"
   ]
  },
  {
   "cell_type": "markdown",
   "metadata": {},
   "source": [
    "b) Fixture DF"
   ]
  },
  {
   "cell_type": "code",
   "execution_count": null,
   "metadata": {},
   "outputs": [],
   "source": [
    "import requests\n",
    "import pandas as pd\n",
    "\n",
    "def fetch_fixture_data(event_id):\n",
    "    # Define the base URL with the event_id\n",
    "    base_url = f'https://fantasy.premierleague.com/api/fixtures/?event={event_id}'\n",
    "    \n",
    "    # Replace the placeholder '{}' with the actual event_id\n",
    "    formatted_url = base_url.format(event_id)\n",
    "    \n",
    "    # Send an HTTP GET request to the API endpoint\n",
    "    response = requests.get(formatted_url)\n",
    "    \n",
    "    # Check if the request was successful (status code 200)\n",
    "    if response.status_code == 200:\n",
    "        # Parse the JSON response to get fixture data\n",
    "        fixture_json = response.json()\n",
    "        \n",
    "        # Create a DataFrame from the fixture data\n",
    "        fixture_data = pd.DataFrame(fixture_json)\n",
    "        \n",
    "        return fixture_data\n",
    "    else:\n",
    "        print(f\"Request failed for event {event_id} with status code {response.status_code}\")\n",
    "        return None  # Return None in case of a failed request\n"
   ]
  },
  {
   "cell_type": "code",
   "execution_count": null,
   "metadata": {},
   "outputs": [],
   "source": [
    "# Create an empty DataFrame to store the expanded fixture data\n",
    "expanded_fixture_df = pd.DataFrame()\n",
    "\n",
    "# Iterate through events from 1 to 38\n",
    "for event_id in range(1, 39):\n",
    "# Get fixture data for the current event\n",
    "    fixture_data = fetch_fixture_data(event_id)\n",
    "        \n",
    "    # Create a temporary DataFrame for the fixture data\n",
    "    temp_df = fixture_data.copy()\n",
    "        \n",
    "    # Set the 'event_id' column to the current event ID\n",
    "    temp_df['event_id'] = event_id\n",
    "        \n",
    "    # Append the temporary DataFrame to the expanded fixture DataFrame\n",
    "    expanded_fixture_df = pd.concat([expanded_fixture_df, temp_df], ignore_index=True)\n",
    "    \n",
    "    "
   ]
  },
  {
   "cell_type": "code",
   "execution_count": null,
   "metadata": {},
   "outputs": [],
   "source": [
    "# Renaming columns\n",
    "expanded_teams_df = expanded_teams_df.rename(columns={'name' : 'team_name', 'id':'team_id', 'short_name' : 'team_short_name'})\n",
    "expanded_fixture_df = expanded_fixture_df.rename(columns={'id':'fixture_id'})"
   ]
  },
  {
   "cell_type": "markdown",
   "metadata": {},
   "source": [
    "#### i.i) Get fixture id"
   ]
  },
  {
   "cell_type": "code",
   "execution_count": null,
   "metadata": {},
   "outputs": [],
   "source": [
    "def get_fixture_id(event_id,team_id):\n",
    "    for idx, row in expanded_fixture_df.iterrows():\n",
    "        if event_id == row['event_id']:\n",
    "            if team_id == row['team_a'] or team_id == row['team_h']:\n",
    "                return row['fixture_id']\n",
    "    return None  # Return None if no matching fixture is found\n",
    "\n",
    "# Assuming you want to calculate and assign fixture IDs for all teams in teams_df\n",
    "expanded_teams_df['fixture_id'] = expanded_teams_df.apply(lambda row: get_fixture_id(row['event_id'], row['team_id']), axis=1)\n"
   ]
  },
  {
   "cell_type": "markdown",
   "metadata": {},
   "source": [
    "#### i.ii) Get fixture difficulty\n",
    "\n"
   ]
  },
  {
   "cell_type": "code",
   "execution_count": null,
   "metadata": {},
   "outputs": [],
   "source": [
    "def get_fixture_difficulty(team_id, fixture_id):\n",
    "    for idx, row in expanded_fixture_df.iterrows():\n",
    "        if fixture_id == row['fixture_id']:\n",
    "            if team_id == row['team_a']:\n",
    "                return row['team_a_difficulty']\n",
    "\n",
    "            elif team_id == row['team_h']:\n",
    "                return row['team_h_difficulty']\n",
    "    return None  # Return None if no matching fixture is found\n",
    "\n",
    "# Assuming you want to calculate and assign fixture difficulties for all teams in teams_df\n",
    "expanded_teams_df['fixture_difficulty'] = expanded_teams_df.apply(lambda row: get_fixture_difficulty(row['team_id'], row['fixture_id']), axis=1)\n"
   ]
  },
  {
   "cell_type": "markdown",
   "metadata": {},
   "source": [
    "#### i.iii) Team and opponent score"
   ]
  },
  {
   "cell_type": "code",
   "execution_count": null,
   "metadata": {},
   "outputs": [],
   "source": [
    "def get_opponent_team(team_id, fixture_id):\n",
    "    for idx, row in expanded_fixture_df.iterrows():\n",
    "        if fixture_id == row['fixture_id']:\n",
    "            if team_id == row['team_a']:\n",
    "                return row['team_h']\n",
    "\n",
    "            elif team_id == row['team_h']:\n",
    "                return row['team_a']\n",
    "    return None  # Return None if no matching fixture is found\n",
    "\n",
    "# Assuming you want to calculate and assign fixture difficulties for all teams in teams_df\n",
    "expanded_teams_df['opponent_team'] = expanded_teams_df.apply(lambda row: get_opponent_team(row['team_id'], row['fixture_id']), axis=1)\n"
   ]
  },
  {
   "cell_type": "code",
   "execution_count": null,
   "metadata": {},
   "outputs": [],
   "source": [
    "def get_opponent_score(team_id, fixture_id):\n",
    "    for idx, row in expanded_fixture_df.iterrows():\n",
    "        if fixture_id == row['fixture_id']:\n",
    "            if team_id == row['team_a']:\n",
    "                return row['team_h_score']\n",
    "\n",
    "            elif team_id == row['team_h']:\n",
    "                return row['team_a_score']\n",
    "    return None  # Return None if no matching fixture is found\n",
    "\n",
    "# Assuming you want to calculate and assign fixture difficulties for all teams in teams_df\n",
    "expanded_teams_df['opponent_score'] = expanded_teams_df.apply(lambda row: get_opponent_score(row['team_id'], row['fixture_id']), axis=1)\n"
   ]
  },
  {
   "cell_type": "code",
   "execution_count": null,
   "metadata": {},
   "outputs": [],
   "source": [
    "def get_team_score(team_id, fixture_id):\n",
    "    for idx, row in expanded_fixture_df.iterrows():\n",
    "        if fixture_id == row['fixture_id']:\n",
    "            if team_id == row['team_a']:\n",
    "                return row['team_a_score']\n",
    "\n",
    "            elif team_id == row['team_h']:\n",
    "                return row['team_h_score']\n",
    "    return None  # Return None if no matching fixture is found\n",
    "\n",
    "# Assuming you want to calculate and assign fixture difficulties for all teams in teams_df\n",
    "expanded_teams_df['team_score'] = expanded_teams_df.apply(lambda row: get_team_score(row['team_id'], row['fixture_id']), axis=1)\n"
   ]
  },
  {
   "cell_type": "code",
   "execution_count": null,
   "metadata": {},
   "outputs": [],
   "source": [
    "def get_finished_status(team_id, fixture_id):\n",
    "    for idx, row in expanded_fixture_df.iterrows():\n",
    "        if fixture_id == row['fixture_id']:\n",
    "            return row['finished']\n",
    "\n",
    "\n",
    "\n",
    "# Assuming you want to calculate and assign fixture difficulties for all teams in teams_df\n",
    "expanded_teams_df['Game_played'] = expanded_teams_df.apply(lambda row: get_finished_status(row['team_id'], row['fixture_id']), axis=1)"
   ]
  },
  {
   "cell_type": "markdown",
   "metadata": {},
   "source": [
    "#### i.iv) If fixture is home"
   ]
  },
  {
   "cell_type": "code",
   "execution_count": null,
   "metadata": {},
   "outputs": [],
   "source": [
    "def get_home_status(team_id, fixture_id):\n",
    "    for idx, row in expanded_fixture_df.iterrows():\n",
    "        if fixture_id == row['fixture_id']:\n",
    "            if team_id == row['team_a']:\n",
    "                return False\n",
    "\n",
    "            elif team_id == row['team_h']:\n",
    "                return True\n",
    "    return None  # Return None if no matching fixture is found\n",
    "\n",
    "# Assuming you want to calculate and assign fixture difficulties for all teams in teams_df\n",
    "expanded_teams_df['is_home'] = expanded_teams_df.apply(lambda row: get_home_status(row['team_id'], row['fixture_id']), axis=1)\n"
   ]
  },
  {
   "cell_type": "markdown",
   "metadata": {},
   "source": [
    "### ii. Feature Engineering"
   ]
  },
  {
   "cell_type": "code",
   "execution_count": null,
   "metadata": {},
   "outputs": [],
   "source": [
    "# List of columns to drop\n",
    "columns_to_drop = ['played', 'points', 'position','strength_overall_home', 'strength_overall_away',\n",
    "       'strength_attack_home', 'strength_attack_away', 'strength_defence_home',\n",
    "       'strength_defence_away','draw', 'form','strength','win','loss','team_division']\n",
    "\n",
    "# Use the drop method to remove the specified columns\n",
    "expanded_teams_df.drop(columns=columns_to_drop, inplace=True)\n"
   ]
  },
  {
   "cell_type": "markdown",
   "metadata": {},
   "source": [
    "Gameweek Deadline variable"
   ]
  },
  {
   "cell_type": "code",
   "execution_count": null,
   "metadata": {},
   "outputs": [],
   "source": [
    "expanded_fixture_df['kickoff_time'] = pd.to_datetime(expanded_fixture_df['kickoff_time'])\n"
   ]
  },
  {
   "cell_type": "code",
   "execution_count": null,
   "metadata": {},
   "outputs": [],
   "source": [
    "from datetime import timedelta\n",
    "\n",
    "\n",
    "# Filter the DataFrame to get events where 'started' is False\n",
    "filtered_events = expanded_fixture_df[expanded_fixture_df['started'] == False]\n",
    "\n",
    "# Sort the filtered events by 'kickoff_time' in ascending order\n",
    "filtered_events = filtered_events.sort_values(by='kickoff_time')\n",
    "\n",
    "# Get the first event in the sorted list\n",
    "first_event = filtered_events.iloc[0]\n",
    "\n",
    "# Calculate an hour before the 'kickoff_time' of the first event\n",
    "Gameweek_Deadline = first_event['kickoff_time'] - timedelta(hours=1)\n",
    "\n",
    "# You can now use Gameweek_Deadline as your constant\n",
    "print(\"Gameweek_Deadline:\", Gameweek_Deadline)"
   ]
  },
  {
   "cell_type": "code",
   "execution_count": null,
   "metadata": {},
   "outputs": [],
   "source": [
    "expanded_teams_df.to_csv('expanded_teams_data.csv', index=False)\n"
   ]
  },
  {
   "cell_type": "code",
   "execution_count": null,
   "metadata": {},
   "outputs": [],
   "source": [
    "expanded_fixture_df"
   ]
  },
  {
   "cell_type": "code",
   "execution_count": null,
   "metadata": {},
   "outputs": [],
   "source": []
  }
 ],
 "metadata": {
  "kernelspec": {
   "display_name": "NewEnv",
   "language": "python",
   "name": "python3"
  },
  "language_info": {
   "codemirror_mode": {
    "name": "ipython",
    "version": 3
   },
   "file_extension": ".py",
   "mimetype": "text/x-python",
   "name": "python",
   "nbconvert_exporter": "python",
   "pygments_lexer": "ipython3",
   "version": "3.8.13"
  },
  "orig_nbformat": 4
 },
 "nbformat": 4,
 "nbformat_minor": 2
}
